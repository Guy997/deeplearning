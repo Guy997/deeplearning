{
 "cells": [
  {
   "cell_type": "code",
   "execution_count": 1,
   "metadata": {
    "ExecuteTime": {
     "end_time": "2018-01-10T09:59:57.882916Z",
     "start_time": "2018-01-10T09:59:54.269562Z"
    }
   },
   "outputs": [
    {
     "name": "stderr",
     "output_type": "stream",
     "text": [
      "Using cuDNN version 6021 on context None\n",
      "Mapped name None to device cuda0: GeForce GTX TITAN X (0000:04:00.0)\n",
      "Using Theano backend.\n"
     ]
    }
   ],
   "source": [
    "from __future__ import division, print_function\n",
    "%matplotlib inline\n",
    "from importlib import reload  # Python 3\n",
    "import utils; reload(utils)\n",
    "from utils import *"
   ]
  },
  {
   "cell_type": "markdown",
   "metadata": {},
   "source": [
    "## Setup"
   ]
  },
  {
   "cell_type": "code",
   "execution_count": 2,
   "metadata": {
    "ExecuteTime": {
     "end_time": "2018-01-10T09:59:57.886340Z",
     "start_time": "2018-01-10T09:59:57.884343Z"
    }
   },
   "outputs": [],
   "source": [
    "batch_size=64"
   ]
  },
  {
   "cell_type": "code",
   "execution_count": 3,
   "metadata": {
    "ExecuteTime": {
     "end_time": "2018-01-10T09:59:58.186060Z",
     "start_time": "2018-01-10T09:59:57.887631Z"
    }
   },
   "outputs": [
    {
     "data": {
      "text/plain": [
       "((60000, 28, 28), (60000,), (10000, 28, 28), (10000,))"
      ]
     },
     "execution_count": 3,
     "metadata": {},
     "output_type": "execute_result"
    }
   ],
   "source": [
    "from keras.datasets import mnist\n",
    "(X_train, y_train), (X_test, y_test) = mnist.load_data()\n",
    "(X_train.shape, y_train.shape, X_test.shape, y_test.shape)"
   ]
  },
  {
   "cell_type": "code",
   "execution_count": 4,
   "metadata": {
    "ExecuteTime": {
     "end_time": "2018-01-10T09:59:58.189375Z",
     "start_time": "2018-01-10T09:59:58.187285Z"
    }
   },
   "outputs": [],
   "source": [
    "X_test = np.expand_dims(X_test,1)\n",
    "X_train = np.expand_dims(X_train,1)"
   ]
  },
  {
   "cell_type": "code",
   "execution_count": 5,
   "metadata": {
    "ExecuteTime": {
     "end_time": "2018-01-10T09:59:58.216752Z",
     "start_time": "2018-01-10T09:59:58.190657Z"
    }
   },
   "outputs": [
    {
     "data": {
      "text/plain": [
       "(60000, 1, 28, 28)"
      ]
     },
     "execution_count": 5,
     "metadata": {},
     "output_type": "execute_result"
    }
   ],
   "source": [
    "X_train.shape"
   ]
  },
  {
   "cell_type": "code",
   "execution_count": 6,
   "metadata": {
    "ExecuteTime": {
     "end_time": "2018-01-10T09:59:58.246348Z",
     "start_time": "2018-01-10T09:59:58.219139Z"
    }
   },
   "outputs": [
    {
     "data": {
      "text/plain": [
       "array([5, 0, 4, 1, 9], dtype=uint8)"
      ]
     },
     "execution_count": 6,
     "metadata": {},
     "output_type": "execute_result"
    }
   ],
   "source": [
    "y_train[:5]"
   ]
  },
  {
   "cell_type": "code",
   "execution_count": 7,
   "metadata": {
    "ExecuteTime": {
     "end_time": "2018-01-10T09:59:58.270036Z",
     "start_time": "2018-01-10T09:59:58.248509Z"
    }
   },
   "outputs": [],
   "source": [
    "y_train = onehot(y_train)\n",
    "y_test = onehot(y_test)"
   ]
  },
  {
   "cell_type": "code",
   "execution_count": 8,
   "metadata": {
    "ExecuteTime": {
     "end_time": "2018-01-10T09:59:58.291303Z",
     "start_time": "2018-01-10T09:59:58.271953Z"
    }
   },
   "outputs": [
    {
     "data": {
      "text/plain": [
       "array([[ 0.,  0.,  0.,  0.,  0.,  1.,  0.,  0.,  0.,  0.],\n",
       "       [ 1.,  0.,  0.,  0.,  0.,  0.,  0.,  0.,  0.,  0.],\n",
       "       [ 0.,  0.,  0.,  0.,  1.,  0.,  0.,  0.,  0.,  0.],\n",
       "       [ 0.,  1.,  0.,  0.,  0.,  0.,  0.,  0.,  0.,  0.],\n",
       "       [ 0.,  0.,  0.,  0.,  0.,  0.,  0.,  0.,  0.,  1.]])"
      ]
     },
     "execution_count": 8,
     "metadata": {},
     "output_type": "execute_result"
    }
   ],
   "source": [
    "y_train[:5]"
   ]
  },
  {
   "cell_type": "code",
   "execution_count": 9,
   "metadata": {
    "ExecuteTime": {
     "end_time": "2018-01-10T09:59:58.523338Z",
     "start_time": "2018-01-10T09:59:58.292959Z"
    }
   },
   "outputs": [],
   "source": [
    "mean_px = X_train.mean().astype(np.float32)\n",
    "std_px = X_train.std().astype(np.float32)"
   ]
  },
  {
   "cell_type": "code",
   "execution_count": 10,
   "metadata": {
    "ExecuteTime": {
     "end_time": "2018-01-10T09:59:58.526838Z",
     "start_time": "2018-01-10T09:59:58.524587Z"
    }
   },
   "outputs": [],
   "source": [
    "def norm_input(x): return (x-mean_px)/std_px"
   ]
  },
  {
   "cell_type": "markdown",
   "metadata": {},
   "source": [
    "## Linear model"
   ]
  },
  {
   "cell_type": "code",
   "execution_count": 11,
   "metadata": {
    "ExecuteTime": {
     "end_time": "2018-01-10T09:59:58.550055Z",
     "start_time": "2018-01-10T09:59:58.529102Z"
    }
   },
   "outputs": [],
   "source": [
    "def get_lin_model():\n",
    "    model = Sequential([\n",
    "        Lambda(norm_input, input_shape=(1,28,28)),\n",
    "        Flatten(),\n",
    "        Dense(10, activation='softmax')\n",
    "        ])\n",
    "    model.compile(Adam(), loss='categorical_crossentropy', metrics=['accuracy'])\n",
    "    return model"
   ]
  },
  {
   "cell_type": "code",
   "execution_count": 12,
   "metadata": {
    "ExecuteTime": {
     "end_time": "2018-01-10T10:00:02.261738Z",
     "start_time": "2018-01-10T09:59:58.551425Z"
    }
   },
   "outputs": [
    {
     "name": "stderr",
     "output_type": "stream",
     "text": [
      "/home/roebius/anaconda/envs/f1/lib/python3.5/site-packages/keras/layers/core.py:630: UserWarning: `output_shape` argument not specified for layer lambda_1 and cannot be automatically inferred with the Theano backend. Defaulting to output shape `(None, 1, 28, 28)` (same as input shape). If the expected output shape is different, specify it via the `output_shape` argument.\n",
      "  .format(self.name, input_shape))\n"
     ]
    }
   ],
   "source": [
    "lm = get_lin_model()"
   ]
  },
  {
   "cell_type": "code",
   "execution_count": 13,
   "metadata": {
    "ExecuteTime": {
     "end_time": "2018-01-10T10:00:02.312092Z",
     "start_time": "2018-01-10T10:00:02.264302Z"
    }
   },
   "outputs": [],
   "source": [
    "gen = image.ImageDataGenerator()\n",
    "batches = gen.flow(X_train, y_train, batch_size=batch_size)\n",
    "test_batches = gen.flow(X_test, y_test, batch_size=batch_size)\n",
    "steps_per_epoch = int(np.ceil(batches.n/batch_size))\n",
    "validation_steps = int(np.ceil(test_batches.n/batch_size))"
   ]
  },
  {
   "cell_type": "code",
   "execution_count": 14,
   "metadata": {
    "ExecuteTime": {
     "end_time": "2018-01-10T10:00:13.408935Z",
     "start_time": "2018-01-10T10:00:02.313783Z"
    }
   },
   "outputs": [
    {
     "name": "stdout",
     "output_type": "stream",
     "text": [
      "Epoch 1/1\n",
      "938/938 [==============================] - 3s 3ms/step - loss: 0.4178 - acc: 0.8771 - val_loss: 0.3119 - val_acc: 0.9121\n"
     ]
    },
    {
     "data": {
      "text/plain": [
       "<keras.callbacks.History at 0x7f97bfab98d0>"
      ]
     },
     "execution_count": 14,
     "metadata": {},
     "output_type": "execute_result"
    }
   ],
   "source": [
    "lm.fit_generator(batches, steps_per_epoch=steps_per_epoch, epochs=1, \n",
    "                    validation_data=test_batches, validation_steps=validation_steps)"
   ]
  },
  {
   "cell_type": "code",
   "execution_count": 15,
   "metadata": {
    "ExecuteTime": {
     "end_time": "2018-01-10T10:00:13.414689Z",
     "start_time": "2018-01-10T10:00:13.411531Z"
    }
   },
   "outputs": [],
   "source": [
    "lm.optimizer.lr=0.1"
   ]
  },
  {
   "cell_type": "code",
   "execution_count": 16,
   "metadata": {
    "ExecuteTime": {
     "end_time": "2018-01-10T10:00:15.757924Z",
     "start_time": "2018-01-10T10:00:13.417763Z"
    }
   },
   "outputs": [
    {
     "name": "stdout",
     "output_type": "stream",
     "text": [
      "Epoch 1/1\n",
      "938/938 [==============================] - 2s 2ms/step - loss: 0.2978 - acc: 0.9152 - val_loss: 0.2823 - val_acc: 0.9195\n"
     ]
    },
    {
     "data": {
      "text/plain": [
       "<keras.callbacks.History at 0x7f97bf207cf8>"
      ]
     },
     "execution_count": 16,
     "metadata": {},
     "output_type": "execute_result"
    }
   ],
   "source": [
    "lm.fit_generator(batches, steps_per_epoch=steps_per_epoch, epochs=1, \n",
    "                    validation_data=test_batches, validation_steps=validation_steps)"
   ]
  },
  {
   "cell_type": "code",
   "execution_count": 17,
   "metadata": {
    "ExecuteTime": {
     "end_time": "2018-01-10T10:00:15.763706Z",
     "start_time": "2018-01-10T10:00:15.760579Z"
    }
   },
   "outputs": [],
   "source": [
    "lm.optimizer.lr=0.01"
   ]
  },
  {
   "cell_type": "code",
   "execution_count": 18,
   "metadata": {
    "ExecuteTime": {
     "end_time": "2018-01-10T10:00:24.631147Z",
     "start_time": "2018-01-10T10:00:15.766329Z"
    },
    "scrolled": true
   },
   "outputs": [
    {
     "name": "stdout",
     "output_type": "stream",
     "text": [
      "Epoch 1/4\n",
      "938/938 [==============================] - 2s 3ms/step - loss: 0.2860 - acc: 0.9203 - val_loss: 0.2839 - val_acc: 0.9183\n",
      "Epoch 2/4\n",
      "938/938 [==============================] - 2s 2ms/step - loss: 0.2773 - acc: 0.9226 - val_loss: 0.2776 - val_acc: 0.9227\n",
      "Epoch 3/4\n",
      "938/938 [==============================] - 2s 2ms/step - loss: 0.2737 - acc: 0.9236 - val_loss: 0.3046 - val_acc: 0.9113\n",
      "Epoch 4/4\n",
      "938/938 [==============================] - 2s 2ms/step - loss: 0.2698 - acc: 0.9246 - val_loss: 0.2723 - val_acc: 0.9247\n"
     ]
    },
    {
     "data": {
      "text/plain": [
       "<keras.callbacks.History at 0x7f97bf2165f8>"
      ]
     },
     "execution_count": 18,
     "metadata": {},
     "output_type": "execute_result"
    }
   ],
   "source": [
    "lm.fit_generator(batches, steps_per_epoch=steps_per_epoch, epochs=4, \n",
    "                    validation_data=test_batches, validation_steps=validation_steps)"
   ]
  },
  {
   "cell_type": "markdown",
   "metadata": {},
   "source": [
    "## Single dense layer"
   ]
  },
  {
   "cell_type": "code",
   "execution_count": 19,
   "metadata": {
    "ExecuteTime": {
     "end_time": "2018-01-10T10:00:24.647602Z",
     "start_time": "2018-01-10T10:00:24.634252Z"
    }
   },
   "outputs": [],
   "source": [
    "def get_fc_model():\n",
    "    model = Sequential([\n",
    "        Lambda(norm_input, input_shape=(1,28,28)),\n",
    "        Flatten(),\n",
    "        Dense(512, activation='softmax'),\n",
    "        Dense(10, activation='softmax')\n",
    "        ])\n",
    "    model.compile(Adam(), loss='categorical_crossentropy', metrics=['accuracy'])\n",
    "    return model"
   ]
  },
  {
   "cell_type": "code",
   "execution_count": 20,
   "metadata": {
    "ExecuteTime": {
     "end_time": "2018-01-10T10:00:25.007212Z",
     "start_time": "2018-01-10T10:00:24.650859Z"
    }
   },
   "outputs": [
    {
     "name": "stderr",
     "output_type": "stream",
     "text": [
      "/home/roebius/anaconda/envs/f1/lib/python3.5/site-packages/keras/layers/core.py:630: UserWarning: `output_shape` argument not specified for layer lambda_2 and cannot be automatically inferred with the Theano backend. Defaulting to output shape `(None, 1, 28, 28)` (same as input shape). If the expected output shape is different, specify it via the `output_shape` argument.\n",
      "  .format(self.name, input_shape))\n"
     ]
    }
   ],
   "source": [
    "fc = get_fc_model()"
   ]
  },
  {
   "cell_type": "code",
   "execution_count": 21,
   "metadata": {
    "ExecuteTime": {
     "end_time": "2018-01-10T10:00:28.784108Z",
     "start_time": "2018-01-10T10:00:25.008812Z"
    }
   },
   "outputs": [
    {
     "name": "stdout",
     "output_type": "stream",
     "text": [
      "Epoch 1/1\n",
      "938/938 [==============================] - 3s 3ms/step - loss: 1.5817 - acc: 0.7609 - val_loss: 1.0981 - val_acc: 0.7724\n"
     ]
    },
    {
     "data": {
      "text/plain": [
       "<keras.callbacks.History at 0x7f97fff3e240>"
      ]
     },
     "execution_count": 21,
     "metadata": {},
     "output_type": "execute_result"
    }
   ],
   "source": [
    "fc.fit_generator(batches, steps_per_epoch=steps_per_epoch, epochs=1, \n",
    "                    validation_data=test_batches, validation_steps=validation_steps)"
   ]
  },
  {
   "cell_type": "code",
   "execution_count": 22,
   "metadata": {
    "ExecuteTime": {
     "end_time": "2018-01-10T10:00:28.790871Z",
     "start_time": "2018-01-10T10:00:28.787037Z"
    }
   },
   "outputs": [],
   "source": [
    "fc.optimizer.lr=0.1"
   ]
  },
  {
   "cell_type": "code",
   "execution_count": 23,
   "metadata": {
    "ExecuteTime": {
     "end_time": "2018-01-10T10:00:37.966147Z",
     "start_time": "2018-01-10T10:00:28.794136Z"
    }
   },
   "outputs": [
    {
     "name": "stdout",
     "output_type": "stream",
     "text": [
      "Epoch 1/4\n",
      "938/938 [==============================] - 3s 3ms/step - loss: 0.8852 - acc: 0.7764 - val_loss: 0.7259 - val_acc: 0.7800\n",
      "Epoch 2/4\n",
      "938/938 [==============================] - 2s 2ms/step - loss: 0.6535 - acc: 0.7878 - val_loss: 0.5818 - val_acc: 0.7923\n",
      "Epoch 3/4\n",
      "938/938 [==============================] - 2s 2ms/step - loss: 0.5229 - acc: 0.8339 - val_loss: 0.4818 - val_acc: 0.8424\n",
      "Epoch 4/4\n",
      "938/938 [==============================] - 2s 2ms/step - loss: 0.4507 - acc: 0.8515 - val_loss: 0.4345 - val_acc: 0.8551\n"
     ]
    },
    {
     "data": {
      "text/plain": [
       "<keras.callbacks.History at 0x7f97be2d9908>"
      ]
     },
     "execution_count": 23,
     "metadata": {},
     "output_type": "execute_result"
    }
   ],
   "source": [
    "fc.fit_generator(batches, steps_per_epoch=steps_per_epoch, epochs=4, \n",
    "                    validation_data=test_batches, validation_steps=validation_steps)"
   ]
  },
  {
   "cell_type": "code",
   "execution_count": 24,
   "metadata": {
    "ExecuteTime": {
     "end_time": "2018-01-10T10:00:37.970741Z",
     "start_time": "2018-01-10T10:00:37.968161Z"
    }
   },
   "outputs": [],
   "source": [
    "fc.optimizer.lr=0.01"
   ]
  },
  {
   "cell_type": "code",
   "execution_count": 25,
   "metadata": {
    "ExecuteTime": {
     "end_time": "2018-01-10T10:00:47.337557Z",
     "start_time": "2018-01-10T10:00:37.972559Z"
    },
    "scrolled": true
   },
   "outputs": [
    {
     "name": "stdout",
     "output_type": "stream",
     "text": [
      "Epoch 1/4\n",
      "938/938 [==============================] - 2s 3ms/step - loss: 0.4161 - acc: 0.8603 - val_loss: 0.4169 - val_acc: 0.8647\n",
      "Epoch 2/4\n",
      "938/938 [==============================] - 2s 2ms/step - loss: 0.3898 - acc: 0.8696 - val_loss: 0.4058 - val_acc: 0.8630\n",
      "Epoch 3/4\n",
      "938/938 [==============================] - 2s 3ms/step - loss: 0.3667 - acc: 0.8825 - val_loss: 0.3937 - val_acc: 0.8834\n",
      "Epoch 4/4\n",
      "938/938 [==============================] - 2s 3ms/step - loss: 0.3489 - acc: 0.8941 - val_loss: 0.3719 - val_acc: 0.8817\n"
     ]
    },
    {
     "data": {
      "text/plain": [
       "<keras.callbacks.History at 0x7f97be33dcf8>"
      ]
     },
     "execution_count": 25,
     "metadata": {},
     "output_type": "execute_result"
    }
   ],
   "source": [
    "fc.fit_generator(batches, steps_per_epoch=steps_per_epoch, epochs=4, \n",
    "                    validation_data=test_batches, validation_steps=validation_steps)"
   ]
  },
  {
   "cell_type": "markdown",
   "metadata": {},
   "source": [
    "## Basic 'VGG-style' CNN"
   ]
  },
  {
   "cell_type": "code",
   "execution_count": 26,
   "metadata": {
    "ExecuteTime": {
     "end_time": "2018-01-10T10:00:47.345824Z",
     "start_time": "2018-01-10T10:00:47.338797Z"
    }
   },
   "outputs": [],
   "source": [
    "def get_model():\n",
    "    model = Sequential([\n",
    "        Lambda(norm_input, input_shape=(1,28,28)),\n",
    "        Conv2D(32,(3,3), activation='relu'),\n",
    "        Conv2D(32,(3,3), activation='relu'),\n",
    "        MaxPooling2D(),\n",
    "        Conv2D(64,(3,3), activation='relu'),\n",
    "        Conv2D(64,(3,3), activation='relu'),\n",
    "        MaxPooling2D(),\n",
    "        Flatten(),\n",
    "        Dense(512, activation='relu'),\n",
    "        Dense(10, activation='softmax')\n",
    "        ])\n",
    "    model.compile(Adam(), loss='categorical_crossentropy', metrics=['accuracy'])\n",
    "    return model"
   ]
  },
  {
   "cell_type": "code",
   "execution_count": 27,
   "metadata": {
    "ExecuteTime": {
     "end_time": "2018-01-10T10:00:48.636415Z",
     "start_time": "2018-01-10T10:00:47.346990Z"
    }
   },
   "outputs": [
    {
     "name": "stderr",
     "output_type": "stream",
     "text": [
      "/home/roebius/anaconda/envs/f1/lib/python3.5/site-packages/keras/layers/core.py:630: UserWarning: `output_shape` argument not specified for layer lambda_3 and cannot be automatically inferred with the Theano backend. Defaulting to output shape `(None, 1, 28, 28)` (same as input shape). If the expected output shape is different, specify it via the `output_shape` argument.\n",
      "  .format(self.name, input_shape))\n"
     ]
    }
   ],
   "source": [
    "model = get_model()"
   ]
  },
  {
   "cell_type": "code",
   "execution_count": 28,
   "metadata": {
    "ExecuteTime": {
     "end_time": "2018-01-10T10:01:05.530052Z",
     "start_time": "2018-01-10T10:00:48.637773Z"
    },
    "scrolled": true
   },
   "outputs": [
    {
     "name": "stdout",
     "output_type": "stream",
     "text": [
      "Epoch 1/1\n",
      "938/938 [==============================] - 7s 8ms/step - loss: 0.1092 - acc: 0.9662 - val_loss: 0.0368 - val_acc: 0.9877\n"
     ]
    },
    {
     "data": {
      "text/plain": [
       "<keras.callbacks.History at 0x7f97a4091438>"
      ]
     },
     "execution_count": 28,
     "metadata": {},
     "output_type": "execute_result"
    }
   ],
   "source": [
    "model.fit_generator(batches, steps_per_epoch=steps_per_epoch, epochs=1, \n",
    "                    validation_data=test_batches, validation_steps=validation_steps)"
   ]
  },
  {
   "cell_type": "code",
   "execution_count": 29,
   "metadata": {
    "ExecuteTime": {
     "end_time": "2018-01-10T10:01:05.536283Z",
     "start_time": "2018-01-10T10:01:05.532853Z"
    }
   },
   "outputs": [],
   "source": [
    "model.optimizer.lr=0.1"
   ]
  },
  {
   "cell_type": "code",
   "execution_count": 30,
   "metadata": {
    "ExecuteTime": {
     "end_time": "2018-01-10T10:01:12.415750Z",
     "start_time": "2018-01-10T10:01:05.539926Z"
    }
   },
   "outputs": [
    {
     "name": "stdout",
     "output_type": "stream",
     "text": [
      "Epoch 1/1\n",
      "938/938 [==============================] - 7s 7ms/step - loss: 0.0346 - acc: 0.9894 - val_loss: 0.0281 - val_acc: 0.9909\n"
     ]
    },
    {
     "data": {
      "text/plain": [
       "<keras.callbacks.History at 0x7f978e6e4c88>"
      ]
     },
     "execution_count": 30,
     "metadata": {},
     "output_type": "execute_result"
    }
   ],
   "source": [
    "model.fit_generator(batches, steps_per_epoch=steps_per_epoch, epochs=1, \n",
    "                    validation_data=test_batches, validation_steps=validation_steps)"
   ]
  },
  {
   "cell_type": "code",
   "execution_count": 31,
   "metadata": {
    "ExecuteTime": {
     "end_time": "2018-01-10T10:01:12.420096Z",
     "start_time": "2018-01-10T10:01:12.417519Z"
    }
   },
   "outputs": [],
   "source": [
    "model.optimizer.lr=0.01"
   ]
  },
  {
   "cell_type": "code",
   "execution_count": 32,
   "metadata": {
    "ExecuteTime": {
     "end_time": "2018-01-10T10:02:08.440612Z",
     "start_time": "2018-01-10T10:01:12.422467Z"
    }
   },
   "outputs": [
    {
     "name": "stdout",
     "output_type": "stream",
     "text": [
      "Epoch 1/8\n",
      "938/938 [==============================] - 7s 7ms/step - loss: 0.0250 - acc: 0.9922 - val_loss: 0.0320 - val_acc: 0.9892\n",
      "Epoch 2/8\n",
      "938/938 [==============================] - 7s 7ms/step - loss: 0.0185 - acc: 0.9939 - val_loss: 0.0439 - val_acc: 0.9868\n",
      "Epoch 3/8\n",
      "938/938 [==============================] - 7s 8ms/step - loss: 0.0148 - acc: 0.9952 - val_loss: 0.0336 - val_acc: 0.9917\n",
      "Epoch 4/8\n",
      "938/938 [==============================] - 7s 7ms/step - loss: 0.0126 - acc: 0.9961 - val_loss: 0.0263 - val_acc: 0.9926\n",
      "Epoch 5/8\n",
      "938/938 [==============================] - 7s 7ms/step - loss: 0.0109 - acc: 0.9965 - val_loss: 0.0273 - val_acc: 0.9923\n",
      "Epoch 6/8\n",
      "938/938 [==============================] - 7s 8ms/step - loss: 0.0099 - acc: 0.9970 - val_loss: 0.0370 - val_acc: 0.9905\n",
      "Epoch 7/8\n",
      "938/938 [==============================] - 7s 7ms/step - loss: 0.0099 - acc: 0.9967 - val_loss: 0.0284 - val_acc: 0.9922\n",
      "Epoch 8/8\n",
      "938/938 [==============================] - 7s 7ms/step - loss: 0.0058 - acc: 0.9982 - val_loss: 0.0298 - val_acc: 0.9931\n"
     ]
    },
    {
     "data": {
      "text/plain": [
       "<keras.callbacks.History at 0x7f978e6e1ac8>"
      ]
     },
     "execution_count": 32,
     "metadata": {},
     "output_type": "execute_result"
    }
   ],
   "source": [
    "model.fit_generator(batches, steps_per_epoch=steps_per_epoch, epochs=8, \n",
    "                    validation_data=test_batches, validation_steps=validation_steps)"
   ]
  },
  {
   "cell_type": "markdown",
   "metadata": {},
   "source": [
    "## Data augmentation"
   ]
  },
  {
   "cell_type": "code",
   "execution_count": 33,
   "metadata": {
    "ExecuteTime": {
     "end_time": "2018-01-10T10:02:08.913755Z",
     "start_time": "2018-01-10T10:02:08.443363Z"
    }
   },
   "outputs": [
    {
     "name": "stderr",
     "output_type": "stream",
     "text": [
      "/home/roebius/anaconda/envs/f1/lib/python3.5/site-packages/keras/layers/core.py:630: UserWarning: `output_shape` argument not specified for layer lambda_4 and cannot be automatically inferred with the Theano backend. Defaulting to output shape `(None, 1, 28, 28)` (same as input shape). If the expected output shape is different, specify it via the `output_shape` argument.\n",
      "  .format(self.name, input_shape))\n"
     ]
    }
   ],
   "source": [
    "model = get_model()"
   ]
  },
  {
   "cell_type": "code",
   "execution_count": 34,
   "metadata": {
    "ExecuteTime": {
     "end_time": "2018-01-10T10:02:08.949832Z",
     "start_time": "2018-01-10T10:02:08.915182Z"
    }
   },
   "outputs": [],
   "source": [
    "gen = image.ImageDataGenerator(rotation_range=8, width_shift_range=0.08, shear_range=0.3,\n",
    "                               height_shift_range=0.08, zoom_range=0.08)\n",
    "batches = gen.flow(X_train, y_train, batch_size=batch_size)\n",
    "test_batches = gen.flow(X_test, y_test, batch_size=batch_size)\n",
    "steps_per_epoch = int(np.ceil(batches.n/batch_size))\n",
    "validation_steps = int(np.ceil(test_batches.n/batch_size))"
   ]
  },
  {
   "cell_type": "code",
   "execution_count": 35,
   "metadata": {
    "ExecuteTime": {
     "end_time": "2018-01-10T10:02:26.545455Z",
     "start_time": "2018-01-10T10:02:08.951385Z"
    }
   },
   "outputs": [
    {
     "name": "stdout",
     "output_type": "stream",
     "text": [
      "Epoch 1/1\n",
      "938/938 [==============================] - 15s 16ms/step - loss: 0.1989 - acc: 0.9373 - val_loss: 0.0733 - val_acc: 0.9779\n"
     ]
    },
    {
     "data": {
      "text/plain": [
       "<keras.callbacks.History at 0x7f97d2f997f0>"
      ]
     },
     "execution_count": 35,
     "metadata": {},
     "output_type": "execute_result"
    }
   ],
   "source": [
    "model.fit_generator(batches, steps_per_epoch=steps_per_epoch, epochs=1, \n",
    "                    validation_data=test_batches, validation_steps=validation_steps)"
   ]
  },
  {
   "cell_type": "code",
   "execution_count": 36,
   "metadata": {
    "ExecuteTime": {
     "end_time": "2018-01-10T10:02:26.551500Z",
     "start_time": "2018-01-10T10:02:26.548192Z"
    }
   },
   "outputs": [],
   "source": [
    "model.optimizer.lr=0.1"
   ]
  },
  {
   "cell_type": "code",
   "execution_count": 37,
   "metadata": {
    "ExecuteTime": {
     "end_time": "2018-01-10T10:03:22.418797Z",
     "start_time": "2018-01-10T10:02:26.554081Z"
    }
   },
   "outputs": [
    {
     "name": "stdout",
     "output_type": "stream",
     "text": [
      "Epoch 1/4\n",
      "938/938 [==============================] - 14s 15ms/step - loss: 0.0722 - acc: 0.9773 - val_loss: 0.0600 - val_acc: 0.9806\n",
      "Epoch 2/4\n",
      "938/938 [==============================] - 13s 14ms/step - loss: 0.0562 - acc: 0.9820 - val_loss: 0.0511 - val_acc: 0.9852\n",
      "Epoch 3/4\n",
      "938/938 [==============================] - 15s 16ms/step - loss: 0.0483 - acc: 0.9849 - val_loss: 0.0385 - val_acc: 0.9877\n",
      "Epoch 4/4\n",
      "938/938 [==============================] - 14s 15ms/step - loss: 0.0435 - acc: 0.9868 - val_loss: 0.0461 - val_acc: 0.9864\n"
     ]
    },
    {
     "data": {
      "text/plain": [
       "<keras.callbacks.History at 0x7f97d2c44b00>"
      ]
     },
     "execution_count": 37,
     "metadata": {},
     "output_type": "execute_result"
    }
   ],
   "source": [
    "model.fit_generator(batches, steps_per_epoch=steps_per_epoch, epochs=4, \n",
    "                    validation_data=test_batches, validation_steps=validation_steps)"
   ]
  },
  {
   "cell_type": "code",
   "execution_count": 38,
   "metadata": {
    "ExecuteTime": {
     "end_time": "2018-01-10T10:03:22.424264Z",
     "start_time": "2018-01-10T10:03:22.421302Z"
    }
   },
   "outputs": [],
   "source": [
    "model.optimizer.lr=0.01"
   ]
  },
  {
   "cell_type": "code",
   "execution_count": 39,
   "metadata": {
    "ExecuteTime": {
     "end_time": "2018-01-10T10:05:13.159245Z",
     "start_time": "2018-01-10T10:03:22.426636Z"
    },
    "scrolled": true
   },
   "outputs": [
    {
     "name": "stdout",
     "output_type": "stream",
     "text": [
      "Epoch 1/8\n",
      "938/938 [==============================] - 13s 14ms/step - loss: 0.0377 - acc: 0.9884 - val_loss: 0.0388 - val_acc: 0.9886\n",
      "Epoch 2/8\n",
      "938/938 [==============================] - 13s 14ms/step - loss: 0.0375 - acc: 0.9882 - val_loss: 0.0402 - val_acc: 0.9874\n",
      "Epoch 3/8\n",
      "938/938 [==============================] - 13s 14ms/step - loss: 0.0336 - acc: 0.9891 - val_loss: 0.0366 - val_acc: 0.9884\n",
      "Epoch 4/8\n",
      "938/938 [==============================] - 14s 15ms/step - loss: 0.0324 - acc: 0.9901 - val_loss: 0.0371 - val_acc: 0.9886\n",
      "Epoch 5/8\n",
      "938/938 [==============================] - 14s 15ms/step - loss: 0.0313 - acc: 0.9903 - val_loss: 0.0339 - val_acc: 0.9887\n",
      "Epoch 6/8\n",
      "938/938 [==============================] - 14s 15ms/step - loss: 0.0292 - acc: 0.9911 - val_loss: 0.0338 - val_acc: 0.9893\n",
      "Epoch 7/8\n",
      "938/938 [==============================] - 14s 15ms/step - loss: 0.0288 - acc: 0.9909 - val_loss: 0.0250 - val_acc: 0.9915\n",
      "Epoch 8/8\n",
      "938/938 [==============================] - 14s 15ms/step - loss: 0.0275 - acc: 0.9914 - val_loss: 0.0272 - val_acc: 0.9909\n"
     ]
    },
    {
     "data": {
      "text/plain": [
       "<keras.callbacks.History at 0x7f97d2c44d68>"
      ]
     },
     "execution_count": 39,
     "metadata": {},
     "output_type": "execute_result"
    }
   ],
   "source": [
    "model.fit_generator(batches, steps_per_epoch=steps_per_epoch, epochs=8, \n",
    "                    validation_data=test_batches, validation_steps=validation_steps)"
   ]
  },
  {
   "cell_type": "code",
   "execution_count": 40,
   "metadata": {
    "ExecuteTime": {
     "end_time": "2018-01-10T10:05:13.164078Z",
     "start_time": "2018-01-10T10:05:13.161374Z"
    }
   },
   "outputs": [],
   "source": [
    "model.optimizer.lr=0.001"
   ]
  },
  {
   "cell_type": "code",
   "execution_count": 41,
   "metadata": {
    "ExecuteTime": {
     "end_time": "2018-01-10T10:08:24.619725Z",
     "start_time": "2018-01-10T10:05:13.166186Z"
    }
   },
   "outputs": [
    {
     "name": "stdout",
     "output_type": "stream",
     "text": [
      "Epoch 1/14\n",
      "938/938 [==============================] - 15s 16ms/step - loss: 0.0259 - acc: 0.9916 - val_loss: 0.0248 - val_acc: 0.9920\n",
      "Epoch 2/14\n",
      "938/938 [==============================] - 15s 16ms/step - loss: 0.0251 - acc: 0.9919 - val_loss: 0.0292 - val_acc: 0.9905\n",
      "Epoch 3/14\n",
      "938/938 [==============================] - 13s 14ms/step - loss: 0.0239 - acc: 0.9926 - val_loss: 0.0262 - val_acc: 0.9910\n",
      "Epoch 4/14\n",
      "938/938 [==============================] - 14s 15ms/step - loss: 0.0239 - acc: 0.9928 - val_loss: 0.0322 - val_acc: 0.9904\n",
      "Epoch 5/14\n",
      "938/938 [==============================] - 13s 14ms/step - loss: 0.0233 - acc: 0.9930 - val_loss: 0.0311 - val_acc: 0.9907\n",
      "Epoch 6/14\n",
      "938/938 [==============================] - 13s 14ms/step - loss: 0.0221 - acc: 0.9935 - val_loss: 0.0316 - val_acc: 0.9900\n",
      "Epoch 7/14\n",
      "938/938 [==============================] - 15s 15ms/step - loss: 0.0227 - acc: 0.9928 - val_loss: 0.0266 - val_acc: 0.9914\n",
      "Epoch 8/14\n",
      "938/938 [==============================] - 13s 14ms/step - loss: 0.0210 - acc: 0.9936 - val_loss: 0.0253 - val_acc: 0.9923\n",
      "Epoch 9/14\n",
      "938/938 [==============================] - 14s 15ms/step - loss: 0.0221 - acc: 0.9930 - val_loss: 0.0313 - val_acc: 0.9906\n",
      "Epoch 10/14\n",
      "938/938 [==============================] - 14s 15ms/step - loss: 0.0212 - acc: 0.9932 - val_loss: 0.0307 - val_acc: 0.9911\n",
      "Epoch 11/14\n",
      "938/938 [==============================] - 13s 14ms/step - loss: 0.0203 - acc: 0.9937 - val_loss: 0.0244 - val_acc: 0.9926\n",
      "Epoch 12/14\n",
      "938/938 [==============================] - 13s 13ms/step - loss: 0.0212 - acc: 0.9933 - val_loss: 0.0265 - val_acc: 0.9921\n",
      "Epoch 13/14\n",
      "938/938 [==============================] - 13s 13ms/step - loss: 0.0196 - acc: 0.9937 - val_loss: 0.0318 - val_acc: 0.9898\n",
      "Epoch 14/14\n",
      "938/938 [==============================] - 14s 15ms/step - loss: 0.0195 - acc: 0.9938 - val_loss: 0.0355 - val_acc: 0.9886\n"
     ]
    },
    {
     "data": {
      "text/plain": [
       "<keras.callbacks.History at 0x7f97d2c4e2b0>"
      ]
     },
     "execution_count": 41,
     "metadata": {},
     "output_type": "execute_result"
    }
   ],
   "source": [
    "model.fit_generator(batches, steps_per_epoch=steps_per_epoch, epochs=14, \n",
    "                    validation_data=test_batches, validation_steps=validation_steps)"
   ]
  },
  {
   "cell_type": "code",
   "execution_count": 42,
   "metadata": {
    "ExecuteTime": {
     "end_time": "2018-01-10T10:08:24.625569Z",
     "start_time": "2018-01-10T10:08:24.622207Z"
    }
   },
   "outputs": [],
   "source": [
    "model.optimizer.lr=0.0001"
   ]
  },
  {
   "cell_type": "code",
   "execution_count": 43,
   "metadata": {
    "ExecuteTime": {
     "end_time": "2018-01-10T10:10:58.183674Z",
     "start_time": "2018-01-10T10:08:24.628726Z"
    }
   },
   "outputs": [
    {
     "name": "stdout",
     "output_type": "stream",
     "text": [
      "Epoch 1/10\n",
      "938/938 [==============================] - 16s 17ms/step - loss: 0.0185 - acc: 0.9939 - val_loss: 0.0319 - val_acc: 0.9910\n",
      "Epoch 2/10\n",
      "938/938 [==============================] - 15s 16ms/step - loss: 0.0195 - acc: 0.9940 - val_loss: 0.0315 - val_acc: 0.9927\n",
      "Epoch 3/10\n",
      "938/938 [==============================] - 15s 16ms/step - loss: 0.0194 - acc: 0.9937 - val_loss: 0.0292 - val_acc: 0.9913\n",
      "Epoch 4/10\n",
      "938/938 [==============================] - 14s 15ms/step - loss: 0.0177 - acc: 0.9947 - val_loss: 0.0363 - val_acc: 0.9900\n",
      "Epoch 5/10\n",
      "938/938 [==============================] - 14s 15ms/step - loss: 0.0187 - acc: 0.9943 - val_loss: 0.0266 - val_acc: 0.9931\n",
      "Epoch 6/10\n",
      "938/938 [==============================] - 17s 18ms/step - loss: 0.0175 - acc: 0.9941 - val_loss: 0.0257 - val_acc: 0.9925\n",
      "Epoch 7/10\n",
      "938/938 [==============================] - 17s 18ms/step - loss: 0.0169 - acc: 0.9949 - val_loss: 0.0257 - val_acc: 0.9925\n",
      "Epoch 8/10\n",
      "938/938 [==============================] - 14s 15ms/step - loss: 0.0178 - acc: 0.9945 - val_loss: 0.0283 - val_acc: 0.9914\n",
      "Epoch 9/10\n",
      "938/938 [==============================] - 15s 16ms/step - loss: 0.0175 - acc: 0.9942 - val_loss: 0.0307 - val_acc: 0.9923\n",
      "Epoch 10/10\n",
      "938/938 [==============================] - 16s 17ms/step - loss: 0.0166 - acc: 0.9947 - val_loss: 0.0309 - val_acc: 0.9914\n"
     ]
    },
    {
     "data": {
      "text/plain": [
       "<keras.callbacks.History at 0x7f97d2c62e80>"
      ]
     },
     "execution_count": 43,
     "metadata": {},
     "output_type": "execute_result"
    }
   ],
   "source": [
    "model.fit_generator(batches, steps_per_epoch=steps_per_epoch, epochs=10, \n",
    "                    validation_data=test_batches, validation_steps=validation_steps)"
   ]
  },
  {
   "cell_type": "markdown",
   "metadata": {},
   "source": [
    "## Batchnorm + data augmentation"
   ]
  },
  {
   "cell_type": "code",
   "execution_count": 44,
   "metadata": {
    "ExecuteTime": {
     "end_time": "2018-01-10T10:10:58.207989Z",
     "start_time": "2018-01-10T10:10:58.186002Z"
    }
   },
   "outputs": [],
   "source": [
    "def get_model_bn():\n",
    "    model = Sequential([\n",
    "        Lambda(norm_input, input_shape=(1,28,28)),\n",
    "        Conv2D(32,(3,3), activation='relu'),\n",
    "        BatchNormalization(axis=1),\n",
    "        Conv2D(32,(3,3), activation='relu'),\n",
    "        MaxPooling2D(),\n",
    "        BatchNormalization(axis=1),\n",
    "        Conv2D(64,(3,3), activation='relu'),\n",
    "        BatchNormalization(axis=1),\n",
    "        Conv2D(64,(3,3), activation='relu'),\n",
    "        MaxPooling2D(),\n",
    "        Flatten(),\n",
    "        BatchNormalization(),\n",
    "        Dense(512, activation='relu'),\n",
    "        BatchNormalization(),\n",
    "        Dense(10, activation='softmax')\n",
    "        ])\n",
    "    model.compile(Adam(), loss='categorical_crossentropy', metrics=['accuracy'])\n",
    "    return model"
   ]
  },
  {
   "cell_type": "code",
   "execution_count": 45,
   "metadata": {
    "ExecuteTime": {
     "end_time": "2018-01-10T10:10:58.866736Z",
     "start_time": "2018-01-10T10:10:58.210888Z"
    }
   },
   "outputs": [
    {
     "name": "stderr",
     "output_type": "stream",
     "text": [
      "/home/roebius/anaconda/envs/f1/lib/python3.5/site-packages/keras/layers/core.py:630: UserWarning: `output_shape` argument not specified for layer lambda_5 and cannot be automatically inferred with the Theano backend. Defaulting to output shape `(None, 1, 28, 28)` (same as input shape). If the expected output shape is different, specify it via the `output_shape` argument.\n",
      "  .format(self.name, input_shape))\n"
     ]
    }
   ],
   "source": [
    "model = get_model_bn()"
   ]
  },
  {
   "cell_type": "code",
   "execution_count": 46,
   "metadata": {
    "ExecuteTime": {
     "end_time": "2018-01-10T10:11:31.474158Z",
     "start_time": "2018-01-10T10:10:58.868012Z"
    },
    "scrolled": true
   },
   "outputs": [
    {
     "name": "stdout",
     "output_type": "stream",
     "text": [
      "Epoch 1/1\n",
      "938/938 [==============================] - 16s 17ms/step - loss: 0.1607 - acc: 0.9507 - val_loss: 0.0683 - val_acc: 0.9776\n"
     ]
    },
    {
     "data": {
      "text/plain": [
       "<keras.callbacks.History at 0x7f9728090358>"
      ]
     },
     "execution_count": 46,
     "metadata": {},
     "output_type": "execute_result"
    }
   ],
   "source": [
    "model.fit_generator(batches, steps_per_epoch=steps_per_epoch, epochs=1, \n",
    "                    validation_data=test_batches, validation_steps=validation_steps)"
   ]
  },
  {
   "cell_type": "code",
   "execution_count": 47,
   "metadata": {
    "ExecuteTime": {
     "end_time": "2018-01-10T10:11:31.477627Z",
     "start_time": "2018-01-10T10:11:31.475576Z"
    }
   },
   "outputs": [],
   "source": [
    "model.optimizer.lr=0.1"
   ]
  },
  {
   "cell_type": "code",
   "execution_count": 48,
   "metadata": {
    "ExecuteTime": {
     "end_time": "2018-01-10T10:12:35.779911Z",
     "start_time": "2018-01-10T10:11:31.478856Z"
    }
   },
   "outputs": [
    {
     "name": "stdout",
     "output_type": "stream",
     "text": [
      "Epoch 1/4\n",
      "938/938 [==============================] - 16s 17ms/step - loss: 0.0722 - acc: 0.9768 - val_loss: 0.0537 - val_acc: 0.9836\n",
      "Epoch 2/4\n",
      "938/938 [==============================] - 17s 18ms/step - loss: 0.0584 - acc: 0.9816 - val_loss: 0.0534 - val_acc: 0.9842\n",
      "Epoch 3/4\n",
      "938/938 [==============================] - 16s 17ms/step - loss: 0.0541 - acc: 0.9837 - val_loss: 0.0384 - val_acc: 0.9882\n",
      "Epoch 4/4\n",
      "938/938 [==============================] - 16s 17ms/step - loss: 0.0467 - acc: 0.9855 - val_loss: 0.0537 - val_acc: 0.9836\n"
     ]
    },
    {
     "data": {
      "text/plain": [
       "<keras.callbacks.History at 0x7f97d29854a8>"
      ]
     },
     "execution_count": 48,
     "metadata": {},
     "output_type": "execute_result"
    }
   ],
   "source": [
    "model.fit_generator(batches, steps_per_epoch=steps_per_epoch, epochs=4, \n",
    "                    validation_data=test_batches, validation_steps=validation_steps)"
   ]
  },
  {
   "cell_type": "code",
   "execution_count": 49,
   "metadata": {
    "ExecuteTime": {
     "end_time": "2018-01-10T10:12:35.783117Z",
     "start_time": "2018-01-10T10:12:35.781212Z"
    }
   },
   "outputs": [],
   "source": [
    "model.optimizer.lr=0.01"
   ]
  },
  {
   "cell_type": "code",
   "execution_count": 50,
   "metadata": {
    "ExecuteTime": {
     "end_time": "2018-01-10T10:15:51.587808Z",
     "start_time": "2018-01-10T10:12:35.784355Z"
    }
   },
   "outputs": [
    {
     "name": "stdout",
     "output_type": "stream",
     "text": [
      "Epoch 1/12\n",
      "938/938 [==============================] - 15s 16ms/step - loss: 0.0438 - acc: 0.9864 - val_loss: 0.0439 - val_acc: 0.9850\n",
      "Epoch 2/12\n",
      "938/938 [==============================] - 17s 18ms/step - loss: 0.0427 - acc: 0.9866 - val_loss: 0.0319 - val_acc: 0.9906\n",
      "Epoch 3/12\n",
      "938/938 [==============================] - 15s 16ms/step - loss: 0.0361 - acc: 0.9889 - val_loss: 0.0422 - val_acc: 0.9868\n",
      "Epoch 4/12\n",
      "938/938 [==============================] - 19s 21ms/step - loss: 0.0370 - acc: 0.9883 - val_loss: 0.0370 - val_acc: 0.9883\n",
      "Epoch 5/12\n",
      "938/938 [==============================] - 17s 18ms/step - loss: 0.0345 - acc: 0.9887 - val_loss: 0.0284 - val_acc: 0.9913\n",
      "Epoch 6/12\n",
      "938/938 [==============================] - 14s 15ms/step - loss: 0.0321 - acc: 0.9897 - val_loss: 0.0256 - val_acc: 0.9928\n",
      "Epoch 7/12\n",
      "938/938 [==============================] - 18s 19ms/step - loss: 0.0288 - acc: 0.9907 - val_loss: 0.0251 - val_acc: 0.9919\n",
      "Epoch 8/12\n",
      "938/938 [==============================] - 17s 18ms/step - loss: 0.0302 - acc: 0.9906 - val_loss: 0.0264 - val_acc: 0.9907\n",
      "Epoch 9/12\n",
      "938/938 [==============================] - 17s 18ms/step - loss: 0.0281 - acc: 0.9908 - val_loss: 0.0255 - val_acc: 0.9919\n",
      "Epoch 10/12\n",
      "938/938 [==============================] - 18s 19ms/step - loss: 0.0279 - acc: 0.9912 - val_loss: 0.0286 - val_acc: 0.9909\n",
      "Epoch 11/12\n",
      "938/938 [==============================] - 14s 15ms/step - loss: 0.0253 - acc: 0.9920 - val_loss: 0.0322 - val_acc: 0.9903\n",
      "Epoch 12/12\n",
      "938/938 [==============================] - 14s 15ms/step - loss: 0.0231 - acc: 0.9931 - val_loss: 0.0362 - val_acc: 0.9897\n"
     ]
    },
    {
     "data": {
      "text/plain": [
       "<keras.callbacks.History at 0x7f971aef8d68>"
      ]
     },
     "execution_count": 50,
     "metadata": {},
     "output_type": "execute_result"
    }
   ],
   "source": [
    "model.fit_generator(batches, steps_per_epoch=steps_per_epoch, epochs=12, \n",
    "                    validation_data=test_batches, validation_steps=validation_steps)"
   ]
  },
  {
   "cell_type": "code",
   "execution_count": 51,
   "metadata": {
    "ExecuteTime": {
     "end_time": "2018-01-10T10:15:51.591150Z",
     "start_time": "2018-01-10T10:15:51.589199Z"
    }
   },
   "outputs": [],
   "source": [
    "model.optimizer.lr=0.001"
   ]
  },
  {
   "cell_type": "code",
   "execution_count": 52,
   "metadata": {
    "ExecuteTime": {
     "end_time": "2018-01-10T10:19:08.894775Z",
     "start_time": "2018-01-10T10:15:51.592358Z"
    }
   },
   "outputs": [
    {
     "name": "stdout",
     "output_type": "stream",
     "text": [
      "Epoch 1/12\n",
      "938/938 [==============================] - 16s 17ms/step - loss: 0.0259 - acc: 0.9917 - val_loss: 0.0289 - val_acc: 0.9914\n",
      "Epoch 2/12\n",
      "938/938 [==============================] - 15s 16ms/step - loss: 0.0241 - acc: 0.9925 - val_loss: 0.0243 - val_acc: 0.9930\n",
      "Epoch 3/12\n",
      "938/938 [==============================] - 16s 17ms/step - loss: 0.0232 - acc: 0.9925 - val_loss: 0.0242 - val_acc: 0.9923\n",
      "Epoch 4/12\n",
      "938/938 [==============================] - 15s 16ms/step - loss: 0.0231 - acc: 0.9926 - val_loss: 0.0270 - val_acc: 0.9919\n",
      "Epoch 5/12\n",
      "938/938 [==============================] - 15s 16ms/step - loss: 0.0230 - acc: 0.9929 - val_loss: 0.0252 - val_acc: 0.9924\n",
      "Epoch 6/12\n",
      "938/938 [==============================] - 17s 18ms/step - loss: 0.0209 - acc: 0.9935 - val_loss: 0.0248 - val_acc: 0.9920\n",
      "Epoch 7/12\n",
      "938/938 [==============================] - 17s 18ms/step - loss: 0.0218 - acc: 0.9930 - val_loss: 0.0241 - val_acc: 0.9926\n",
      "Epoch 8/12\n",
      "938/938 [==============================] - 19s 20ms/step - loss: 0.0204 - acc: 0.9933 - val_loss: 0.0286 - val_acc: 0.9911\n",
      "Epoch 9/12\n",
      "938/938 [==============================] - 16s 17ms/step - loss: 0.0217 - acc: 0.9933 - val_loss: 0.0237 - val_acc: 0.9934\n",
      "Epoch 10/12\n",
      "938/938 [==============================] - 16s 17ms/step - loss: 0.0183 - acc: 0.9939 - val_loss: 0.0233 - val_acc: 0.9929\n",
      "Epoch 11/12\n",
      "938/938 [==============================] - 18s 19ms/step - loss: 0.0192 - acc: 0.9938 - val_loss: 0.0190 - val_acc: 0.9939\n",
      "Epoch 12/12\n",
      "938/938 [==============================] - 18s 19ms/step - loss: 0.0187 - acc: 0.9939 - val_loss: 0.0207 - val_acc: 0.9936\n"
     ]
    },
    {
     "data": {
      "text/plain": [
       "<keras.callbacks.History at 0x7f97d2c51710>"
      ]
     },
     "execution_count": 52,
     "metadata": {},
     "output_type": "execute_result"
    }
   ],
   "source": [
    "model.fit_generator(batches, steps_per_epoch=steps_per_epoch, epochs=12, \n",
    "                    validation_data=test_batches, validation_steps=validation_steps)"
   ]
  },
  {
   "cell_type": "markdown",
   "metadata": {},
   "source": [
    "## Batchnorm + dropout + data augmentation"
   ]
  },
  {
   "cell_type": "code",
   "execution_count": 53,
   "metadata": {
    "ExecuteTime": {
     "end_time": "2018-01-10T10:19:08.911842Z",
     "start_time": "2018-01-10T10:19:08.897549Z"
    }
   },
   "outputs": [],
   "source": [
    "def get_model_bn_do():\n",
    "    model = Sequential([\n",
    "        Lambda(norm_input, input_shape=(1,28,28)),\n",
    "        Conv2D(32,(3,3), activation='relu'),\n",
    "        BatchNormalization(axis=1),\n",
    "        Conv2D(32,(3,3), activation='relu'),\n",
    "        MaxPooling2D(),\n",
    "        BatchNormalization(axis=1),\n",
    "        Conv2D(64,(3,3), activation='relu'),\n",
    "        BatchNormalization(axis=1),\n",
    "        Conv2D(64,(3,3), activation='relu'),\n",
    "        MaxPooling2D(),\n",
    "        Flatten(),\n",
    "        BatchNormalization(),\n",
    "        Dense(512, activation='relu'),\n",
    "        BatchNormalization(),\n",
    "        Dropout(0.5),\n",
    "        Dense(10, activation='softmax')\n",
    "        ])\n",
    "    model.compile(Adam(), loss='categorical_crossentropy', metrics=['accuracy'])\n",
    "    return model"
   ]
  },
  {
   "cell_type": "code",
   "execution_count": 54,
   "metadata": {
    "ExecuteTime": {
     "end_time": "2018-01-10T10:19:09.628233Z",
     "start_time": "2018-01-10T10:19:08.914439Z"
    },
    "scrolled": true
   },
   "outputs": [
    {
     "name": "stderr",
     "output_type": "stream",
     "text": [
      "/home/roebius/anaconda/envs/f1/lib/python3.5/site-packages/keras/layers/core.py:630: UserWarning: `output_shape` argument not specified for layer lambda_6 and cannot be automatically inferred with the Theano backend. Defaulting to output shape `(None, 1, 28, 28)` (same as input shape). If the expected output shape is different, specify it via the `output_shape` argument.\n",
      "  .format(self.name, input_shape))\n"
     ]
    }
   ],
   "source": [
    "model = get_model_bn_do()"
   ]
  },
  {
   "cell_type": "code",
   "execution_count": 55,
   "metadata": {
    "ExecuteTime": {
     "end_time": "2018-01-10T10:19:31.881954Z",
     "start_time": "2018-01-10T10:19:09.629732Z"
    },
    "scrolled": true
   },
   "outputs": [
    {
     "name": "stdout",
     "output_type": "stream",
     "text": [
      "Epoch 1/1\n",
      "938/938 [==============================] - 16s 17ms/step - loss: 0.2211 - acc: 0.9335 - val_loss: 0.0758 - val_acc: 0.9762\n"
     ]
    },
    {
     "data": {
      "text/plain": [
       "<keras.callbacks.History at 0x7f96f80a5518>"
      ]
     },
     "execution_count": 55,
     "metadata": {},
     "output_type": "execute_result"
    }
   ],
   "source": [
    "model.fit_generator(batches, steps_per_epoch=steps_per_epoch, epochs=1, \n",
    "                    validation_data=test_batches, validation_steps=validation_steps)"
   ]
  },
  {
   "cell_type": "code",
   "execution_count": 56,
   "metadata": {
    "ExecuteTime": {
     "end_time": "2018-01-10T10:19:31.888617Z",
     "start_time": "2018-01-10T10:19:31.884971Z"
    }
   },
   "outputs": [],
   "source": [
    "model.optimizer.lr=0.1"
   ]
  },
  {
   "cell_type": "code",
   "execution_count": 57,
   "metadata": {
    "ExecuteTime": {
     "end_time": "2018-01-10T10:20:36.078165Z",
     "start_time": "2018-01-10T10:19:31.891375Z"
    },
    "scrolled": false
   },
   "outputs": [
    {
     "name": "stdout",
     "output_type": "stream",
     "text": [
      "Epoch 1/4\n",
      "938/938 [==============================] - 16s 17ms/step - loss: 0.0931 - acc: 0.9706 - val_loss: 0.0549 - val_acc: 0.9825\n",
      "Epoch 2/4\n",
      "938/938 [==============================] - 17s 18ms/step - loss: 0.0766 - acc: 0.9765 - val_loss: 0.0653 - val_acc: 0.9804\n",
      "Epoch 3/4\n",
      "938/938 [==============================] - 15s 16ms/step - loss: 0.0671 - acc: 0.9790 - val_loss: 0.0450 - val_acc: 0.9845\n",
      "Epoch 4/4\n",
      "938/938 [==============================] - 16s 17ms/step - loss: 0.0637 - acc: 0.9802 - val_loss: 0.0598 - val_acc: 0.9809\n"
     ]
    },
    {
     "data": {
      "text/plain": [
       "<keras.callbacks.History at 0x7f96d40ab390>"
      ]
     },
     "execution_count": 57,
     "metadata": {},
     "output_type": "execute_result"
    }
   ],
   "source": [
    "model.fit_generator(batches, steps_per_epoch=steps_per_epoch, epochs=4, \n",
    "                    validation_data=test_batches, validation_steps=validation_steps)"
   ]
  },
  {
   "cell_type": "code",
   "execution_count": 58,
   "metadata": {
    "ExecuteTime": {
     "end_time": "2018-01-10T10:20:36.081419Z",
     "start_time": "2018-01-10T10:20:36.079532Z"
    }
   },
   "outputs": [],
   "source": [
    "model.optimizer.lr=0.01"
   ]
  },
  {
   "cell_type": "code",
   "execution_count": 59,
   "metadata": {
    "ExecuteTime": {
     "end_time": "2018-01-10T10:23:59.673926Z",
     "start_time": "2018-01-10T10:20:36.082741Z"
    },
    "scrolled": true
   },
   "outputs": [
    {
     "name": "stdout",
     "output_type": "stream",
     "text": [
      "Epoch 1/12\n",
      "938/938 [==============================] - 16s 17ms/step - loss: 0.0566 - acc: 0.9828 - val_loss: 0.0438 - val_acc: 0.9870\n",
      "Epoch 2/12\n",
      "938/938 [==============================] - 19s 20ms/step - loss: 0.0526 - acc: 0.9840 - val_loss: 0.0388 - val_acc: 0.9877\n",
      "Epoch 3/12\n",
      "938/938 [==============================] - 15s 16ms/step - loss: 0.0514 - acc: 0.9844 - val_loss: 0.0334 - val_acc: 0.9901\n",
      "Epoch 4/12\n",
      "938/938 [==============================] - 15s 16ms/step - loss: 0.0483 - acc: 0.9853 - val_loss: 0.0355 - val_acc: 0.9894\n",
      "Epoch 5/12\n",
      "938/938 [==============================] - 17s 18ms/step - loss: 0.0452 - acc: 0.9865 - val_loss: 0.0298 - val_acc: 0.9908\n",
      "Epoch 6/12\n",
      "938/938 [==============================] - 18s 19ms/step - loss: 0.0434 - acc: 0.9867 - val_loss: 0.0252 - val_acc: 0.9917\n",
      "Epoch 7/12\n",
      "938/938 [==============================] - 15s 16ms/step - loss: 0.0404 - acc: 0.9873 - val_loss: 0.0348 - val_acc: 0.9890\n",
      "Epoch 8/12\n",
      "938/938 [==============================] - 16s 17ms/step - loss: 0.0419 - acc: 0.9870 - val_loss: 0.0308 - val_acc: 0.9910\n",
      "Epoch 9/12\n",
      "938/938 [==============================] - 17s 18ms/step - loss: 0.0385 - acc: 0.9881 - val_loss: 0.0319 - val_acc: 0.9899\n",
      "Epoch 10/12\n",
      "938/938 [==============================] - 18s 19ms/step - loss: 0.0375 - acc: 0.9885 - val_loss: 0.0293 - val_acc: 0.9916\n",
      "Epoch 11/12\n",
      "938/938 [==============================] - 21s 22ms/step - loss: 0.0360 - acc: 0.9887 - val_loss: 0.0254 - val_acc: 0.9925\n",
      "Epoch 12/12\n",
      "938/938 [==============================] - 16s 17ms/step - loss: 0.0347 - acc: 0.9891 - val_loss: 0.0285 - val_acc: 0.9909\n"
     ]
    },
    {
     "data": {
      "text/plain": [
       "<keras.callbacks.History at 0x7f96d40ab6a0>"
      ]
     },
     "execution_count": 59,
     "metadata": {},
     "output_type": "execute_result"
    }
   ],
   "source": [
    "model.fit_generator(batches, steps_per_epoch=steps_per_epoch, epochs=12, \n",
    "                    validation_data=test_batches, validation_steps=validation_steps)"
   ]
  },
  {
   "cell_type": "code",
   "execution_count": 60,
   "metadata": {
    "ExecuteTime": {
     "end_time": "2018-01-10T10:23:59.681643Z",
     "start_time": "2018-01-10T10:23:59.677228Z"
    }
   },
   "outputs": [],
   "source": [
    "model.optimizer.lr=0.001"
   ]
  },
  {
   "cell_type": "code",
   "execution_count": 61,
   "metadata": {
    "ExecuteTime": {
     "end_time": "2018-01-10T10:24:17.561425Z",
     "start_time": "2018-01-10T10:23:59.685195Z"
    },
    "scrolled": true
   },
   "outputs": [
    {
     "name": "stdout",
     "output_type": "stream",
     "text": [
      "Epoch 1/1\n",
      "938/938 [==============================] - 18s 19ms/step - loss: 0.0342 - acc: 0.9893 - val_loss: 0.0273 - val_acc: 0.9905\n"
     ]
    },
    {
     "data": {
      "text/plain": [
       "<keras.callbacks.History at 0x7f96d40b5160>"
      ]
     },
     "execution_count": 61,
     "metadata": {},
     "output_type": "execute_result"
    }
   ],
   "source": [
    "model.fit_generator(batches, steps_per_epoch=steps_per_epoch, epochs=1, \n",
    "                    validation_data=test_batches, validation_steps=validation_steps)"
   ]
  },
  {
   "cell_type": "markdown",
   "metadata": {},
   "source": [
    "## Ensembling"
   ]
  },
  {
   "cell_type": "code",
   "execution_count": 62,
   "metadata": {
    "ExecuteTime": {
     "end_time": "2018-01-10T10:24:17.582245Z",
     "start_time": "2018-01-10T10:24:17.563793Z"
    }
   },
   "outputs": [],
   "source": [
    "def fit_model():\n",
    "    model = get_model_bn_do()\n",
    "    model.fit_generator(batches, steps_per_epoch=steps_per_epoch, epochs=1, verbose=0,\n",
    "                        validation_data=test_batches, validation_steps=validation_steps)\n",
    "    model.optimizer.lr=0.1\n",
    "    model.fit_generator(batches, steps_per_epoch=steps_per_epoch, epochs=4, verbose=0,\n",
    "                        validation_data=test_batches, validation_steps=validation_steps)\n",
    "    model.optimizer.lr=0.01\n",
    "    model.fit_generator(batches, steps_per_epoch=steps_per_epoch, epochs=12, verbose=0,\n",
    "                        validation_data=test_batches, validation_steps=validation_steps)\n",
    "    model.optimizer.lr=0.001\n",
    "    model.fit_generator(batches, steps_per_epoch=steps_per_epoch, epochs=18, verbose=0,\n",
    "                        validation_data=test_batches, validation_steps=validation_steps)\n",
    "    return model"
   ]
  },
  {
   "cell_type": "code",
   "execution_count": 63,
   "metadata": {
    "ExecuteTime": {
     "end_time": "2018-01-10T11:19:37.485111Z",
     "start_time": "2018-01-10T10:24:17.584407Z"
    }
   },
   "outputs": [
    {
     "name": "stderr",
     "output_type": "stream",
     "text": [
      "/home/roebius/anaconda/envs/f1/lib/python3.5/site-packages/keras/layers/core.py:630: UserWarning: `output_shape` argument not specified for layer lambda_7 and cannot be automatically inferred with the Theano backend. Defaulting to output shape `(None, 1, 28, 28)` (same as input shape). If the expected output shape is different, specify it via the `output_shape` argument.\n",
      "  .format(self.name, input_shape))\n",
      "/home/roebius/anaconda/envs/f1/lib/python3.5/site-packages/keras/layers/core.py:630: UserWarning: `output_shape` argument not specified for layer lambda_8 and cannot be automatically inferred with the Theano backend. Defaulting to output shape `(None, 1, 28, 28)` (same as input shape). If the expected output shape is different, specify it via the `output_shape` argument.\n",
      "  .format(self.name, input_shape))\n",
      "/home/roebius/anaconda/envs/f1/lib/python3.5/site-packages/keras/layers/core.py:630: UserWarning: `output_shape` argument not specified for layer lambda_9 and cannot be automatically inferred with the Theano backend. Defaulting to output shape `(None, 1, 28, 28)` (same as input shape). If the expected output shape is different, specify it via the `output_shape` argument.\n",
      "  .format(self.name, input_shape))\n",
      "/home/roebius/anaconda/envs/f1/lib/python3.5/site-packages/keras/layers/core.py:630: UserWarning: `output_shape` argument not specified for layer lambda_10 and cannot be automatically inferred with the Theano backend. Defaulting to output shape `(None, 1, 28, 28)` (same as input shape). If the expected output shape is different, specify it via the `output_shape` argument.\n",
      "  .format(self.name, input_shape))\n",
      "/home/roebius/anaconda/envs/f1/lib/python3.5/site-packages/keras/layers/core.py:630: UserWarning: `output_shape` argument not specified for layer lambda_11 and cannot be automatically inferred with the Theano backend. Defaulting to output shape `(None, 1, 28, 28)` (same as input shape). If the expected output shape is different, specify it via the `output_shape` argument.\n",
      "  .format(self.name, input_shape))\n",
      "/home/roebius/anaconda/envs/f1/lib/python3.5/site-packages/keras/layers/core.py:630: UserWarning: `output_shape` argument not specified for layer lambda_12 and cannot be automatically inferred with the Theano backend. Defaulting to output shape `(None, 1, 28, 28)` (same as input shape). If the expected output shape is different, specify it via the `output_shape` argument.\n",
      "  .format(self.name, input_shape))\n"
     ]
    }
   ],
   "source": [
    "models = [fit_model() for i in range(6)]"
   ]
  },
  {
   "cell_type": "code",
   "execution_count": 64,
   "metadata": {
    "ExecuteTime": {
     "end_time": "2018-01-10T11:19:37.498079Z",
     "start_time": "2018-01-10T11:19:37.488366Z"
    }
   },
   "outputs": [],
   "source": [
    "import os\n",
    "user_home = os.path.expanduser('~')\n",
    "path = os.path.join(user_home, \"pj/fastai/data/MNIST_data/\")\n",
    "model_path = path + 'models/'\n",
    "\n",
    "# path = \"data/mnist/\"\n",
    "# model_path = path + 'models/'"
   ]
  },
  {
   "cell_type": "code",
   "execution_count": 69,
   "metadata": {
    "ExecuteTime": {
     "end_time": "2018-01-10T11:53:49.896848Z",
     "start_time": "2018-01-10T11:53:49.717849Z"
    },
    "scrolled": true
   },
   "outputs": [],
   "source": [
    "for i,m in enumerate(models):\n",
    "    m.save_weights(model_path+'cnn-mnist23-'+str(i)+'.pkl')"
   ]
  },
  {
   "cell_type": "code",
   "execution_count": 70,
   "metadata": {
    "ExecuteTime": {
     "end_time": "2018-01-10T11:54:12.408504Z",
     "start_time": "2018-01-10T11:54:12.405055Z"
    }
   },
   "outputs": [],
   "source": [
    "eval_batch_size = 256"
   ]
  },
  {
   "cell_type": "code",
   "execution_count": 71,
   "metadata": {
    "ExecuteTime": {
     "end_time": "2018-01-10T11:54:16.076765Z",
     "start_time": "2018-01-10T11:54:14.835689Z"
    }
   },
   "outputs": [
    {
     "name": "stdout",
     "output_type": "stream",
     "text": [
      "10000/10000 [==============================] - 0s 23us/step\n",
      "10000/10000 [==============================] - 0s 20us/step\n",
      "10000/10000 [==============================] - 0s 20us/step\n",
      "10000/10000 [==============================] - 0s 21us/step\n",
      "10000/10000 [==============================] - 0s 19us/step\n",
      "10000/10000 [==============================] - 0s 20us/step\n"
     ]
    }
   ],
   "source": [
    "evals = np.array([m.evaluate(X_test, y_test, batch_size=eval_batch_size) for m in models])"
   ]
  },
  {
   "cell_type": "code",
   "execution_count": 72,
   "metadata": {
    "ExecuteTime": {
     "end_time": "2018-01-10T11:54:17.319605Z",
     "start_time": "2018-01-10T11:54:17.315164Z"
    }
   },
   "outputs": [
    {
     "data": {
      "text/plain": [
       "array([ 0.0134,  0.9957])"
      ]
     },
     "execution_count": 72,
     "metadata": {},
     "output_type": "execute_result"
    }
   ],
   "source": [
    "evals.mean(axis=0)"
   ]
  },
  {
   "cell_type": "code",
   "execution_count": 73,
   "metadata": {
    "ExecuteTime": {
     "end_time": "2018-01-10T11:54:24.465594Z",
     "start_time": "2018-01-10T11:54:19.075558Z"
    }
   },
   "outputs": [],
   "source": [
    "all_preds = np.stack([m.predict(X_test, batch_size=eval_batch_size) for m in models])"
   ]
  },
  {
   "cell_type": "code",
   "execution_count": 74,
   "metadata": {
    "ExecuteTime": {
     "end_time": "2018-01-10T11:54:44.755111Z",
     "start_time": "2018-01-10T11:54:44.747995Z"
    }
   },
   "outputs": [
    {
     "data": {
      "text/plain": [
       "(6, 10000, 10)"
      ]
     },
     "execution_count": 74,
     "metadata": {},
     "output_type": "execute_result"
    }
   ],
   "source": [
    "all_preds.shape"
   ]
  },
  {
   "cell_type": "code",
   "execution_count": 75,
   "metadata": {
    "ExecuteTime": {
     "end_time": "2018-01-10T11:54:46.127420Z",
     "start_time": "2018-01-10T11:54:46.123372Z"
    }
   },
   "outputs": [],
   "source": [
    "avg_preds = all_preds.mean(axis=0)"
   ]
  },
  {
   "cell_type": "code",
   "execution_count": 76,
   "metadata": {
    "ExecuteTime": {
     "end_time": "2018-01-10T11:54:47.980842Z",
     "start_time": "2018-01-10T11:54:47.907042Z"
    },
    "scrolled": true
   },
   "outputs": [
    {
     "data": {
      "text/plain": [
       "array([ 1.,  1.,  1., ...,  1.,  1.,  1.], dtype=float32)"
      ]
     },
     "execution_count": 76,
     "metadata": {},
     "output_type": "execute_result"
    }
   ],
   "source": [
    "keras.metrics.categorical_accuracy(y_test, avg_preds).eval()"
   ]
  },
  {
   "cell_type": "code",
   "execution_count": null,
   "metadata": {},
   "outputs": [],
   "source": []
  }
 ],
 "metadata": {
  "kernelspec": {
   "display_name": "Python 3",
   "language": "python",
   "name": "python3"
  },
  "language_info": {
   "codemirror_mode": {
    "name": "ipython",
    "version": 3
   },
   "file_extension": ".py",
   "mimetype": "text/x-python",
   "name": "python",
   "nbconvert_exporter": "python",
   "pygments_lexer": "ipython3",
   "version": "3.5.4"
  },
  "nav_menu": {},
  "toc": {
   "navigate_menu": true,
   "number_sections": true,
   "sideBar": true,
   "threshold": 6,
   "toc_cell": false,
   "toc_section_display": "block",
   "toc_window_display": false
  },
  "widgets": {
   "state": {},
   "version": "1.1.2"
  }
 },
 "nbformat": 4,
 "nbformat_minor": 1
}
