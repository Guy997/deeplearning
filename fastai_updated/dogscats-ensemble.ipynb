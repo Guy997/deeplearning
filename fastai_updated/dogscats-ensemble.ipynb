{
 "cells": [
  {
   "cell_type": "code",
   "execution_count": 1,
   "metadata": {
    "ExecuteTime": {
     "end_time": "2018-01-09T20:51:52.977732Z",
     "start_time": "2018-01-09T20:51:49.125725Z"
    }
   },
   "outputs": [
    {
     "name": "stderr",
     "output_type": "stream",
     "text": [
      "Using cuDNN version 6021 on context None\n",
      "Mapped name None to device cuda0: GeForce GTX TITAN X (0000:04:00.0)\n",
      "Using Theano backend.\n"
     ]
    }
   ],
   "source": [
    "from __future__ import division, print_function\n",
    "%matplotlib inline\n",
    "from importlib import reload  # Python 3\n",
    "import utils; reload(utils)\n",
    "from utils import *"
   ]
  },
  {
   "cell_type": "markdown",
   "metadata": {},
   "source": [
    "## Setup"
   ]
  },
  {
   "cell_type": "code",
   "execution_count": 2,
   "metadata": {
    "ExecuteTime": {
     "end_time": "2018-01-09T20:51:52.982749Z",
     "start_time": "2018-01-09T20:51:52.979116Z"
    }
   },
   "outputs": [],
   "source": [
    "path = \"data/dogscats/\"\n",
    "# path = \"data/dogscats/sample/\"\n",
    "model_path = path + 'models/'\n",
    "if not os.path.exists(model_path): os.mkdir(model_path)\n",
    "\n",
    "batch_size=32\n",
    "# batch_size=1"
   ]
  },
  {
   "cell_type": "code",
   "execution_count": 3,
   "metadata": {
    "ExecuteTime": {
     "end_time": "2018-01-09T20:51:53.836295Z",
     "start_time": "2018-01-09T20:51:52.983982Z"
    }
   },
   "outputs": [
    {
     "name": "stdout",
     "output_type": "stream",
     "text": [
      "Found 23000 images belonging to 2 classes.\n",
      "Found 2000 images belonging to 2 classes.\n"
     ]
    }
   ],
   "source": [
    "batches = get_batches(path+'train', shuffle=False, batch_size=batch_size)\n",
    "val_batches = get_batches(path+'valid', shuffle=False, batch_size=batch_size)"
   ]
  },
  {
   "cell_type": "code",
   "execution_count": 4,
   "metadata": {
    "ExecuteTime": {
     "end_time": "2018-01-09T20:51:55.093645Z",
     "start_time": "2018-01-09T20:51:53.838324Z"
    }
   },
   "outputs": [
    {
     "name": "stdout",
     "output_type": "stream",
     "text": [
      "Found 23000 images belonging to 2 classes.\n",
      "Found 2000 images belonging to 2 classes.\n",
      "Found 12500 images belonging to 1 classes.\n"
     ]
    }
   ],
   "source": [
    "(val_classes, trn_classes, val_labels, trn_labels, \n",
    "    val_filenames, filenames, test_filenames) = get_classes(path)"
   ]
  },
  {
   "cell_type": "markdown",
   "metadata": {},
   "source": [
    "In this notebook we're going to create an ensemble of models and use their average as our predictions. For each ensemble, we're going to follow our usual fine-tuning steps:\n",
    "\n",
    "1) Create a model that retrains just the last layer\n",
    "2) Add this to a model containing all VGG layers except the last layer\n",
    "3) Fine-tune just the dense layers of this model (pre-computing the convolutional layers)\n",
    "4) Add data augmentation, fine-tuning the dense layers without pre-computation.\n",
    "\n",
    "So first, we need to create our VGG model and pre-compute the output of the conv layers:"
   ]
  },
  {
   "cell_type": "code",
   "execution_count": 5,
   "metadata": {
    "ExecuteTime": {
     "end_time": "2018-01-09T20:51:59.890767Z",
     "start_time": "2018-01-09T20:51:55.096204Z"
    }
   },
   "outputs": [],
   "source": [
    "model = Vgg16().model\n",
    "conv_layers,fc_layers = split_at(model, Convolution2D)"
   ]
  },
  {
   "cell_type": "code",
   "execution_count": 6,
   "metadata": {
    "ExecuteTime": {
     "end_time": "2018-01-09T20:51:59.996876Z",
     "start_time": "2018-01-09T20:51:59.892389Z"
    }
   },
   "outputs": [],
   "source": [
    "conv_model = Sequential(conv_layers)"
   ]
  },
  {
   "cell_type": "code",
   "execution_count": 7,
   "metadata": {
    "ExecuteTime": {
     "end_time": "2018-01-09T20:55:23.756982Z",
     "start_time": "2018-01-09T20:51:59.999158Z"
    }
   },
   "outputs": [],
   "source": [
    "val_features = conv_model.predict_generator(val_batches, int(np.ceil(val_batches.samples/batch_size)))\n",
    "trn_features = conv_model.predict_generator(batches, int(np.ceil(batches.samples/batch_size)))"
   ]
  },
  {
   "cell_type": "code",
   "execution_count": 8,
   "metadata": {
    "ExecuteTime": {
     "end_time": "2018-01-09T20:55:26.920958Z",
     "start_time": "2018-01-09T20:55:23.758447Z"
    }
   },
   "outputs": [],
   "source": [
    "save_array(model_path + 'train_convlayer_features.bc', trn_features)\n",
    "save_array(model_path + 'valid_convlayer_features.bc', val_features)"
   ]
  },
  {
   "cell_type": "markdown",
   "metadata": {},
   "source": [
    "In the future we can just load these precomputed features:"
   ]
  },
  {
   "cell_type": "code",
   "execution_count": 9,
   "metadata": {
    "ExecuteTime": {
     "end_time": "2018-01-09T20:55:29.521339Z",
     "start_time": "2018-01-09T20:55:26.922196Z"
    }
   },
   "outputs": [],
   "source": [
    "trn_features = load_array(model_path+'train_convlayer_features.bc')\n",
    "val_features = load_array(model_path+'valid_convlayer_features.bc')"
   ]
  },
  {
   "cell_type": "markdown",
   "metadata": {},
   "source": [
    "We can also save some time by pre-computing the training and validation arrays with the image decoding and resizing already done:"
   ]
  },
  {
   "cell_type": "code",
   "execution_count": 10,
   "metadata": {
    "ExecuteTime": {
     "end_time": "2018-01-09T20:56:29.125344Z",
     "start_time": "2018-01-09T20:55:29.522540Z"
    }
   },
   "outputs": [
    {
     "name": "stdout",
     "output_type": "stream",
     "text": [
      "Found 23000 images belonging to 2 classes.\n",
      "Found 2000 images belonging to 2 classes.\n"
     ]
    }
   ],
   "source": [
    "trn = get_data(path+'train')\n",
    "val = get_data(path+'valid')"
   ]
  },
  {
   "cell_type": "code",
   "execution_count": 11,
   "metadata": {
    "ExecuteTime": {
     "end_time": "2018-01-09T20:56:33.734776Z",
     "start_time": "2018-01-09T20:56:29.126911Z"
    },
    "scrolled": true
   },
   "outputs": [],
   "source": [
    "save_array(model_path+'train_data.bc', trn)\n",
    "save_array(model_path+'valid_data.bc', val)"
   ]
  },
  {
   "cell_type": "markdown",
   "metadata": {},
   "source": [
    "In the future we can just load these resized images:"
   ]
  },
  {
   "cell_type": "code",
   "execution_count": 12,
   "metadata": {
    "ExecuteTime": {
     "end_time": "2018-01-09T20:56:37.517733Z",
     "start_time": "2018-01-09T20:56:33.735929Z"
    }
   },
   "outputs": [],
   "source": [
    "trn = load_array(model_path+'train_data.bc')\n",
    "val = load_array(model_path+'valid_data.bc')"
   ]
  },
  {
   "cell_type": "markdown",
   "metadata": {},
   "source": [
    "Finally, we can precompute the output of all but the last dropout and dense layers, for creating the first stage of the model:"
   ]
  },
  {
   "cell_type": "code",
   "execution_count": 13,
   "metadata": {
    "ExecuteTime": {
     "end_time": "2018-01-09T20:56:37.520881Z",
     "start_time": "2018-01-09T20:56:37.518942Z"
    }
   },
   "outputs": [],
   "source": [
    "model.pop()\n",
    "model.pop()"
   ]
  },
  {
   "cell_type": "code",
   "execution_count": 14,
   "metadata": {
    "ExecuteTime": {
     "end_time": "2018-01-09T21:00:07.103775Z",
     "start_time": "2018-01-09T20:56:37.521921Z"
    }
   },
   "outputs": [],
   "source": [
    "ll_val_feat = model.predict_generator(val_batches, int(np.ceil(val_batches.samples/batch_size)))\n",
    "ll_feat = model.predict_generator(batches, int(np.ceil(batches.samples/batch_size)))"
   ]
  },
  {
   "cell_type": "code",
   "execution_count": 15,
   "metadata": {
    "ExecuteTime": {
     "end_time": "2018-01-09T21:00:07.542709Z",
     "start_time": "2018-01-09T21:00:07.105987Z"
    }
   },
   "outputs": [],
   "source": [
    "save_array(model_path + 'train_ll_feat.bc', ll_feat)\n",
    "save_array(model_path + 'valid_ll_feat.bc', ll_val_feat)"
   ]
  },
  {
   "cell_type": "code",
   "execution_count": 16,
   "metadata": {
    "ExecuteTime": {
     "end_time": "2018-01-09T21:00:07.761441Z",
     "start_time": "2018-01-09T21:00:07.543970Z"
    }
   },
   "outputs": [],
   "source": [
    "ll_feat = load_array(model_path+ 'train_ll_feat.bc')\n",
    "ll_val_feat = load_array(model_path + 'valid_ll_feat.bc')"
   ]
  },
  {
   "cell_type": "markdown",
   "metadata": {},
   "source": [
    "...and let's also grab the test data, for when we need to submit:"
   ]
  },
  {
   "cell_type": "code",
   "execution_count": 17,
   "metadata": {
    "ExecuteTime": {
     "end_time": "2018-01-09T21:00:40.624354Z",
     "start_time": "2018-01-09T21:00:07.762602Z"
    },
    "scrolled": true
   },
   "outputs": [
    {
     "name": "stdout",
     "output_type": "stream",
     "text": [
      "Found 12500 images belonging to 1 classes.\n"
     ]
    }
   ],
   "source": [
    "test = get_data(path+'test')\n",
    "save_array(model_path+'test_data.bc', test)"
   ]
  },
  {
   "cell_type": "code",
   "execution_count": 18,
   "metadata": {
    "ExecuteTime": {
     "end_time": "2018-01-09T21:00:42.733762Z",
     "start_time": "2018-01-09T21:00:40.625650Z"
    }
   },
   "outputs": [],
   "source": [
    "test = load_array(model_path+'test_data.bc')"
   ]
  },
  {
   "cell_type": "markdown",
   "metadata": {},
   "source": [
    "## Last layer"
   ]
  },
  {
   "cell_type": "markdown",
   "metadata": {},
   "source": [
    "The functions automate creating a model that trains the last layer from scratch, and then adds those new layers on to the main model."
   ]
  },
  {
   "cell_type": "code",
   "execution_count": 19,
   "metadata": {
    "ExecuteTime": {
     "end_time": "2018-01-09T21:00:42.737376Z",
     "start_time": "2018-01-09T21:00:42.734967Z"
    }
   },
   "outputs": [],
   "source": [
    "def get_ll_layers():\n",
    "    return [ \n",
    "        BatchNormalization(input_shape=(4096,)),\n",
    "        Dropout(0.5),\n",
    "        Dense(2, activation='softmax') \n",
    "        ]"
   ]
  },
  {
   "cell_type": "code",
   "execution_count": 20,
   "metadata": {
    "ExecuteTime": {
     "end_time": "2018-01-09T21:00:42.788740Z",
     "start_time": "2018-01-09T21:00:42.738386Z"
    }
   },
   "outputs": [],
   "source": [
    "def train_last_layer(i):\n",
    "    ll_layers = get_ll_layers()\n",
    "    ll_model = Sequential(ll_layers)\n",
    "    ll_model.compile(optimizer=Adam(), loss='categorical_crossentropy', metrics=['accuracy'])\n",
    "    ll_model.optimizer.lr=1e-5\n",
    "    ll_model.fit(ll_feat, trn_labels, validation_data=(ll_val_feat, val_labels), epochs=12)\n",
    "    ll_model.optimizer.lr=1e-7\n",
    "    ll_model.fit(ll_feat, trn_labels, validation_data=(ll_val_feat, val_labels), epochs=1)\n",
    "    ll_model.save_weights(model_path+'ll_bn' + i + '.h5')\n",
    "\n",
    "    vgg = Vgg16BN()\n",
    "    model = vgg.model\n",
    "    model.pop(); model.pop(); model.pop()\n",
    "    for layer in model.layers: layer.trainable=False\n",
    "    model.compile(optimizer=Adam(), loss='categorical_crossentropy', metrics=['accuracy'])\n",
    "\n",
    "    ll_layers = get_ll_layers()\n",
    "    for layer in ll_layers: model.add(layer)\n",
    "    for l1,l2 in zip(ll_model.layers, model.layers[-3:]):\n",
    "        l2.set_weights(l1.get_weights())\n",
    "    model.compile(optimizer=Adam(), loss='categorical_crossentropy', metrics=['accuracy'])\n",
    "    model.save_weights(model_path+'bn' + i + '.h5')\n",
    "    return model"
   ]
  },
  {
   "cell_type": "markdown",
   "metadata": {},
   "source": [
    "## Dense model"
   ]
  },
  {
   "cell_type": "code",
   "execution_count": 21,
   "metadata": {
    "ExecuteTime": {
     "end_time": "2018-01-09T21:00:42.831155Z",
     "start_time": "2018-01-09T21:00:42.789934Z"
    }
   },
   "outputs": [],
   "source": [
    "def get_conv_model(model):\n",
    "    layers = model.layers\n",
    "    last_conv_idx = [index for index,layer in enumerate(layers) \n",
    "                         if type(layer) is Convolution2D][-1]\n",
    "\n",
    "    conv_layers = layers[:last_conv_idx+1]\n",
    "    conv_model = Sequential(conv_layers)\n",
    "    fc_layers = layers[last_conv_idx+1:]\n",
    "    return conv_model, fc_layers, last_conv_idx"
   ]
  },
  {
   "cell_type": "code",
   "execution_count": 22,
   "metadata": {
    "ExecuteTime": {
     "end_time": "2018-01-09T21:00:42.869817Z",
     "start_time": "2018-01-09T21:00:42.832212Z"
    }
   },
   "outputs": [],
   "source": [
    "def get_fc_layers(p, in_shape):\n",
    "    return [\n",
    "        MaxPooling2D(input_shape=in_shape),\n",
    "        Flatten(),\n",
    "        Dense(4096, activation='relu'),\n",
    "        BatchNormalization(),\n",
    "        Dropout(p),\n",
    "        Dense(4096, activation='relu'),\n",
    "        BatchNormalization(),\n",
    "        Dropout(p),\n",
    "        Dense(2, activation='softmax')\n",
    "        ]"
   ]
  },
  {
   "cell_type": "code",
   "execution_count": 23,
   "metadata": {
    "ExecuteTime": {
     "end_time": "2018-01-09T21:00:42.933035Z",
     "start_time": "2018-01-09T21:00:42.870854Z"
    }
   },
   "outputs": [],
   "source": [
    "def train_dense_layers(i, model):\n",
    "    conv_model, fc_layers, last_conv_idx = get_conv_model(model)\n",
    "    conv_shape = conv_model.output_shape[1:]\n",
    "    fc_model = Sequential(get_fc_layers(0.5, conv_shape))\n",
    "    for l1,l2 in zip(fc_model.layers, fc_layers): \n",
    "        weights = l2.get_weights()\n",
    "        l1.set_weights(weights)\n",
    "    fc_model.compile(optimizer=Adam(1e-5), loss='categorical_crossentropy', \n",
    "                     metrics=['accuracy'])\n",
    "    fc_model.fit(trn_features, trn_labels, epochs=2, \n",
    "         batch_size=batch_size, validation_data=(val_features, val_labels))\n",
    "\n",
    "    # width_zoom_range removed from the following because not available in Keras2\n",
    "    gen = image.ImageDataGenerator(rotation_range=10, width_shift_range=0.05, zoom_range=0.05,\n",
    "       channel_shift_range=10, height_shift_range=0.05, shear_range=0.05, horizontal_flip=True)\n",
    "    batches = gen.flow(trn, trn_labels, batch_size=batch_size)\n",
    "    val_batches = image.ImageDataGenerator().flow(val, val_labels, \n",
    "                      shuffle=False, batch_size=batch_size)\n",
    "\n",
    "    for layer in conv_model.layers: layer.trainable = False\n",
    "    for layer in get_fc_layers(0.5, conv_shape): conv_model.add(layer)\n",
    "    for l1,l2 in zip(conv_model.layers[last_conv_idx+1:], fc_model.layers): \n",
    "        l1.set_weights(l2.get_weights())\n",
    "\n",
    "    steps_per_epoch = int(np.ceil(batches.n/batch_size))\n",
    "    validation_steps = int(np.ceil(val_batches.n/batch_size))\n",
    "\n",
    "    conv_model.compile(optimizer=Adam(1e-5), loss='categorical_crossentropy', \n",
    "                       metrics=['accuracy'])\n",
    "    conv_model.save_weights(model_path+'no_dropout_bn' + i + '.h5')\n",
    "    conv_model.fit_generator(batches, steps_per_epoch=steps_per_epoch, epochs=1, \n",
    "                            validation_data=val_batches, validation_steps=validation_steps)\n",
    "    for layer in conv_model.layers[16:]: layer.trainable = True\n",
    "        \n",
    "    #- added again the compile instruction in order to avoid a Keras 2.1 warning message\n",
    "    conv_model.compile(optimizer=Adam(1e-5), loss='categorical_crossentropy', \n",
    "                       metrics=['accuracy'])\n",
    "    \n",
    "    conv_model.fit_generator(batches, steps_per_epoch=steps_per_epoch, epochs=8, \n",
    "                            validation_data=val_batches, validation_steps=validation_steps)\n",
    "\n",
    "    conv_model.optimizer.lr = 1e-7\n",
    "    conv_model.fit_generator(batches, steps_per_epoch=steps_per_epoch, epochs=10, \n",
    "                            validation_data=val_batches, validation_steps=validation_steps)\n",
    "    conv_model.save_weights(model_path + 'aug' + i + '.h5')"
   ]
  },
  {
   "cell_type": "markdown",
   "metadata": {},
   "source": [
    "## Build ensemble"
   ]
  },
  {
   "cell_type": "code",
   "execution_count": 24,
   "metadata": {
    "ExecuteTime": {
     "end_time": "2018-01-10T08:20:38.564143Z",
     "start_time": "2018-01-09T21:00:42.934051Z"
    }
   },
   "outputs": [
    {
     "name": "stdout",
     "output_type": "stream",
     "text": [
      "Train on 23000 samples, validate on 2000 samples\n",
      "Epoch 1/12\n",
      "23000/23000 [==============================] - 1s 37us/step - loss: 0.5620 - acc: 0.7707 - val_loss: 0.1551 - val_acc: 0.9425\n",
      "Epoch 2/12\n",
      "23000/23000 [==============================] - 1s 36us/step - loss: 0.2222 - acc: 0.9180 - val_loss: 0.1001 - val_acc: 0.9650\n",
      "Epoch 3/12\n",
      "23000/23000 [==============================] - 1s 37us/step - loss: 0.1679 - acc: 0.9416 - val_loss: 0.0812 - val_acc: 0.9710\n",
      "Epoch 4/12\n",
      "23000/23000 [==============================] - 1s 37us/step - loss: 0.1311 - acc: 0.9546 - val_loss: 0.0729 - val_acc: 0.9755\n",
      "Epoch 5/12\n",
      "23000/23000 [==============================] - 1s 37us/step - loss: 0.1156 - acc: 0.9581 - val_loss: 0.0684 - val_acc: 0.9760\n",
      "Epoch 6/12\n",
      "23000/23000 [==============================] - 1s 39us/step - loss: 0.1169 - acc: 0.9606 - val_loss: 0.0653 - val_acc: 0.9790\n",
      "Epoch 7/12\n",
      "23000/23000 [==============================] - 1s 37us/step - loss: 0.1096 - acc: 0.9644 - val_loss: 0.0635 - val_acc: 0.9805\n",
      "Epoch 8/12\n",
      "23000/23000 [==============================] - 1s 37us/step - loss: 0.1078 - acc: 0.9643 - val_loss: 0.0616 - val_acc: 0.9820\n",
      "Epoch 9/12\n",
      "23000/23000 [==============================] - 1s 37us/step - loss: 0.0983 - acc: 0.9670 - val_loss: 0.0603 - val_acc: 0.9835\n",
      "Epoch 10/12\n",
      "23000/23000 [==============================] - 1s 37us/step - loss: 0.0961 - acc: 0.9687 - val_loss: 0.0598 - val_acc: 0.9825\n",
      "Epoch 11/12\n",
      "23000/23000 [==============================] - 1s 37us/step - loss: 0.0891 - acc: 0.9696 - val_loss: 0.0589 - val_acc: 0.9825\n",
      "Epoch 12/12\n",
      "23000/23000 [==============================] - 1s 40us/step - loss: 0.0909 - acc: 0.9693 - val_loss: 0.0585 - val_acc: 0.9825\n",
      "Train on 23000 samples, validate on 2000 samples\n",
      "Epoch 1/1\n",
      "23000/23000 [==============================] - 1s 41us/step - loss: 0.0836 - acc: 0.9717 - val_loss: 0.0581 - val_acc: 0.9825\n",
      "Train on 23000 samples, validate on 2000 samples\n",
      "Epoch 1/2\n",
      "23000/23000 [==============================] - 29s 1ms/step - loss: 0.0973 - acc: 0.9662 - val_loss: 0.0467 - val_acc: 0.9830\n",
      "Epoch 2/2\n",
      "23000/23000 [==============================] - 29s 1ms/step - loss: 0.0533 - acc: 0.9827 - val_loss: 0.0502 - val_acc: 0.9850\n",
      "Epoch 1/1\n",
      "719/719 [==============================] - 219s 304ms/step - loss: 0.0747 - acc: 0.9768 - val_loss: 0.0526 - val_acc: 0.9845\n",
      "Epoch 1/8\n",
      "719/719 [==============================] - 447s 622ms/step - loss: 0.0827 - acc: 0.9730 - val_loss: 0.0760 - val_acc: 0.9790\n",
      "Epoch 2/8\n",
      "719/719 [==============================] - 439s 610ms/step - loss: 0.0818 - acc: 0.9741 - val_loss: 0.1589 - val_acc: 0.9585\n",
      "Epoch 3/8\n",
      "719/719 [==============================] - 438s 609ms/step - loss: 0.0761 - acc: 0.9747 - val_loss: 0.0759 - val_acc: 0.9815\n",
      "Epoch 4/8\n",
      "719/719 [==============================] - 437s 608ms/step - loss: 0.0591 - acc: 0.9798 - val_loss: 0.0604 - val_acc: 0.9845\n",
      "Epoch 5/8\n",
      "719/719 [==============================] - 437s 608ms/step - loss: 0.0698 - acc: 0.9773 - val_loss: 0.0640 - val_acc: 0.9825\n",
      "Epoch 6/8\n",
      "719/719 [==============================] - 437s 608ms/step - loss: 0.0549 - acc: 0.9819 - val_loss: 0.0560 - val_acc: 0.9840\n",
      "Epoch 7/8\n",
      "719/719 [==============================] - 437s 608ms/step - loss: 0.0511 - acc: 0.9838 - val_loss: 0.0592 - val_acc: 0.9860\n",
      "Epoch 8/8\n",
      "719/719 [==============================] - 437s 608ms/step - loss: 0.0444 - acc: 0.9846 - val_loss: 0.0441 - val_acc: 0.9885\n",
      "Epoch 1/10\n",
      "719/719 [==============================] - 438s 609ms/step - loss: 0.0465 - acc: 0.9848 - val_loss: 0.0703 - val_acc: 0.9785\n",
      "Epoch 2/10\n",
      "719/719 [==============================] - 437s 607ms/step - loss: 0.0461 - acc: 0.9839 - val_loss: 0.0414 - val_acc: 0.9895\n",
      "Epoch 3/10\n",
      "719/719 [==============================] - 437s 607ms/step - loss: 0.0353 - acc: 0.9873 - val_loss: 0.0609 - val_acc: 0.9825\n",
      "Epoch 4/10\n",
      "719/719 [==============================] - 437s 607ms/step - loss: 0.0319 - acc: 0.9888 - val_loss: 0.0482 - val_acc: 0.9895\n",
      "Epoch 5/10\n",
      "719/719 [==============================] - 436s 607ms/step - loss: 0.0262 - acc: 0.9914 - val_loss: 0.0526 - val_acc: 0.9890\n",
      "Epoch 6/10\n",
      "719/719 [==============================] - 436s 607ms/step - loss: 0.0262 - acc: 0.9917 - val_loss: 0.0630 - val_acc: 0.9850\n",
      "Epoch 7/10\n",
      "719/719 [==============================] - 437s 607ms/step - loss: 0.0238 - acc: 0.9916 - val_loss: 0.0619 - val_acc: 0.9845\n",
      "Epoch 8/10\n",
      "719/719 [==============================] - 436s 607ms/step - loss: 0.0236 - acc: 0.9914 - val_loss: 0.1653 - val_acc: 0.9605\n",
      "Epoch 9/10\n",
      "719/719 [==============================] - 436s 607ms/step - loss: 0.0250 - acc: 0.9923 - val_loss: 0.0419 - val_acc: 0.9875\n",
      "Epoch 10/10\n",
      "719/719 [==============================] - 436s 606ms/step - loss: 0.0261 - acc: 0.9909 - val_loss: 0.1071 - val_acc: 0.9735\n",
      "Train on 23000 samples, validate on 2000 samples\n",
      "Epoch 1/12\n",
      "23000/23000 [==============================] - 1s 39us/step - loss: 0.4910 - acc: 0.8033 - val_loss: 0.1437 - val_acc: 0.9515\n",
      "Epoch 2/12\n",
      "23000/23000 [==============================] - 1s 43us/step - loss: 0.2157 - acc: 0.9196 - val_loss: 0.0946 - val_acc: 0.9615\n",
      "Epoch 3/12\n",
      "23000/23000 [==============================] - 1s 43us/step - loss: 0.1555 - acc: 0.9447 - val_loss: 0.0789 - val_acc: 0.9710\n",
      "Epoch 4/12\n",
      "23000/23000 [==============================] - 1s 37us/step - loss: 0.1301 - acc: 0.9537 - val_loss: 0.0702 - val_acc: 0.9740\n",
      "Epoch 5/12\n",
      "23000/23000 [==============================] - 1s 40us/step - loss: 0.1225 - acc: 0.9587 - val_loss: 0.0663 - val_acc: 0.9765\n",
      "Epoch 6/12\n",
      "23000/23000 [==============================] - 1s 38us/step - loss: 0.1128 - acc: 0.9617 - val_loss: 0.0627 - val_acc: 0.9775\n",
      "Epoch 7/12\n",
      "23000/23000 [==============================] - 1s 37us/step - loss: 0.1053 - acc: 0.9628 - val_loss: 0.0609 - val_acc: 0.9785\n",
      "Epoch 8/12\n",
      "23000/23000 [==============================] - 1s 39us/step - loss: 0.1033 - acc: 0.9651 - val_loss: 0.0594 - val_acc: 0.9785\n",
      "Epoch 9/12\n",
      "23000/23000 [==============================] - 1s 39us/step - loss: 0.0998 - acc: 0.9672 - val_loss: 0.0584 - val_acc: 0.9805\n",
      "Epoch 10/12\n",
      "23000/23000 [==============================] - 1s 38us/step - loss: 0.0929 - acc: 0.9687 - val_loss: 0.0573 - val_acc: 0.9810\n",
      "Epoch 11/12\n",
      "23000/23000 [==============================] - 1s 44us/step - loss: 0.0938 - acc: 0.9683 - val_loss: 0.0571 - val_acc: 0.9810\n",
      "Epoch 12/12\n",
      "23000/23000 [==============================] - 1s 39us/step - loss: 0.0903 - acc: 0.9700 - val_loss: 0.0558 - val_acc: 0.9825\n",
      "Train on 23000 samples, validate on 2000 samples\n",
      "Epoch 1/1\n",
      "23000/23000 [==============================] - 1s 40us/step - loss: 0.0930 - acc: 0.9698 - val_loss: 0.0551 - val_acc: 0.9830\n",
      "Train on 23000 samples, validate on 2000 samples\n",
      "Epoch 1/2\n",
      "23000/23000 [==============================] - 28s 1ms/step - loss: 0.1043 - acc: 0.9650 - val_loss: 0.0481 - val_acc: 0.9835\n",
      "Epoch 2/2\n",
      "23000/23000 [==============================] - 27s 1ms/step - loss: 0.0433 - acc: 0.9835 - val_loss: 0.0515 - val_acc: 0.9845\n",
      "Epoch 1/1\n",
      "719/719 [==============================] - 222s 308ms/step - loss: 0.0694 - acc: 0.9777 - val_loss: 0.0539 - val_acc: 0.9850\n",
      "Epoch 1/8\n",
      "719/719 [==============================] - 444s 618ms/step - loss: 0.0957 - acc: 0.9707 - val_loss: 0.0783 - val_acc: 0.9780\n",
      "Epoch 2/8\n",
      "719/719 [==============================] - 438s 609ms/step - loss: 0.1420 - acc: 0.9550 - val_loss: 0.0688 - val_acc: 0.9845\n",
      "Epoch 3/8\n",
      "719/719 [==============================] - 437s 608ms/step - loss: 0.0918 - acc: 0.9691 - val_loss: 0.0587 - val_acc: 0.9800\n",
      "Epoch 4/8\n",
      "719/719 [==============================] - 438s 608ms/step - loss: 0.0886 - acc: 0.9703 - val_loss: 0.0834 - val_acc: 0.9795\n",
      "Epoch 5/8\n",
      "719/719 [==============================] - 437s 608ms/step - loss: 0.0841 - acc: 0.9724 - val_loss: 0.0444 - val_acc: 0.9875\n",
      "Epoch 6/8\n",
      "719/719 [==============================] - 437s 608ms/step - loss: 0.0669 - acc: 0.9769 - val_loss: 0.0798 - val_acc: 0.9775\n",
      "Epoch 7/8\n",
      "719/719 [==============================] - 437s 608ms/step - loss: 0.0636 - acc: 0.9785 - val_loss: 0.0685 - val_acc: 0.9770\n",
      "Epoch 8/8\n",
      "719/719 [==============================] - 437s 608ms/step - loss: 0.0508 - acc: 0.9823 - val_loss: 0.0542 - val_acc: 0.9855\n"
     ]
    },
    {
     "name": "stdout",
     "output_type": "stream",
     "text": [
      "Epoch 1/10\n",
      "719/719 [==============================] - 435s 606ms/step - loss: 0.0414 - acc: 0.9855 - val_loss: 0.0921 - val_acc: 0.9765\n",
      "Epoch 2/10\n",
      "719/719 [==============================] - 435s 605ms/step - loss: 0.0523 - acc: 0.9827 - val_loss: 0.0322 - val_acc: 0.9910\n",
      "Epoch 3/10\n",
      "719/719 [==============================] - 436s 606ms/step - loss: 0.0459 - acc: 0.9850 - val_loss: 0.0571 - val_acc: 0.9840\n",
      "Epoch 4/10\n",
      "719/719 [==============================] - 436s 606ms/step - loss: 0.0355 - acc: 0.9886 - val_loss: 0.0419 - val_acc: 0.9890\n",
      "Epoch 5/10\n",
      "719/719 [==============================] - 436s 606ms/step - loss: 0.0342 - acc: 0.9871 - val_loss: 0.0384 - val_acc: 0.9855\n",
      "Epoch 6/10\n",
      "719/719 [==============================] - 435s 605ms/step - loss: 0.0374 - acc: 0.9871 - val_loss: 0.0379 - val_acc: 0.9905\n",
      "Epoch 7/10\n",
      "719/719 [==============================] - 435s 605ms/step - loss: 0.0284 - acc: 0.9902 - val_loss: 0.0511 - val_acc: 0.9885\n",
      "Epoch 8/10\n",
      "719/719 [==============================] - 435s 605ms/step - loss: 0.0234 - acc: 0.9922 - val_loss: 0.0606 - val_acc: 0.9885\n",
      "Epoch 9/10\n",
      "719/719 [==============================] - 435s 605ms/step - loss: 0.0253 - acc: 0.9916 - val_loss: 0.0445 - val_acc: 0.9900\n",
      "Epoch 10/10\n",
      "719/719 [==============================] - 435s 604ms/step - loss: 0.0277 - acc: 0.9907 - val_loss: 0.0479 - val_acc: 0.9840\n",
      "Train on 23000 samples, validate on 2000 samples\n",
      "Epoch 1/12\n",
      "23000/23000 [==============================] - 1s 38us/step - loss: 0.5379 - acc: 0.7817 - val_loss: 0.1582 - val_acc: 0.9405\n",
      "Epoch 2/12\n",
      "23000/23000 [==============================] - 1s 38us/step - loss: 0.2197 - acc: 0.9173 - val_loss: 0.0987 - val_acc: 0.9640\n",
      "Epoch 3/12\n",
      "23000/23000 [==============================] - 1s 39us/step - loss: 0.1525 - acc: 0.9437 - val_loss: 0.0799 - val_acc: 0.9685\n",
      "Epoch 4/12\n",
      "23000/23000 [==============================] - 1s 38us/step - loss: 0.1331 - acc: 0.9527 - val_loss: 0.0705 - val_acc: 0.9715\n",
      "Epoch 5/12\n",
      "23000/23000 [==============================] - 1s 37us/step - loss: 0.1242 - acc: 0.9570 - val_loss: 0.0646 - val_acc: 0.9760\n",
      "Epoch 6/12\n",
      "23000/23000 [==============================] - 1s 38us/step - loss: 0.1104 - acc: 0.9618 - val_loss: 0.0611 - val_acc: 0.9780\n",
      "Epoch 7/12\n",
      "23000/23000 [==============================] - 1s 40us/step - loss: 0.1056 - acc: 0.9640 - val_loss: 0.0582 - val_acc: 0.9795\n",
      "Epoch 8/12\n",
      "23000/23000 [==============================] - 1s 38us/step - loss: 0.1000 - acc: 0.9648 - val_loss: 0.0556 - val_acc: 0.9825\n",
      "Epoch 9/12\n",
      "23000/23000 [==============================] - 1s 42us/step - loss: 0.1009 - acc: 0.9670 - val_loss: 0.0546 - val_acc: 0.9830\n",
      "Epoch 10/12\n",
      "23000/23000 [==============================] - 1s 38us/step - loss: 0.0959 - acc: 0.9671 - val_loss: 0.0538 - val_acc: 0.9835\n",
      "Epoch 11/12\n",
      "23000/23000 [==============================] - 1s 38us/step - loss: 0.0865 - acc: 0.9711 - val_loss: 0.0532 - val_acc: 0.9840\n",
      "Epoch 12/12\n",
      "23000/23000 [==============================] - 1s 38us/step - loss: 0.0905 - acc: 0.9700 - val_loss: 0.0522 - val_acc: 0.9840\n",
      "Train on 23000 samples, validate on 2000 samples\n",
      "Epoch 1/1\n",
      "23000/23000 [==============================] - 1s 38us/step - loss: 0.0859 - acc: 0.9710 - val_loss: 0.0518 - val_acc: 0.9835\n",
      "Train on 23000 samples, validate on 2000 samples\n",
      "Epoch 1/2\n",
      "23000/23000 [==============================] - 27s 1ms/step - loss: 0.0957 - acc: 0.9686 - val_loss: 0.0492 - val_acc: 0.9825\n",
      "Epoch 2/2\n",
      "23000/23000 [==============================] - 27s 1ms/step - loss: 0.0478 - acc: 0.9844 - val_loss: 0.0548 - val_acc: 0.9845\n",
      "Epoch 1/1\n",
      "719/719 [==============================] - 218s 303ms/step - loss: 0.0648 - acc: 0.9787 - val_loss: 0.0582 - val_acc: 0.9830\n",
      "Epoch 1/8\n",
      "719/719 [==============================] - 443s 616ms/step - loss: 0.1029 - acc: 0.9674 - val_loss: 0.0574 - val_acc: 0.9775\n",
      "Epoch 2/8\n",
      "719/719 [==============================] - 438s 609ms/step - loss: 0.0873 - acc: 0.9692 - val_loss: 0.0680 - val_acc: 0.9825\n",
      "Epoch 3/8\n",
      "719/719 [==============================] - 437s 608ms/step - loss: 0.0670 - acc: 0.9770 - val_loss: 0.0487 - val_acc: 0.9855\n",
      "Epoch 4/8\n",
      "719/719 [==============================] - 437s 607ms/step - loss: 0.0571 - acc: 0.9814 - val_loss: 0.0582 - val_acc: 0.9825\n",
      "Epoch 5/8\n",
      "719/719 [==============================] - 437s 607ms/step - loss: 0.0471 - acc: 0.9833 - val_loss: 0.0554 - val_acc: 0.9850\n",
      "Epoch 6/8\n",
      "719/719 [==============================] - 436s 607ms/step - loss: 0.0527 - acc: 0.9828 - val_loss: 0.0693 - val_acc: 0.9845\n",
      "Epoch 7/8\n",
      "719/719 [==============================] - 436s 607ms/step - loss: 0.0407 - acc: 0.9861 - val_loss: 0.0419 - val_acc: 0.9860\n",
      "Epoch 8/8\n",
      "719/719 [==============================] - 436s 607ms/step - loss: 0.0414 - acc: 0.9857 - val_loss: 0.0553 - val_acc: 0.9835\n",
      "Epoch 1/10\n",
      "719/719 [==============================] - 436s 607ms/step - loss: 0.0511 - acc: 0.9834 - val_loss: 0.0716 - val_acc: 0.9815\n",
      "Epoch 2/10\n",
      "719/719 [==============================] - 436s 606ms/step - loss: 0.0516 - acc: 0.9822 - val_loss: 0.0519 - val_acc: 0.9850\n",
      "Epoch 3/10\n",
      "719/719 [==============================] - 436s 606ms/step - loss: 0.0416 - acc: 0.9847 - val_loss: 0.0474 - val_acc: 0.9900\n",
      "Epoch 4/10\n",
      "719/719 [==============================] - 435s 606ms/step - loss: 0.0367 - acc: 0.9882 - val_loss: 0.0310 - val_acc: 0.9900\n",
      "Epoch 5/10\n",
      "719/719 [==============================] - 436s 606ms/step - loss: 0.0283 - acc: 0.9897 - val_loss: 0.0487 - val_acc: 0.9860\n",
      "Epoch 6/10\n",
      "719/719 [==============================] - 435s 606ms/step - loss: 0.0335 - acc: 0.9884 - val_loss: 0.0438 - val_acc: 0.9880\n",
      "Epoch 7/10\n",
      "719/719 [==============================] - 435s 605ms/step - loss: 0.0295 - acc: 0.9898 - val_loss: 0.0502 - val_acc: 0.9885\n",
      "Epoch 8/10\n",
      "719/719 [==============================] - 435s 605ms/step - loss: 0.0199 - acc: 0.9934 - val_loss: 0.0380 - val_acc: 0.9890\n",
      "Epoch 9/10\n",
      "719/719 [==============================] - 435s 605ms/step - loss: 0.0184 - acc: 0.9937 - val_loss: 0.0547 - val_acc: 0.9875\n",
      "Epoch 10/10\n",
      "719/719 [==============================] - 435s 605ms/step - loss: 0.0255 - acc: 0.9914 - val_loss: 0.0401 - val_acc: 0.9890\n",
      "Train on 23000 samples, validate on 2000 samples\n",
      "Epoch 1/12\n",
      "23000/23000 [==============================] - 1s 40us/step - loss: 0.5010 - acc: 0.7968 - val_loss: 0.1422 - val_acc: 0.9540\n",
      "Epoch 2/12\n",
      "23000/23000 [==============================] - 1s 38us/step - loss: 0.2050 - acc: 0.9236 - val_loss: 0.0962 - val_acc: 0.9665\n",
      "Epoch 3/12\n",
      "23000/23000 [==============================] - 1s 40us/step - loss: 0.1512 - acc: 0.9463 - val_loss: 0.0820 - val_acc: 0.9705\n",
      "Epoch 4/12\n",
      "23000/23000 [==============================] - 1s 38us/step - loss: 0.1275 - acc: 0.9544 - val_loss: 0.0750 - val_acc: 0.9755\n",
      "Epoch 5/12\n",
      "23000/23000 [==============================] - 1s 38us/step - loss: 0.1198 - acc: 0.9587 - val_loss: 0.0704 - val_acc: 0.9765\n",
      "Epoch 6/12\n",
      "23000/23000 [==============================] - 1s 39us/step - loss: 0.1066 - acc: 0.9645 - val_loss: 0.0684 - val_acc: 0.9780\n",
      "Epoch 7/12\n",
      "23000/23000 [==============================] - 1s 39us/step - loss: 0.1062 - acc: 0.9653 - val_loss: 0.0659 - val_acc: 0.9785\n",
      "Epoch 8/12\n",
      "23000/23000 [==============================] - 1s 38us/step - loss: 0.1020 - acc: 0.9661 - val_loss: 0.0653 - val_acc: 0.9780\n",
      "Epoch 9/12\n",
      "23000/23000 [==============================] - 1s 38us/step - loss: 0.0967 - acc: 0.9683 - val_loss: 0.0636 - val_acc: 0.9790\n",
      "Epoch 10/12\n",
      "23000/23000 [==============================] - 1s 37us/step - loss: 0.0982 - acc: 0.9687 - val_loss: 0.0614 - val_acc: 0.9800\n",
      "Epoch 11/12\n",
      "23000/23000 [==============================] - 1s 37us/step - loss: 0.0914 - acc: 0.9708 - val_loss: 0.0619 - val_acc: 0.9805\n",
      "Epoch 12/12\n",
      "23000/23000 [==============================] - 1s 37us/step - loss: 0.0883 - acc: 0.9697 - val_loss: 0.0603 - val_acc: 0.9805\n",
      "Train on 23000 samples, validate on 2000 samples\n",
      "Epoch 1/1\n",
      "23000/23000 [==============================] - 1s 40us/step - loss: 0.0871 - acc: 0.9706 - val_loss: 0.0603 - val_acc: 0.9810\n",
      "Train on 23000 samples, validate on 2000 samples\n",
      "Epoch 1/2\n",
      "23000/23000 [==============================] - 27s 1ms/step - loss: 0.0972 - acc: 0.9672 - val_loss: 0.0564 - val_acc: 0.9835\n"
     ]
    },
    {
     "name": "stdout",
     "output_type": "stream",
     "text": [
      "Epoch 2/2\n",
      "23000/23000 [==============================] - 27s 1ms/step - loss: 0.0474 - acc: 0.9843 - val_loss: 0.0568 - val_acc: 0.9875\n",
      "Epoch 1/1\n",
      "719/719 [==============================] - 218s 303ms/step - loss: 0.0725 - acc: 0.9776 - val_loss: 0.0574 - val_acc: 0.9845\n",
      "Epoch 1/8\n",
      "719/719 [==============================] - 440s 612ms/step - loss: 0.0940 - acc: 0.9701 - val_loss: 0.0648 - val_acc: 0.9805\n",
      "Epoch 2/8\n",
      "719/719 [==============================] - 436s 606ms/step - loss: 0.0819 - acc: 0.9732 - val_loss: 0.1396 - val_acc: 0.9620\n",
      "Epoch 3/8\n",
      "719/719 [==============================] - 435s 605ms/step - loss: 0.0767 - acc: 0.9753 - val_loss: 0.0548 - val_acc: 0.9850\n",
      "Epoch 4/8\n",
      "719/719 [==============================] - 435s 605ms/step - loss: 0.0846 - acc: 0.9723 - val_loss: 0.0770 - val_acc: 0.9780\n",
      "Epoch 5/8\n",
      "719/719 [==============================] - 435s 605ms/step - loss: 0.0565 - acc: 0.9814 - val_loss: 0.0420 - val_acc: 0.9865\n",
      "Epoch 6/8\n",
      "719/719 [==============================] - 435s 605ms/step - loss: 0.0592 - acc: 0.9806 - val_loss: 0.0697 - val_acc: 0.9805\n",
      "Epoch 7/8\n",
      "719/719 [==============================] - 435s 605ms/step - loss: 0.0483 - acc: 0.9826 - val_loss: 0.0572 - val_acc: 0.9880\n",
      "Epoch 8/8\n",
      "719/719 [==============================] - 435s 605ms/step - loss: 0.0512 - acc: 0.9830 - val_loss: 0.0559 - val_acc: 0.9850\n",
      "Epoch 1/10\n",
      "719/719 [==============================] - 435s 605ms/step - loss: 0.0600 - acc: 0.9803 - val_loss: 0.0424 - val_acc: 0.9860\n",
      "Epoch 2/10\n",
      "719/719 [==============================] - 435s 605ms/step - loss: 0.0430 - acc: 0.9850 - val_loss: 0.0560 - val_acc: 0.9835\n",
      "Epoch 3/10\n",
      "719/719 [==============================] - 435s 605ms/step - loss: 0.0371 - acc: 0.9877 - val_loss: 0.1074 - val_acc: 0.9730\n",
      "Epoch 4/10\n",
      "719/719 [==============================] - 435s 605ms/step - loss: 0.0386 - acc: 0.9875 - val_loss: 0.0336 - val_acc: 0.9890\n",
      "Epoch 5/10\n",
      "719/719 [==============================] - 435s 605ms/step - loss: 0.0305 - acc: 0.9899 - val_loss: 0.0491 - val_acc: 0.9900\n",
      "Epoch 6/10\n",
      "719/719 [==============================] - 435s 606ms/step - loss: 0.0300 - acc: 0.9902 - val_loss: 0.0457 - val_acc: 0.9900\n",
      "Epoch 7/10\n",
      "719/719 [==============================] - 435s 606ms/step - loss: 0.0258 - acc: 0.9912 - val_loss: 0.0468 - val_acc: 0.9890\n",
      "Epoch 8/10\n",
      "719/719 [==============================] - 435s 605ms/step - loss: 0.0300 - acc: 0.9900 - val_loss: 0.0486 - val_acc: 0.9890\n",
      "Epoch 9/10\n",
      "719/719 [==============================] - 435s 605ms/step - loss: 0.0317 - acc: 0.9895 - val_loss: 0.0428 - val_acc: 0.9895\n",
      "Epoch 10/10\n",
      "719/719 [==============================] - 435s 605ms/step - loss: 0.0208 - acc: 0.9927 - val_loss: 0.0363 - val_acc: 0.9910\n",
      "Train on 23000 samples, validate on 2000 samples\n",
      "Epoch 1/12\n",
      "23000/23000 [==============================] - 1s 41us/step - loss: 0.7040 - acc: 0.7185 - val_loss: 0.1841 - val_acc: 0.9380\n",
      "Epoch 2/12\n",
      "23000/23000 [==============================] - 1s 40us/step - loss: 0.2329 - acc: 0.9094 - val_loss: 0.1089 - val_acc: 0.9635\n",
      "Epoch 3/12\n",
      "23000/23000 [==============================] - 1s 37us/step - loss: 0.1614 - acc: 0.9417 - val_loss: 0.0885 - val_acc: 0.9665\n",
      "Epoch 4/12\n",
      "23000/23000 [==============================] - 1s 40us/step - loss: 0.1423 - acc: 0.9493 - val_loss: 0.0787 - val_acc: 0.9695\n",
      "Epoch 5/12\n",
      "23000/23000 [==============================] - 1s 41us/step - loss: 0.1232 - acc: 0.9581 - val_loss: 0.0736 - val_acc: 0.9735\n",
      "Epoch 6/12\n",
      "23000/23000 [==============================] - 1s 40us/step - loss: 0.1115 - acc: 0.9620 - val_loss: 0.0701 - val_acc: 0.9760\n",
      "Epoch 7/12\n",
      "23000/23000 [==============================] - 1s 37us/step - loss: 0.1100 - acc: 0.9621 - val_loss: 0.0675 - val_acc: 0.9760\n",
      "Epoch 8/12\n",
      "23000/23000 [==============================] - 1s 37us/step - loss: 0.0989 - acc: 0.9663 - val_loss: 0.0660 - val_acc: 0.9780\n",
      "Epoch 9/12\n",
      "23000/23000 [==============================] - 1s 37us/step - loss: 0.0977 - acc: 0.9668 - val_loss: 0.0641 - val_acc: 0.9790\n",
      "Epoch 10/12\n",
      "23000/23000 [==============================] - 1s 37us/step - loss: 0.0953 - acc: 0.9689 - val_loss: 0.0628 - val_acc: 0.9795\n",
      "Epoch 11/12\n",
      "23000/23000 [==============================] - 1s 39us/step - loss: 0.0924 - acc: 0.9703 - val_loss: 0.0616 - val_acc: 0.9790\n",
      "Epoch 12/12\n",
      "23000/23000 [==============================] - 1s 41us/step - loss: 0.0888 - acc: 0.9706 - val_loss: 0.0609 - val_acc: 0.9790\n",
      "Train on 23000 samples, validate on 2000 samples\n",
      "Epoch 1/1\n",
      "23000/23000 [==============================] - 1s 40us/step - loss: 0.0835 - acc: 0.9724 - val_loss: 0.0602 - val_acc: 0.9800\n",
      "Train on 23000 samples, validate on 2000 samples\n",
      "Epoch 1/2\n",
      "23000/23000 [==============================] - 23s 1ms/step - loss: 0.0948 - acc: 0.9691 - val_loss: 0.0541 - val_acc: 0.9815\n",
      "Epoch 2/2\n",
      "23000/23000 [==============================] - 23s 1ms/step - loss: 0.0489 - acc: 0.9831 - val_loss: 0.0434 - val_acc: 0.9840\n",
      "Epoch 1/1\n",
      "719/719 [==============================] - 216s 301ms/step - loss: 0.0682 - acc: 0.9782 - val_loss: 0.0512 - val_acc: 0.9840\n",
      "Epoch 1/8\n",
      "719/719 [==============================] - 440s 611ms/step - loss: 0.1073 - acc: 0.9663 - val_loss: 0.0955 - val_acc: 0.9715\n",
      "Epoch 2/8\n",
      "719/719 [==============================] - 435s 605ms/step - loss: 0.0990 - acc: 0.9691 - val_loss: 0.0763 - val_acc: 0.9840\n",
      "Epoch 3/8\n",
      "719/719 [==============================] - 434s 603ms/step - loss: 0.0866 - acc: 0.9724 - val_loss: 0.0775 - val_acc: 0.9775\n",
      "Epoch 4/8\n",
      "719/719 [==============================] - 434s 604ms/step - loss: 0.0605 - acc: 0.9797 - val_loss: 0.0448 - val_acc: 0.9865\n",
      "Epoch 5/8\n",
      "719/719 [==============================] - 434s 603ms/step - loss: 0.0616 - acc: 0.9801 - val_loss: 0.0460 - val_acc: 0.9850\n",
      "Epoch 6/8\n",
      "719/719 [==============================] - 434s 603ms/step - loss: 0.0476 - acc: 0.9839 - val_loss: 0.0638 - val_acc: 0.9830\n",
      "Epoch 7/8\n",
      "719/719 [==============================] - 434s 603ms/step - loss: 0.0479 - acc: 0.9844 - val_loss: 0.0441 - val_acc: 0.9880\n",
      "Epoch 8/8\n",
      "719/719 [==============================] - 434s 603ms/step - loss: 0.0540 - acc: 0.9819 - val_loss: 0.0574 - val_acc: 0.9805\n",
      "Epoch 1/10\n",
      "719/719 [==============================] - 433s 603ms/step - loss: 0.0426 - acc: 0.9854 - val_loss: 0.0830 - val_acc: 0.9805\n",
      "Epoch 2/10\n",
      "719/719 [==============================] - 433s 602ms/step - loss: 0.0434 - acc: 0.9850 - val_loss: 0.0514 - val_acc: 0.9865\n",
      "Epoch 3/10\n",
      "719/719 [==============================] - 433s 602ms/step - loss: 0.0403 - acc: 0.9864 - val_loss: 0.0419 - val_acc: 0.9880\n",
      "Epoch 4/10\n",
      "719/719 [==============================] - 433s 602ms/step - loss: 0.0293 - acc: 0.9899 - val_loss: 0.0776 - val_acc: 0.9825\n",
      "Epoch 5/10\n",
      "719/719 [==============================] - 431s 599ms/step - loss: 0.0304 - acc: 0.9899 - val_loss: 0.0773 - val_acc: 0.9765\n",
      "Epoch 6/10\n",
      "719/719 [==============================] - 430s 598ms/step - loss: 0.0349 - acc: 0.9878 - val_loss: 0.0517 - val_acc: 0.9850\n",
      "Epoch 7/10\n",
      "719/719 [==============================] - 430s 598ms/step - loss: 0.0283 - acc: 0.9902 - val_loss: 0.0362 - val_acc: 0.9915\n",
      "Epoch 8/10\n",
      "719/719 [==============================] - 431s 599ms/step - loss: 0.0243 - acc: 0.9923 - val_loss: 0.0458 - val_acc: 0.9905\n",
      "Epoch 9/10\n",
      "719/719 [==============================] - 432s 601ms/step - loss: 0.0187 - acc: 0.9938 - val_loss: 0.0457 - val_acc: 0.9900\n",
      "Epoch 10/10\n",
      "719/719 [==============================] - 433s 602ms/step - loss: 0.0204 - acc: 0.9932 - val_loss: 0.0597 - val_acc: 0.9820\n"
     ]
    }
   ],
   "source": [
    "for i in range(5):\n",
    "    i = str(i)\n",
    "    model = train_last_layer(i)\n",
    "    train_dense_layers(i, model)"
   ]
  },
  {
   "cell_type": "markdown",
   "metadata": {},
   "source": [
    "## Combine ensemble and test"
   ]
  },
  {
   "cell_type": "code",
   "execution_count": 25,
   "metadata": {
    "ExecuteTime": {
     "end_time": "2018-01-10T08:20:40.518969Z",
     "start_time": "2018-01-10T08:20:38.567197Z"
    }
   },
   "outputs": [],
   "source": [
    "ens_model = vgg_ft_bn(2)\n",
    "for layer in ens_model.layers: layer.trainable=True"
   ]
  },
  {
   "cell_type": "code",
   "execution_count": 26,
   "metadata": {
    "ExecuteTime": {
     "end_time": "2018-01-10T08:20:40.525697Z",
     "start_time": "2018-01-10T08:20:40.520492Z"
    }
   },
   "outputs": [],
   "source": [
    "def get_ens_pred(arr, fname):\n",
    "    ens_pred = []\n",
    "    for i in range(5):\n",
    "        i = str(i)\n",
    "        ens_model.load_weights('{}{}{}.h5'.format(model_path, fname, i))\n",
    "        preds = ens_model.predict(arr, batch_size=batch_size)\n",
    "        ens_pred.append(preds)\n",
    "    return ens_pred"
   ]
  },
  {
   "cell_type": "code",
   "execution_count": 27,
   "metadata": {
    "ExecuteTime": {
     "end_time": "2018-01-10T08:21:58.571680Z",
     "start_time": "2018-01-10T08:20:40.527008Z"
    }
   },
   "outputs": [],
   "source": [
    "val_pred2 = get_ens_pred(val, 'aug')"
   ]
  },
  {
   "cell_type": "code",
   "execution_count": 28,
   "metadata": {
    "ExecuteTime": {
     "end_time": "2018-01-10T08:21:58.576488Z",
     "start_time": "2018-01-10T08:21:58.573691Z"
    }
   },
   "outputs": [],
   "source": [
    "val_avg_preds2 = np.stack(val_pred2).mean(axis=0)"
   ]
  },
  {
   "cell_type": "code",
   "execution_count": 29,
   "metadata": {
    "ExecuteTime": {
     "end_time": "2018-01-10T08:22:01.348891Z",
     "start_time": "2018-01-10T08:21:58.577727Z"
    }
   },
   "outputs": [
    {
     "data": {
      "text/plain": [
       "0.98949999"
      ]
     },
     "execution_count": 29,
     "metadata": {},
     "output_type": "execute_result"
    }
   ],
   "source": [
    "categorical_accuracy(val_labels, val_avg_preds2).eval().mean()"
   ]
  },
  {
   "cell_type": "code",
   "execution_count": null,
   "metadata": {},
   "outputs": [],
   "source": []
  }
 ],
 "metadata": {
  "anaconda-cloud": {},
  "kernelspec": {
   "display_name": "Python 3",
   "language": "python",
   "name": "python3"
  },
  "language_info": {
   "codemirror_mode": {
    "name": "ipython",
    "version": 3
   },
   "file_extension": ".py",
   "mimetype": "text/x-python",
   "name": "python",
   "nbconvert_exporter": "python",
   "pygments_lexer": "ipython3",
   "version": "3.5.4"
  },
  "nav_menu": {},
  "toc": {
   "navigate_menu": true,
   "number_sections": true,
   "sideBar": true,
   "threshold": 6,
   "toc_cell": false,
   "toc_section_display": "block",
   "toc_window_display": false
  },
  "widgets": {
   "state": {},
   "version": "1.1.2"
  }
 },
 "nbformat": 4,
 "nbformat_minor": 1
}
