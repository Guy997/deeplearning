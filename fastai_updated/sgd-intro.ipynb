{
 "cells": [
  {
   "cell_type": "markdown",
   "metadata": {
    "toc": "true"
   },
   "source": [
    "# Table of Contents\n",
    " <p>"
   ]
  },
  {
   "cell_type": "code",
   "execution_count": 1,
   "metadata": {
    "ExecuteTime": {
     "end_time": "2018-01-10T11:55:40.157647Z",
     "start_time": "2018-01-10T11:55:39.538548Z"
    }
   },
   "outputs": [],
   "source": [
    "from __future__ import division, print_function\n",
    "%matplotlib inline\n",
    "import math,sys,os,numpy as np\n",
    "from numpy.random import random\n",
    "from matplotlib import pyplot as plt, rcParams, animation, rc\n",
    "from ipywidgets import interact, interactive, fixed\n",
    "from ipywidgets.widgets import *\n",
    "rc('animation', html='html5')\n",
    "rcParams['figure.figsize'] = 3, 3\n",
    "%precision 4\n",
    "np.set_printoptions(precision=4, linewidth=100)"
   ]
  },
  {
   "cell_type": "code",
   "execution_count": 2,
   "metadata": {
    "ExecuteTime": {
     "end_time": "2018-01-10T11:55:40.163706Z",
     "start_time": "2018-01-10T11:55:40.160426Z"
    }
   },
   "outputs": [],
   "source": [
    "def lin(a,b,x): return a*x+b"
   ]
  },
  {
   "cell_type": "code",
   "execution_count": 3,
   "metadata": {
    "ExecuteTime": {
     "end_time": "2018-01-10T11:55:40.197719Z",
     "start_time": "2018-01-10T11:55:40.165888Z"
    }
   },
   "outputs": [],
   "source": [
    "a=3.\n",
    "b=8."
   ]
  },
  {
   "cell_type": "code",
   "execution_count": 4,
   "metadata": {
    "ExecuteTime": {
     "end_time": "2018-01-10T11:55:40.225028Z",
     "start_time": "2018-01-10T11:55:40.200051Z"
    }
   },
   "outputs": [],
   "source": [
    "n=30\n",
    "x = random(n)\n",
    "y = lin(a,b,x)"
   ]
  },
  {
   "cell_type": "code",
   "execution_count": 5,
   "metadata": {
    "ExecuteTime": {
     "end_time": "2018-01-10T11:55:40.258431Z",
     "start_time": "2018-01-10T11:55:40.226928Z"
    }
   },
   "outputs": [
    {
     "data": {
      "text/plain": [
       "array([ 0.404 ,  0.2024,  0.0466,  0.8144,  0.4518,  0.477 ,  0.6216,  0.787 ,  0.6333,  0.1567,\n",
       "        0.4838,  0.532 ,  0.3954,  0.354 ,  0.2994,  0.1839,  0.745 ,  0.4589,  0.8388,  0.9738,\n",
       "        0.0744,  0.8001,  0.0995,  0.166 ,  0.5395,  0.9709,  0.1815,  0.1335,  0.9939,  0.9999])"
      ]
     },
     "execution_count": 5,
     "metadata": {},
     "output_type": "execute_result"
    }
   ],
   "source": [
    "x"
   ]
  },
  {
   "cell_type": "code",
   "execution_count": 6,
   "metadata": {
    "ExecuteTime": {
     "end_time": "2018-01-10T11:55:40.282198Z",
     "start_time": "2018-01-10T11:55:40.260221Z"
    }
   },
   "outputs": [
    {
     "data": {
      "text/plain": [
       "array([  9.212 ,   8.6072,   8.1399,  10.4433,   9.3554,   9.4309,   9.8648,  10.3609,   9.8998,\n",
       "         8.4702,   9.4513,   9.5961,   9.1863,   9.0621,   8.8982,   8.5517,  10.235 ,   9.3766,\n",
       "        10.5163,  10.9214,   8.2231,  10.4004,   8.2986,   8.4979,   9.6184,  10.9128,   8.5444,\n",
       "         8.4006,  10.9816,  10.9998])"
      ]
     },
     "execution_count": 6,
     "metadata": {},
     "output_type": "execute_result"
    }
   ],
   "source": [
    "y"
   ]
  },
  {
   "cell_type": "code",
   "execution_count": 7,
   "metadata": {
    "ExecuteTime": {
     "end_time": "2018-01-10T11:55:40.460981Z",
     "start_time": "2018-01-10T11:55:40.284291Z"
    }
   },
   "outputs": [
    {
     "data": {
      "text/plain": [
       "<matplotlib.collections.PathCollection at 0x7f1f0e137f98>"
      ]
     },
     "execution_count": 7,
     "metadata": {},
     "output_type": "execute_result"
    },
    {
     "data": {
      "image/png": "[encoded data removed]",
      "text/plain": [
       "<matplotlib.figure.Figure at 0x7f1f3416a438>"
      ]
     },
     "metadata": {},
     "output_type": "display_data"
    }
   ],
   "source": [
    "plt.scatter(x,y)"
   ]
  },
  {
   "cell_type": "code",
   "execution_count": 8,
   "metadata": {
    "ExecuteTime": {
     "end_time": "2018-01-10T11:55:40.466819Z",
     "start_time": "2018-01-10T11:55:40.462575Z"
    }
   },
   "outputs": [],
   "source": [
    "def sse(y,y_pred): return ((y-y_pred)**2).sum()\n",
    "def loss(y,a,b,x): return sse(y, lin(a,b,x))\n",
    "def avg_loss(y,a,b,x): return np.sqrt(loss(y,a,b,x)/n)"
   ]
  },
  {
   "cell_type": "code",
   "execution_count": 9,
   "metadata": {
    "ExecuteTime": {
     "end_time": "2018-01-10T11:55:40.499989Z",
     "start_time": "2018-01-10T11:55:40.468299Z"
    }
   },
   "outputs": [
    {
     "data": {
      "text/plain": [
       "9.0560"
      ]
     },
     "execution_count": 9,
     "metadata": {},
     "output_type": "execute_result"
    }
   ],
   "source": [
    "a_guess=-1.\n",
    "b_guess=1.\n",
    "avg_loss(y, a_guess, b_guess, x)"
   ]
  },
  {
   "cell_type": "code",
   "execution_count": 10,
   "metadata": {
    "ExecuteTime": {
     "end_time": "2018-01-10T11:55:40.525101Z",
     "start_time": "2018-01-10T11:55:40.501710Z"
    }
   },
   "outputs": [],
   "source": [
    "lr=0.01\n",
    "# d[(y-(a*x+b))**2,b] = 2 (b + a x - y)      = 2 (y_pred - y)\n",
    "# d[(y-(a*x+b))**2,a] = 2 x (b + a x - y)    = x * dy/db"
   ]
  },
  {
   "cell_type": "code",
   "execution_count": 11,
   "metadata": {
    "ExecuteTime": {
     "end_time": "2018-01-10T11:55:40.549613Z",
     "start_time": "2018-01-10T11:55:40.526998Z"
    }
   },
   "outputs": [],
   "source": [
    "def upd():\n",
    "    global a_guess, b_guess\n",
    "    y_pred = lin(a_guess, b_guess, x)\n",
    "    dydb = 2 * (y_pred - y)\n",
    "    dyda = x*dydb\n",
    "    a_guess -= lr*dyda.mean()\n",
    "    b_guess -= lr*dydb.mean()"
   ]
  },
  {
   "cell_type": "code",
   "execution_count": 12,
   "metadata": {
    "ExecuteTime": {
     "end_time": "2018-01-10T11:55:41.579499Z",
     "start_time": "2018-01-10T11:55:40.551401Z"
    }
   },
   "outputs": [
    {
     "data": {
      "text/html": [
       "<video width=\"500\" height=\"400\" controls autoplay loop>\n",
       "  <source type=\"video/mp4\" src=\"data:video/mp4;base64,AAAAHGZ0eXBNNFYgAAACAGlzb21pc28yYXZjMQAAAAhmcmVlAABMHW1kYXQAAAKvBgX//6vcRem9\n",
       "5tlIt5Ys2CDZI+7veDI2NCAtIGNvcmUgMTQ4IHIyNjQzIDVjNjU3MDQgLSBILjI2NC9NUEVHLTQg\n",
       "QVZDIGNvZGVjIC0gQ29weWxlZnQgMjAwMy0yMDE1IC0gaHR0cDovL3d3dy52aWRlb2xhbi5vcmcv\n",
       "eDI2NC5odG1sIC0gb3B0aW9uczogY2FiYWM9MSByZWY9MyBkZWJsb2NrPTE6MDowIGFuYWx5c2U9\n",
       "MHgzOjB4MTEzIG1lPWhleCBzdWJtZT03IHBzeT0xIHBzeV9yZD0xLjAwOjAuMDAgbWl4ZWRfcmVm\n",
       "PTEgbWVfcmFuZ2U9MTYgY2hyb21hX21lPTEgdHJlbGxpcz0xIDh4OGRjdD0xIGNxbT0wIGRlYWR6\n",
       "b25lPTIxLDExIGZhc3RfcHNraXA9MSBjaHJvbWFfcXBfb2Zmc2V0PS0yIHRocmVhZHM9MTIgbG9v\n",
       "a2FoZWFkX3RocmVhZHM9MiBzbGljZWRfdGhyZWFkcz0wIG5yPTAgZGVjaW1hdGU9MSBpbnRlcmxh\n",
       "Y2VkPTAgYmx1cmF5X2NvbXBhdD0wIGNvbnN0cmFpbmVkX2ludHJhPTAgYmZyYW1lcz0zIGJfcHly\n",
       "YW1pZD0yIGJfYWRhcHQ9MSBiX2JpYXM9MCBkaXJlY3Q9MSB3ZWlnaHRiPTEgb3Blbl9nb3A9MCB3\n",
       "ZWlnaHRwPTIga2V5aW50PTI1MCBrZXlpbnRfbWluPTEwIHNjZW5lY3V0PTQwIGludHJhX3JlZnJl\n",
       "c2g9MCByY19sb29rYWhlYWQ9NDAgcmM9Y3JmIG1idHJlZT0xIGNyZj0yMy4wIHFjb21wPTAuNjAg\n",
       "cXBtaW49MCBxcG1heD02OSBxcHN0ZXA9NCBpcF9yYXRpbz0xLjQwIGFxPTE6MS4wMACAAAASL2WI\n",
       "hAA///73aJ8Cm1pDeoDklcUl20+B/6tncHyP6QMAAAMAAAMAJAL8x7+hB0M0IAAAUInP4LJXTUFR\n",
       "Bq1ViRE7nmVugr3qHwjjbq4yqtZnH2dD/PRH4qMF3383q0XiC6K7q89B8NNF+yB4lSsc8GA2Q9EM\n",
       "SZo46MPVl5rm6Gw5AAKX7mlMFCQ1t+OhL7iQQ1sbaJjEiR7Fojc33Jf2c7EqOQeC2mTXPBmc/V0W\n",
       "CWFTRPmIra8j+a3waMxKvZmvEkBT6uaysANT69VVuNZb3oONrK3h7ctz39onc+OK0yqLNpdOwDU5\n",
       "+zX8ZJB21PpzYTvLA9o1FsMeWNayUWQM0mOVCA7UuQdyEcB2cA7SgtFuRHWp5ha6TI2iJNMTWJKD\n",
       "GV88CCkV9xLNiAAnRdoP+ijHgqCIN75ZJM8Demh7GybChyxMIUixrJ2I/arPojYCisOe+tYY2vUb\n",
       "snfUe7Y76jyMkDWMRnhuys1TqIya0BdzGsMjZc4WCBQpdL7w3GDR2sW4wIvPyFO8+IKNT05H6+Tn\n",
       "ya8S77xF/a31/kof7dWzHTyY7gb+oRx4bX/JfTtrFRjXdCEAUxUc1FWvxIOCnyb7cdFqDUBiHDHR\n",
       "SYHITt+Nf6H2ADiupjHiF0DcPk7tttyZKj94FaNcExqThkrdaQgeZFEO6+cmMJByBGCQzi+q7v+d\n",
       "KT38dRwuqhTc7WKgo2mCoJEcnUiqeFPs5gr6jrz8YQAL/GKD6bGSxLjB+dpE4JdjPJK85uBCKmdz\n",
       "S84+Bb118uAmDkqzGRpWVXRFDtGcqikKAOwLDnsTaX+LnlrYexFZPRvQ1Cx8v/apOfiOurKNW64I\n",
       "tGcPlepVysvU4xKHhLuVeujLzzyaDMIJf02aHIZRpBfolnMKFRN+tRr0qkAky4ul3Omu2rrsnmDj\n",
       "4Yv9gxlcFqVzSH3eYEvsz3g5oo789+w0eZ6vyCgINVe0X4ofHooZrhxwozsrzeu1jEEvOxHFtFV8\n",
       "ro0q3EDUaJgz4fm/bPIs+t3GSy17NCKOogygHDmmy9vQITOc8O8n3JeYffaVaunp0uihyw5AU42t\n",
       "pcQ8M3iEEoCL3wb9dCgnudj651z+F0Azbf9tqUSPDPmBL0JgAABgnWqHV2u1fYTG1CmrrHSoGK7H\n",
       "nNh6HPwYpQphPG//b8v64QTKVpt/+n6O6nseGYwQpQzOLr3bp1ocX9dR30mp8jJMwYdKCjtwXKHH\n",
       "Fmaf0HZnGzWID+27kAcvVVu0q0SageiSbtBeWfjWCJuGD1oTXOrnGjFMZBdg7ut6Gz0inEtGJuIt\n",
       "b4cVOWoZnGXisSwYlAyqz3BZOOQA6/2tk6L1bacPwGelVQpJcPVu+yGU8nPkSDtBZe+udzPgagns\n",
       "R9a8V6izrTUKH54g/wJj0PJVwFqesnQAwHMb2x32FzjJEEPS428Xn7f6aV6+bqL/ZvlMcNzUnzyf\n",
       "Iw9nO9/PL1gp7Wq86QYyVxwkyv3/PQShdrlfewSyifoybqcZzBRJLy0gvtWKG2f/MTybWEyV8SJQ\n",
       "FjpHY1G2epMmaAaUnqSj1QjOmp+OIsLnLfj6fmUVbFreS3DRjLTfBRoI7gjLWGBXW/Be6QrH6Hct\n",
       "Taun+Ifx7hkiQkCboNZ/p0I068B9yDOSGxoTxnjKm7nc2Dla1vlbRu24FYIyUOb5X2ygJBGNv5RP\n",
       "Mf/95gMpWbmovlI7Yhr132tvgybgd6V9oP+8QI7bkWrM9loONgss8lSxIxLRiTso3As+tz47GHwi\n",
       "GYmqvfnbu0rkSqSbWjz05NcLgf9CAAb866SmkjhuZvL1Up2AmcbCfC7ffw/I48MvfylSqWVeaokl\n",
       "+i89BmMCjbg/NCjkLxqSt1EhR4AnrR9B0VInyhAEHkfRusJLJQbmc+XGMOQa83LkaRubdsyoTdZd\n",
       "TQEdnfO7zf3Gg0lJHRqeW+SYYnpWX1ihThbHN+TH96oRbd0S4c4cZt6HyxRXZmMVcwjzAyGNwrrr\n",
       "Q1BG0YosQAiWkRmwpypTQ/5PCCNiLsetc2cqvQZ9EvYOWRU+I02SA08jm4MtCUcxebd9JmuRY5CE\n",
       "2SGPLMLR0ygYhG9ea/Npmh08Bn0zepAVqSqDLQ7idUmW7TY6j0fRUTVXu7SLIKTA9eM4/Xhnni8u\n",
       "NZ9/yP3Z7CcHR5OUi+MLs5JhFry9N/of64DUXbeKuKSnUK5K9facK7febQSWPM3LMBGtDnOQJg+H\n",
       "Auc4AUVt36uvrJ0UqmJV8oHflP+9swG9pcqvI5RAbKSCagng3Trs2Op/u88v3sqINb8aQ0QKcI9Q\n",
       "NWKx5BcnUAwAIzk/STZFM+wAiBEOCPmEWfu7uIFjIwzwBwAdVTNPb+K6t0OiMYrJVY1Pmn2x9FHI\n",
       "YPWI5TNdOVPNrm4J+Q//GyQFltevkWcP5NWF31F8y8wEb8NVj75jvlESMoAqgVif720eK/JwzJoT\n",
       "zdOslKVz6JZjrx2UF/UE9wMQfnM4pGZNnBcA2Wt7/+Ha89HWd8PpxnCJ63bL+iKY0T5DoXYdB7OD\n",
       "g3+l6wtHejepSU2n7EgaH0doUOsqox+swhZ7TrXdsfIbVoAZSvFGW4ILdBsLrkm97ZWE+P5MBZml\n",
       "P0Fp0Ph/spPVtMlsnAGwfKFHjEC2sA8yxayKG51As/4dBUJGo4y2ZddZXr1vcChBLkwZdI0OVXdO\n",
       "5s8STkwYNF3y7IB28Eb6xl4+ytTasgWKEgwj+oGfBuFIGXl5OWoqscTxTWMrlec8jBjG00VXX4li\n",
       "Ts3TtNY06v1JjHUR45Jwr1JoFm33O3SSvngJjTCFWXzsKk/A7xztzXzD4gGdLJq6SDjkJFrCbdjs\n",
       "sxdcXup++PwWKYnVY/UCC35q9Cfc/OzGGLuajZllgIhtP1WaUeynd0zAuSykYCyp2efeyhe/g2Me\n",
       "Q8yncrHUAJmJvmVgZesmEk+cZkXbS2eLl8P+CTj65gfbIMLHji6P60fyQBrpIJuZWcIzvhgGfqTq\n",
       "2pLA0MVEq+wCzxz+Rc1h1wAp4vXFYo9wrCFiQztIP9XOZMSx0XumPD/TIVP+OBzcs3WMRuNRCIg3\n",
       "wZv+gE+w0JA34voWxh7D7vD8SwQFmS18rMkxbh5cnAZ4aOXSj9AyPbTFyJAZ4tJpooQ3sRbiWv3u\n",
       "DBi83Gs6IzeeFQxk4+dozjPK7II9oqtHG0SdQF/vhOlikyNvRMZ1fIEQtXQ7SugnR/21HfT+zxcU\n",
       "5n0f5f3oMJG47UeeIgjJEcP/aAMJgBWgsJUz7qz/UL4xupY8b1e0FSM3GQISq6XzunuM4/a3Iwjg\n",
       "5WdwROZk1ohfrPBdxmLtSntPPAdwgc88dXddHR5zMJHxbCDHUKvNyg7vfwiacuCHK8+SGNirauMw\n",
       "SGx5+9Jd8kkIQWzF8iMvVLcon6ueERysdQIUoRvpQSYzM9CoFsiEHUua3gymZ60TSo1x2IyxELej\n",
       "CXm7ei3ZacHovtr9a/pLDZ6rK6NGNlJyn0A85gvYDIIURUgKzQyIuIR54Kaoum/1QIVpiFwN8XMr\n",
       "7yEFUKnfHxt9xMA6W+DdSUfkmGNMSVfclAbtP8JdhttQY0z8t4MxpjFNNNqiqMQB9OlZZBDg93Fe\n",
       "Ia0AxnfxEB7FCF4pTCp+63+xi7wLwaEFMABuuZm+FyvyphC4I1qbHYSCv+xKiGDdZgXSXmbVRaSM\n",
       "WSvojjztmUQOQIY0Ia/eLKbxl9a9QV0do80qkVxbEzjNG8PPWTegHI9Ujbf7JTJtOIqYGftL3cbP\n",
       "wmnJpYQ7q9Y2YJFxUIzzqpkR1d6MU7ixs/BkRG/dIbnRYQf8NXg2vrGuSxnqMuPP8pK/O/z7/W4b\n",
       "KzwPWvbugJuL8KAdk7hUklqiKw+QNt5bfHqU8DosTWocuHHR1jz6crGRV6yPBARKmkl/EB8Cs+ZS\n",
       "vCs6HqL/yGkQvfA1UX+yDEfFNpNpd4LZSkcBBIMxx7lk1zmlAq0HznGM8JJyr20o4ERuzs7s84Y0\n",
       "fV0+e+adErdxEqW49/sWJ36CAZ35Ee7/RWVpE0kKQGBwutbY1+3Pp9sPasrKH1GYLp4aoWGlCnXN\n",
       "6kmWnzoeBwTSbw/eoTJIBGxOi7//dQisw6WhZ2zGqSAlFAunC+GOevPxoNT/JWlWSNIkaQtiUiwZ\n",
       "yQfLz4ocJgX/BYIvzFBRmNKaa0NaqXzkxHvxYqD64QN6tWRUPGllAj45OzKdVGz7si38nkRZiQ5t\n",
       "A4Aig6GA2T1KPHeRYnpXKje5pBGcJbjG2zHFSMFjRGpb06OyudUhwCkZzBfryvOKhychUqH/DRbD\n",
       "NDLRWtoegZK8Pnrv9wt2P8BoMmgaKArwGl9PgsOz+P94PyWMDPW2hGmE380DeCyL4gxPH+antYc3\n",
       "dnR741ypyLrQiunqqdy+gBzoa9GFsKhmM6l6Y2Ne0okVTXGgCIqxA8PanDzZTpE9urd49pC0ocmT\n",
       "Aezm3lA/Erk2MjiWDttIuUw1UfF2mkk0jFtyb115S/uTSeNSb2FzerSLUlbgjo6a9tS71eoFE1Dq\n",
       "ZG8GsoRuslxwP6tk/aid+geetjQMUJdPAL13W9RJldDbQ9nNC9oPoMwwJxvHKFnFpa/lg+h1EPx0\n",
       "Nzwgy8fXMMWnyW/APksQUPlXJHZZ3+3t/TDjRcQiVP2aR/Ou+qtKhnxg1PCMapBSBMy7LLxV30u+\n",
       "Xz66aTrUoVHw8ZR2WSBVZo+Uk197wLuH1fpGjAACeDdTGXnAVC8FwoanDpJ6scW7E+vM4xJYgPJs\n",
       "6YxmlUnX7bxFYmHiyiQy4Tp0cKEPaOYGcAQj0e2DHIQ9sqYkyMnSkSqe3sn6kF/dg1KhlTeUUEO4\n",
       "rOmfHcJEuk0ZPzy4tUGP8/JpksJpi40KpDrX1CJqWmWEbx8Nf5CSk+uSQY/gnooX3tbKEyNjCdef\n",
       "ZL0MZWJ9G29kX3Kv/X+gop/g/ajFimegmbXmQZ4T3CJeLlMRflvz6t7BxbZfeJA2RxuxnD8DW/dI\n",
       "K415m+dFcR9EW5ZXccO8epf87Q4VhUyJVoVRgVoZ4T6dXSH3kCHuo+AdQkwnll/OZgsPBhEj2qmq\n",
       "SIgQoDE4hBzKjJMn5TR+UQFMR3FkrFlEq738nO6qQZQy5p8T18s8yCzhxM4uMAQO7F7bvETX6rFZ\n",
       "PBL4SLpNDRHZHPLE9alnpRssjaDYN1MVs+h2Jb8WCR9GjT4AeVd/SIA5SFftRFJu0/miaWSddpao\n",
       "IZvk3T8ZIewlOyNo6F1AF8rrGpumseqEqJsWlGPwFnVBhLarswYUOfrDtc0VrDst9EMwlqYrEyd7\n",
       "6F3+fJnRbeGnsixD5QRN/YGRothkUr4dEYDMSJBs121mqIgfal4p2IJZHsKer6dJyHO+63jiAHLZ\n",
       "CZ0txDW57cmoqRr5KcNP0weKQ+eCGfYDpO8uOmI2Zf6YoVhpTut4891Zwf0Prj3tvd8fTYOcCU0q\n",
       "lvI+AiTFlAUssk9cM+7yizHGlgvB1UGWQEvfyhdUhp5JSwYT1ZxH3DctzbeHtd8rhFCKbnSSqsXy\n",
       "iMYtQO9x35PjwgB8/26DJmTIKVte8P9zlw3YRLAx3c0lvvPTjISGTigOhMfsP4BeRrocfmki6All\n",
       "9oz45wDyncm45Sd2wrczI3ia7CbluLaWce0pMN9ItJN3LtNlKrx0G5QuP3eKJguPIgRbceFadpcd\n",
       "JTeLwefT1kA7C1AG1yDQGhWpr3jB85m38QLjtYOjWMiw37fPuCqGHDVQI6M/6bTLojtfWbpa525G\n",
       "lEoaqSLWrqj44Noxx7Rcgd0i6BBmE0V0Kj9+YUFqHgKHmvoZ3r7vR2I8PacSaT4w7NdAx7W0F+Wr\n",
       "MJ+c2sQK7mThApDoeIpdBIP88s6nPU7RMhwHU3EMJp4JzIsGBjagnj0B2loytiSnXtrwyh2bp/tH\n",
       "Kqf/fIBPmVgJACzxZGfYmc8CaXDTVsR1XEGFe5vbjakebnGJfRQyauczAkyStTHGugQH101g3+Sk\n",
       "JliTMBEtDEYIlbRaan6792NMjip/ZWB5G4vIufTXRpI2A9Wj1ZUGSi4jJCfRJ1nVhwphIM+C4Hlb\n",
       "WKAi1J1Q8lVWDUQqlRvmfRlqgNGyRfPhWy/NewYqYCt+uiBVw+2w0nezxkxb7+XRnzrSH3LS6env\n",
       "ceOh+QII79350iCb0J87K2o0CMmBjdSLZU2C8ZfAtnSN86TO6kDYPSlHSUQPrXxAaYdZKbvtEywj\n",
       "/Muiij8rdKj/f55KUDqSC0orYQP9FdRgY1BLjNudDRwAADAhAAACMUGaIWxD//6plgAqYmXoA2wY\n",
       "XdeZG889iZ2zx5QtgDTTEmyUMmRVA7558OX1HTWVO6fqDvWXY9XITqpXgDKCJIasEfhWsEj0YyNb\n",
       "8pFgFfkHJmk0Z/m/2/2JmhpFZnYROm+4Pgmuzwb9zQ0oIbmncjrOEUqadEiWBvANEu0iRjv8YD6p\n",
       "Yeyn/WCqtrwMv16PbAfg7zTJE5ETpocZbvTBixxXv9vGfnoE9je20gCV9OATYZqUQhEvekvPQPqH\n",
       "dhqwt/F7qF0+JLE2Pkss69oAAAMAzf/QNF/NUaDz6dMGATkSOe3/1yAp2+FvHw8l0NaviT65UasC\n",
       "OejwGjwBsNnIlCbGC76A84OfXHHcDTDtyiLliRz4mnC+XlFf/0a1fJeikK8Ok//A8KiYrBWY7Q2k\n",
       "ild/tt60kAxnP1YqXV6IJD7NKjHmNxis+DfLIHASBFzYGpj6Su9k38SG1DWR/W+8j46LTghZtDA+\n",
       "L8HediPtH4OUqI8BYATZ7C8IkCjaLinkRC3FHy1BDi5RSnEqYeGtXx//n/NIfjBqgHYFmqyXZI6Q\n",
       "L0B9Y6DrJa4pRveVNG0GN0cAJs9OK40Il+v3eBKutC2s0mc8hoig4VM9QoXagqfEIQFBPQZjGHAP\n",
       "QgBZkr316ErQGDr290siWHwfrdapH3bYvSaAPvOY2LjuNG0vUqzRC7otSLo5JGEAAAMAAHOAAAAH\n",
       "J8IDd7tpHSij4Pped/9a5mL7ifWqTRFza3892DX5fAAAAuxBmkI8IZMphDv//qmWAA7q6bba2cLf\n",
       "BZyjABxa6TMwAeBXToxCDIqPJkCDmBDjRc91z38KkhWC86NzB0N8cjTkG65XwkmaHWTiR7YcFKik\n",
       "nyEdKGMjA4X+v95QV9UFz/CuuWXG9ZA87PGNv/1sKkrJ8JOJaSkTi6xi7Fwv0q1Wavvh+ra2xuyT\n",
       "B7MxZshKbjECSE+NsocCDtCvlkLlrkSSi8bh1C5RWzhJ+eSsKdgZc3GBqueSiMbZ8NLHit+X7IhE\n",
       "3Q7AmXVWNeqqd3QlpGWT/pJNHcXcX02454Jsuet5639Xv+1ZWgz9ZZQ3txEGO6Fh6JLJQzBcUAeM\n",
       "KVD94c/bGvrk0ccgwAr8kobCWRvGStm5gaShsuOc7nPAnwxtEYVPQLPl8qEmsQOYwKHGumOeOthU\n",
       "w2kjx1sg8R2/dOldinTCC/xM2h/rZutUq3aMYdS/xxkxr6ylaJcNYLOUUuTx024qUZxlnqUE8Iiu\n",
       "2AXignnbaAl189u+Xx59IC2Do2RhQsm76qFYGPfsEHQB24b5ZCNQVGPdysLDJXNheoFZSHQs2wde\n",
       "9AxRna41RTGXvFAaiZq0t3MFWWYhO3DzvONUiU8cD70SdOfRnO+8eoPZrqMOy9scgmg6rRhWppw+\n",
       "Ieio4KVYf7LQF4nlzAdh7P+8ldkRMlHVLJjQwKdysrfm4plGzPR7qiEUK2Vbx47lKG4WybC5KJl0\n",
       "9WvSazSrCX5bHkN5nBhp3HvEZmg94yWu5lcNKx+4BOwQVG79ormYJl7AkxosWeQw84KPIm+HPyTk\n",
       "eydPYgKFndlJJGgRPG4zc2TUZWya7lJ15755nrxO1oGff3/I0xyLn0WFi7bdeRlzchh/pQymVxAM\n",
       "zRucJ6tJJWwoDij+QghX4zgOdGulXm5OybbffZaSh5w5nbCZIiRomwG7TeJ+XdO9dhs//gDz09JT\n",
       "CVM3zljK8JfbVPiNO8zALa7XWqOSm2n8mSfITZBJzQoKAXkASbKoACghAAAEFEGaY0nhDyZTAhv/\n",
       "/qeEAABatUAF4bo1G5O4OTWhxmjxewcD6fE9e6oP6SVrxKQfCLNAOw93zEEAK+t4zeagyVSAGdsb\n",
       "LtxeOn/B9EkmN6Y7/29QIIckAHT66twQZb771N+TmP27An9tdM+mq1Wyk95VsAdWSym8QfFI7Mqw\n",
       "dTiZ+wM2f6nT6W5b7YOkLdbp0cNwixZzPyogedd+curEFuHJo5AhjwQwq2jeUHDn/Ecgsz4xrAJK\n",
       "UfaAeUYFzqGSPr6lIKkz3pFxWwe/3xrEjT+4AoPWk26V0agqYeX4DB29dLH4VQZMznZKQ/rNpiv7\n",
       "nTf/iMoev303K+wosD+HT4+3myozYkjwuInYL2xmsyS9KcO/dg+A1pH+9l3/I7qrxVPAnwI85Q5l\n",
       "9Ku51SARFAtm3SudJMTR0LarvonG/Op/7jEIqha6aDICpkqS32pr5uP4UBP1heRzGeOuEnf8Zmjj\n",
       "CJziTC+gNdNlbrwwb5lhuXtctAJAfAGF5N85UgUt5zV5UsH4g/b2WQxXOtiRK2vAALM0sHUgf7gE\n",
       "3vOAwa3GTJerL1DaKs10JYtQYn5MhRs5faYZNbyv7jvZyg+NEjb2sdXdSN3hwPfM8A1dfCu7Ibvb\n",
       "HAx/45f/M/A48X7XB+r9r0e6B48DFyLLzeBvZxcw9s6DXYOyrEcOpSqz+Pzq5/N51A/cvLMNj6ki\n",
       "h0udFy5veNgE/JkAEIkEPr67clk1Cgd98dTA+Y5usA9L8H2kFJuZDlUU/odGMlNAoJRX3OVJRYdV\n",
       "dldviSV/K4TCjIZ5qFXy6Z2Il5KxfPxhr2kUTqb3cEpd/iFbQ44vNbxdE9iunaNKPTDsBK5yV2hl\n",
       "FBOi+ZpqFMb1aWNKoRW6jRGTtivyVmXuCYVx9T51jsV0jxmNontay578Vf8+uLx2KRkZLZYXdKqc\n",
       "lDvGSecC6TtojoUjfmhhXrm4V7bU9Fek4kgabn2L6T9ariQOXX95W/BJlXV+ka5VKfbv+MtIZOmL\n",
       "K1xMLmqBFSLY3WPaS4dOPwkID9tkb9MkykAOT28mmHdSmOBJ/En2oQvhFeoRp2g1lGSP/8phOxuL\n",
       "s1CWQ/aBextYNVzHTuVl1WmBb5XwG8kKfJfn5G4ky6GERUEZntbibM8fnpMtWR/Rw0E0Z0ehkTEY\n",
       "zlXthaV7+nl9hCtJb/ISiqysarVGlLR6Ycqkyf120AMv/8Gbx9ZH39nrlVda22hIGyA2yIiHCtIK\n",
       "bWFGROhAhToNmvbd+pD+GvpNYsI8BoAJnGxzNGUBlIIrT9SeXQnCeQkMnMVe4Vn07gmqqS9CFSsV\n",
       "eVdmTSfdC498pLIVENI3QPVo37wfiLQpuppTNA6/ufUKvRxqp884l6AARcBDN9HOxqVzFQADg2NA\n",
       "CIrsjLABFwAAAsZBmoRJ4Q8mUwIIf/6qVQAAMFtL+4d2tgAdjwcom+/21kxNvbAadTPtYEci5JlO\n",
       "AbJSxANvZnR7uw6FmqifW9Y2fjt7VjkiN8+V1NTQGJD27Mvbyx9yYp/98/Eo9KjknZCEH5BxhiF6\n",
       "JeVBOlYMWfZUNfpImqLpuh0btSppO3M98Goj9WxbK2sRdJps0h/cYYBMxxWh4THfw7Q+mLdL/vQQ\n",
       "h/t4tJwSuRKKn6FrUbUGhtdjh0r2VbdH7T4rN/UfhhuyNnIQj34YYZKbua/lsGSsjSsV70dHhWyM\n",
       "0OPnVtXlgX71Bp7Ki55tAnGHUCrALbBTqNYKlGoNn00X9PWmgEIclUKl4es2gHk66g5hWLk37Dk3\n",
       "v00EN3zT2gqEFLQM8f5XnwrTWV5g6iWWXVhqGAm4ONePh6LJc8ksy3EGj3AgSgr7SQgBN851dVwi\n",
       "4O2qi1s8QT2M3LY0Fxfcj812rCJU7BMUkrabRYusmJ+jVmv+IJFzND5iQTgHieNZoVv1SN4vAr8m\n",
       "tquZD+N1P7fvmpPLnOgDFWcLieiVsVbKa9NxYbsoDSwijF9XJ1i/1MLEfcmBW8CxlMWY1/kbpjHg\n",
       "cW8lTTWgT+An+Id7ad1wT+zI6yoX1TvyHXzxtFXXUAgIg7z73RoWFRicgX9nbIprm3UR5brEUeTC\n",
       "e1uBSqaQ7N/e1NwWo2NoD6rKtVb8iNBNf8ogoztOSCgAlXdzgyiqv4aZH/xVsNXKnp/SRLrF+0F9\n",
       "swCs29jfM5QHpouBxMJ/h323vgSvMB1xIsIzuFLCFUBMma1AQbJQ0yFxCewkSKCkQOKfTPvKri3N\n",
       "mcC5ANmCE1qxkxtuMUtD6Ouh0Asxfc46+6chAe881kaoeyc5y4V80wvzlkLyW//13xE8n4AkpUv1\n",
       "7ldY+7an7C3lLtZfU8qxVckBEaUVCZs3frLQoAAAAwBnCyweEQAAAftBmqVJ4Q8mUwIIf/6qVQAA\n",
       "b7+rhCSpk2otzauZJEEgGULV/cdcJ2CHbbJUC1DijM/syF44rlRcHDl6B9TUZxDW02yFMUPkl8Dn\n",
       "AMxPg76ENj9ur6Bjqe7Pf7XnPaUsfsvEJdurNO/lSWLdASAakq41n/X8ZVgUOTNJSSLnudWGBxin\n",
       "UP4kT2U9uEtEZsHXYslM89FN6wWCvFXCDMoar7OFZdWbDL7spKpMY0amXWP893kPpxk5umEZldrF\n",
       "GxH+Bgx1ut4dHsdqKz/ZPsptqjS6AT161Hz6/FVztIG5/xPWBTDOrviXFrQH+zDWV5Nq6Rm4x5cc\n",
       "W7mKRBVkT6b/1OFzB3BBMJy+RBQuAdf6V6U7xH7aiAMy9q+ncRrT10I+Z1RrsUhFQ00/BDlsms9J\n",
       "8YC+rCDUMRaObgmbw15bb/to/NQWYjY+3ukBghVAm4J9KyGH6spFGmYbHxGfzFX60pGGpXuJU27Q\n",
       "GEPOlCoiJuZLQlf+dfjDQawDeqQgzBmO40m/KMmASK37HFg2O39rR+x7tTUTSAXLTjaaXwqD+maj\n",
       "C/orgOB5UabLnWOq5kgCdYN7AoKTIp4WSyKp5EiUas5CR+WPKYBaK/E326Mu40tUlzTk/t921Ex/\n",
       "/bM9xU0DuO+4eyipWhLSB6J7Jmfqo3C/5oRP1B+y1BSoKCEAAAGwQZrGSeEPJlMCCH/+qlUAAO/t\n",
       "L+H0IUgAhT58DO2N6P30+kVGiE+spGrp2NYHIuRAdjOG0Y9sYYiBcA++/4e8ITx/VhIYpgWc/E9x\n",
       "YtYPb1hE3omj00atcM6oP6ObOBt/6D8k832u12Y/22Q1OOjF2vZKWtgPPpgxoQ9nHZ5wmeKI+G9b\n",
       "dA+PN6dMCmZqskr+0/mIorMLiJJuv0H+9deipe3meqee9n4nBleZkCmNNKlf+hWmdpnvcekoWEAP\n",
       "R5Y1S04HlxB/DrfaEh4zPT/NtjKl/534poLXDBgpn99956lC/AjoUl7cv2VO8p/u3n488Qrv0B/I\n",
       "RSUTJ6nxgzSB+BMPEXEsO+bDhVk+M/XE78HW54PINxBBXOXx+AaiS6mN6OtsBEuL8HQYSM6P0XuJ\n",
       "reC2Dn08PQqBOBtlVzP+d/8L4l8G/ZEbY5ccpn8vqQNjU33biH4EDhpd+lcDuR7pKx7rJYh9tnlx\n",
       "9ezL5EsN5k2lgzueeRaFxU6IuCFVVDMhSvJik+S8oqSRutGarxobnU68msNib8CFNDuoyDdYrNuc\n",
       "z6KIQtOf7IDhuv5JVBvRAAABqkGa50nhDyZTAgj//rUqgACQ/6YTbRPgqoCGON97iJ4D+6LFhjCF\n",
       "F0cmuWvFV9dO+mWOTWvi+bcDqriSVYmuIEVNTNkmVp31eHZKRyhiaW1P74cZcMKwWl3Chfa/rCFh\n",
       "sQ8eHimWOLO1c7LCbrFlRRzOeF1J3spNaSDcJa0I7FNQSfm0IJk3R47Y+/HRgS6ZNtFFJ9Yp2cen\n",
       "yn0RuObV5VmdEoBN6RkM+BZIq6MG4I0E+l6e6hUO/VZkoKFkv6G9zVbTUat/E+loY4kZwUmONiTr\n",
       "utE1K2fqn0tV08Z+F/FIs4Lx55/sPZG4pc1I6NnNt7qflkMW5gx2P5wiIejQIvMVAKVcI9HJv3gA\n",
       "R1Co5Li3gkCL6ylhliehcQbbO9X9z8TlAhX9/mpzkvKZfEbsVUmA+77VdV22f807E8Clv+4N9qDu\n",
       "r7U7PjDo3kFtaJ/vpifol46i8tGRpEakcrlcfxijxG5GCSuQQro1kaeqjts9X1bRAl1YiHLIJY67\n",
       "pCfhCsjX3nEtpCrPm/HnV5AVdIIhH96+ns3frOMnM/nq0KYs3LZT3z6G4E0QcQAABXxBmwtJ4Q8m\n",
       "UwII//61KoAChf2tozHc4IzKjNbO8JlWeqReNT7cItV8wg8S1C3xRCQ4hLxP8A9F+7v5BFFZBG+4\n",
       "DjvrDrEIgqClTJEMAM576gHRb5eYfeEht6OCMEL/ksDlQr83lZRPZg7mP5gxV5tU42tVZnIrxeQm\n",
       "EU9oYScXTlPS2PADNlpd2KvJ09PsNp9fGib1bnjQ9CCDh7vFbJpEWzWkBSboPCAK7j/0CKna2Iky\n",
       "DiBKllQnEgUe94gPuZCZ+ZxZWl0Ai/1OdyLFNffZ1A2nwpxyjvRZobcOBiFknigi524MZjKe3/ys\n",
       "cKDHE2ZrPrfpd0EFvNP03BdRzfJegFmrdKtBfE1wJyHJ2ky5y4cIGHxDO3RYhYkXhiZcp+gMoAVV\n",
       "5Bds9u/j4Vt36EPvJWmiiuT5sKOpistWIu8vnnksa4pN76XuFziPN//Xbke3RJ277ybkVlBjCdJT\n",
       "mBg67zcmotAcRYU+3Cvxgcm0JpmaS2UR+hhKHLJODjMEmJQfPuHvAcjr5dn8Qx3rA58cbNQB2ows\n",
       "q5kHn6sxVM0xRnn4ewbl2DyF9/fnqYPg0pjwES3E8cem0WhlUyr/lCUOecJho8qc/pJ9mGOGyrtb\n",
       "yGO0F6c0fSxHLIlfKB8A6/SzLtkWdj3IkZmMjiRs8xA81Lb3fS64sk5x0Vb9gaRuhym0q7/mFHGV\n",
       "scGZFr71DwCIQJ2SCkSFt3L1mybIzhlYk3jlyY8wbk5XGq8eL0gAimtb1RQJ/Vj0PxDmEdKo52tz\n",
       "C0G8xHppcM2nvwnNPVWDVWftIRFe3QvdDC4K7nRSJVCDF9Gnx/WipvwdHuYUzl2qoGgn3M1/Ivip\n",
       "fUtsfDxZ+tl8M10H0NTe3VlhQXSwaPP3Y+c2+7q9Qk9kfA/YPey/uRWdACrrEPm5KIiT69S7bwT9\n",
       "h3DU8scwPwBLxf/Q+zI0Rsp6yXzl9wVdx6CO89CbpPYft85K66+wlr7q8l3eoRqpgyuSm2l8FKYi\n",
       "SyJOHRUp6UzRsm5GAAQ32Ub3uXa6fVJVb/WRRrQgyTnzHYrRr9YN4e2ZAukrX0aYFlvl5PZS7au9\n",
       "8U6lrZQz6np/MjxxICTydVAUlPYhpssX7RoIs9l9EVY9nL+kxnA+Wbcj+LpaxXDyZxasUVh1K6EU\n",
       "Hcx8ZzpPrLS14MG0FFt0MTtKnbayOHtWAcLqAJqdAt2p3zDjNzbWNOF1c801ILL4aSyCNEetcS1N\n",
       "IdHoxwIbwyf2XSUENkwl0qnB+Hvzg5hhgWtzHMXI2nHNPc1CRKgehQxuItQsUJLeQrM0lIwWCydp\n",
       "M+sk1ch7jNSgD8VGIECLzOHvl1OtqnjgwihfrHVoW81bECeefSZVg//on7jYD2yFS7zjxOfb++ds\n",
       "weP0cUVcasqb6caieCzebX6jlWY25f7I2mZ733ZMt+UIYgkl0HJJxw7QDOYXCb7W/Eae+MRriL37\n",
       "KcpCoEmv0CAZraXEGp/CjaZFjBDfduSKOqSoJlB7Rm6si2/xQjUSJz7JA2FZVrD4wBPBIPnqbHs8\n",
       "0GI6ovuOH66IXzSiR6Bny5m1I59TJT/csH59yy9tWosjWAsUA9+Il9qT4lCkgMWdV2Hq2TREH8Dr\n",
       "GHXB2LOc0DkhNo3x/vWcBzVo0gVC5o4PCBVB2/Cz11YjSjH6GUhDN1A/lPcfxO/h0iJ4yOWh2WG1\n",
       "OOw3uXzxvAssGHWWcoRqXiccXkjZZjQlELtmn1vYFQZUzR+QVUi4HwJIexeeR4Xh4WCyG6SEtlCV\n",
       "dP18B+rgaaAwnb7FyS5k+OoD233t4zA5j7OEMzUO1i13edX4wxRBul8cUtJQFkW4COnmptGdEBgn\n",
       "Oj1jUBc3Ed+rjibV1bLO05zSMQVEhoAAXNl9Ih4AAAG7QZ8pRRE8O/8AENgAxSO83/Qp+jEd+3sA\n",
       "JprpHTRHPWE/7qXJxzEWAordWEYzMP7XMz2utEbo4QfHXdRZ7GQ7k94jiGT91R2vyVmN79zgIEVN\n",
       "frey1c8j71Lcv7ezpHMfpcSD8HvgidRA1szoILFY17GLNWwQgCYNUavGK3QxZFlzkGk7EJO4Pnlv\n",
       "5bdkGOz7dwlcnzPNLlAvoIY9FkiIU7lG+wx9iqVhAO9G2z3k9Srubz1VpeSVwJ+vneqLbuws3xnZ\n",
       "tSnJhIqmNqkOHo9964MBsZP2RIoGODYFuCuYIJrFthsffKAKQ7rNpChXlk9tLyl6LcqQYd0Wox+k\n",
       "Of99qiSyHRGjgAOiiSNQDCWRo4cFu6AVV0aI3MTnOWlH9ThYdZWpiyHe/cJuITzkWpVB5nmKes2T\n",
       "U2NOPaarFh99HUI792jjuYTdgb71zUBCZcFsq4DPd25gXitagPj0XeuiD5TpyKrktux7SKjm/GQ6\n",
       "95MOHy+XmbI2w+T9vuxT7TFjTfdbZzLyCiQiWF+alDI1+Duwp3VuT0xvLhgP6CquB/8S0mfJxIT3\n",
       "000uKVpfRqk/RhETvzHP/68ACbgAAACcAZ9IdEN/ABh+sDVwoxGYohKlRm6TbXcorMFLlcTUS988\n",
       "sLKzYQAgciqIbrtOTKdQfMrMzHlSSVCdGcNe+TfoGAB/Rf3QBn6DneRrDWjJ8nLAO+z1aHB/zjpW\n",
       "7+Q3S6FIYIH5vvS2ZVobMXr9N0ZLTiHpjfcKHWnSDxFAEGFUGfcOuCaQXSRhltllvDS/1QfIITSP\n",
       "Snf/gsoAAO6BAAABNwGfSmpDfwAYguzesmKzQAbVchK+D3BqhaMInsNKkQIcVvutMTLO6se4IpAg\n",
       "p7RtFdkHd2/2BOyh0x4+A64KRbPyx1IApdsLYWL4xa+FLyPiB3KKGCb7QLF/VkFGRTW6Hi8EAfqP\n",
       "i+NzMgynEb/qENHPfB/N8LCApwJE3mVkj9bug8GsWitD7LNhFPJqwj08W/nICgvR8Ir+xGWGZ0ZX\n",
       "ysF36CDaIdm22uC8Fb87u6/Iyx2B2mjUk3lXsCyFcw/Kq7jijRqdb2IVjBZR5erk8eOegeAJfa57\n",
       "MrcdUR1d957Bo2BOU1F6RNDo/Ru51A1e3N+7Z4Xa9hqpw++btPWpHuimaFAOvn8X3SHZdw0gmYig\n",
       "FmjbfmoJlx3KAqh//PL6RVZfaKp5u/16Oyp7tGfn8MyCr3ZJ4AFlAAADoEGbT0moQWiZTAgj//61\n",
       "KoACpk/SACw/SsrcUMlhhYgzZmzpoKD/0Mt6IMsEO9BqhQH3uEO54tvFV64FhybgBfGlH1MnN3zM\n",
       "/sV0XLsD689HHmFhfUFTXinCnyHmK4aQ9ot7yopRuzLQe+CbhSQRZn9irK8Ecn9QoaSJRcIg0ebm\n",
       "fsHqAZ/Il+z2sQ8L9nEWsJn/ofa+jbQqo4X3Qiik4/8gBDLhru29mE68lkY3QPuurG06Ao5CJc9h\n",
       "4d/D5qDGIFP+423zuSIHp4MS3C1JG9gDvN9iRHla+cbFntEtg7dwjbvlxh0WUTvXpobu6hGd/1/D\n",
       "KtNLtD4/QaUZSlD8Rvns3PD7k6sOjO/fyIRqGSDYo5kKEGXUgdmL+E4GY6eFICXCwYrAOvOGhAy/\n",
       "3ktOvz8h/7bPqbRcCkOsaqI7P06K+hm09RmIA4x9R/q19WEw+7jjiLpsAN/oj/D1OfcRuA3xbPpX\n",
       "Umu/GlT+yd/sqmj2F+S1bjYMtHRbsHrCoZAfT2k9YRg6+tDAJII4qsQdCIrEOsFfZrvJYc4JKRSc\n",
       "9Td+MuBLQjltJ9rE9EcZaviOgAnw2SR0VatBYpqA80ifAd1rX2MhNNG8ThZizVtxANdThT5VrnPF\n",
       "u0OVrss+Cgi83QqXyc5HdQIaB3Od80vtO1JcU33KjvqhXyR/JTU/tcoGO0sSYYWgMFDc42AhVqux\n",
       "24zuB2MhshkpUndSEuyJ0GM1Z4buXUCWerfFQA5Q4jmHFqInyeg4Qqdtw7KQY+HnQOlrWtLtDJo/\n",
       "OJNPJfgMNmTskOB6zU/1UYcrjPXSw8E2m/PW/G3xNjWdhfWPaKMoP5lkobbdeb0LNKNphVP5Nuw0\n",
       "7+KIOxQ1cKePb1koyVfejoundXNdH4fOF856r5irn3GnpVorY9WoTHAmhpfu2x7R5mwKpB3PPnpW\n",
       "drJB4nLam1bwva9WLfc3XtMERydS5TwYg/Ki3PKPLAVisfB/HS5S5cJET7AX9cCwtdbsc8LUHHic\n",
       "FDh70joXevrg4JGRf/IsFAaUufbP6XDBUNAYNmNtlR214QP6fFmprHAOpXnwvmgoI8f0kZwhxUAf\n",
       "GEJJAMy/AEWWxmu/kQp6+iqfBSyzwykdYH17TfoHz13JiB6TrYy8vYa6JYmzhwivd9jQdugx3QwB\n",
       "OOvPEITlUJ8PzmcevYkd8E4+vsUNa2qq+oIRuSRE1ubvrUBsT2A3VtVNIppczODGd0ElDCXQXLkt\n",
       "7aAAAAIXQZ9tRREsO/8AEQpUaMswjvHk6FgBAow2tJzgrAVLR/GB6hDaDXQQBY5bAuq7wahDGlmv\n",
       "NAG45SwIxyS+MiVAlypGIfJhUew48LH2s6DagCnHMI9Nzeun9b3miFLC/IbeNx6OzFqOi1RHqC2f\n",
       "UcMb8k0QPR9KcwYfI8vINHHcsFgY5ShXu19GPjRcgBaTBOAvsqvMeZRBc5LUSadk2BZaNeUrdT50\n",
       "J4iYsCBDWAUvGKBztWOfX5qH7xJYA2052ITjY4gHWN7aCEchb40sW+MyZf8j4m84VYzQ0uk4IqL2\n",
       "l9VHVDAIyYRa4q0MspjRTS6EH6H6f2bkKXIBgfJl/+VXEmhDcXcdVBiRYVGk7fXADCih733emRx5\n",
       "qW4rsH99Qv2as/OAoTPZBUbQEAs2w2utXROoEY373caw/kokQhj/ZfNW86Dg/pdrUDTkJNnhlsMK\n",
       "78VlOL0iNq5cLIxtOytf34DtZx6glkrgY+DQ+az8H6aV/a0yD0BZOLbH5s2RvYKrjiicVkeSj3ax\n",
       "VlMfFS4ReKrhN68f1OLR/3kxnkOTmDzx0USvLNZttB1sTbHyGAsDNe765kGyYzuQ5Li29Xq06X81\n",
       "RdvuOp9Ewq4exaiklbriKitRPxElmuxeq93nmzEsD8CfqsT+28IzI00h5NKijIHPXPS5/TvXDhbZ\n",
       "+WKEazasA0GIWfmCNEH7otaPBLjwtpAAuVI0HQAAAbABn4x0Q38AGD7uY+Y98MH/TkzVOoAPa3bM\n",
       "wV3nY5auFLdVuAkqMFP4StzMjFK/JnML9DvK3lyD9/SSpjvf38Zgq3vjgf4aTio2ynNpwXnvzh/T\n",
       "2Bttb93GnvujgVzQX94XOIdJneKSe3oI57qzCgktOoSwl6EXlucRcG24b4J/J+UDtWqZUZlTuBJk\n",
       "jQb3LvjLclRhi3mvoNbaPHiGbL+8IcjCdJa17iSz4XtYcSFjWgnlvC/XksAcaqs+JHWNbqQ53FMS\n",
       "GGDxSUOvMPiN8K4dv2/YrfpnhgAfLr1m78ojTR3VRnd0vTyGEc19SNz8L2Q/CfdP1JwnlyB045PH\n",
       "cPHQ/RHCYsWJZG1ejCmatOs1eXcgDvhULngGUP4Sdp2P0jqPr/2PeE5/h0wKDLDpxaW3Pu2TgfEc\n",
       "qmK6afJcIc+CldSz71jov0wL5LbWFcVfy1LiAb1mwN89Ib1IqkFJDs93RhJldlRQ1ya6QhLF6mtq\n",
       "FrnnkU49w6pTWsvIJDYZD1t/wPq/vlxo5BMJCSN5KJyzpnuh6qpOQ6C+wGkmLd021a4HvH8YeEkw\n",
       "5GgKA9/nzVkAAAFeAZ+OakN/ABg+7mZQJTW2ZrACHg+yP+/GYTAL//HQnb7BzAH/zLm8EAThSM85\n",
       "q76vPDmwt+NerAhMQozOT1NiinKXapUR2Qrsc2QI1p8eD7BicP0s5KrI7/DXct8D0cJRM7T8+Gb/\n",
       "zPXwZ1eUhEOkNDJSRfmpGTEj+Wo+mGb7NllnkilL1F8NJMCnCkwUqhGapexzTpEW0xjl+yDBJZr/\n",
       "MfAvC2kP0c6We3CbV1EwJ6B/mFnMnLcd79vImxjO1/E98tiCu8GTY7iON+5oqUGTw46VNYakcAR4\n",
       "/4FRBacX4vTU+mQFqA63r10l03vT33JgAM3tu57lFoQHIl6ps7dHO+uCuK0PumI9vYWhCYcCGFKB\n",
       "UHeYdnluPznzaKkWRXbXPUzukAx1GBlFpypzA98aM2SeWHPZmvkv6ItPaJozs0cCniQmqpOi0PMY\n",
       "brxL+o3RMKBGNJb63mJx6aWgAf8AAAQZQZuTSahBbJlMCCP//rUqgAKl1UbgCMr0c+r8IFw/Y1PY\n",
       "OQRZtCOSYOK/wGz+T5nCX2lI/JYEPuVJ5LBL2vEvlak/6IYpIHv8fgM0No2gGSmsET196wzTPi3q\n",
       "zd1Z6Li3JCdt4IUdbTAVHYy5IiCSD2lM+T0V2ZFbfxRTTxXjoZWP0g9fwGpRz2eH+J2Mknz+onP+\n",
       "/M08rdUJ8csG/CI37AtyxgkwWzYZ41LVTVE+5AzaNuQW0P5B13NbEuK6HQhKGv7Rps3pk8taSYLz\n",
       "YLHyK2Ue+sDz/9nA6b3Ot2VuCPc/aypnLSe17Jmu/wg2U3gyomJKo64YzqKwirQHMmjUlgzwKSE7\n",
       "adniiMLxatIgQrFWJsNOknkMnM/bfr9PHaJqToVfBnkjmt07e4dTsExI6U6df9CpuDfy9hClunfo\n",
       "DnVlVTx2xfRyrQhDDI0o2odoGeMMiTLXuuYAtkjhR3mczwSS0ywucszngRk33Tv2lyDH3jczHKgy\n",
       "9MlTka4dUWeLHNiMMbh0I0Zar+5m7TEXR5YPcmRivknqb7sUzEER6hR+Zc0LSpLKAGFfp/tO6g9E\n",
       "giADk7GRp/wzF5wrnQml6HY+Huzbzb3YuKQXuSb2gmDDUSzvdxVEurJr/t/V1LseqoMv/Mwrn5fn\n",
       "6vtwX7oGAhY2maZc5KDQCY6dSwZKXW+pI7quEHBtIQRRhBlRRsGiPaY97Mij2+mlrs3ksslKZpoE\n",
       "wPNlRg+ELV8h5fhr5X+LN82xIbMP1Wt1eFnZHUEWZ/9qhBk2f2fhH4GFHsgoC2Yf9WEDdaC1hPIB\n",
       "2Lu6dfCHDLBDLh76Uy5iyN0Sw37jxYARLTeVZU2+4CZmm1BdM426pQwSzUuMEbjqtqCKL43eQiOe\n",
       "15/SvH7SrRFeK0flchPTof6v+uABCikJDPh2SrrqZH118nsrNEp6Y+o0Yc6pWM5pTBGicB4x//Ar\n",
       "/5q62dwQTG2j6ROvP5urKs4NP3P5l4saSPNmeHphYiB2LGYrn1QGvL5D133xqQLl6Y1y4X0Nvp7Z\n",
       "gVSnBizIwStDMejH0DtIXc6ZIndeS7i+lfmH47MmW62+Ia9RnAqeiTqLyhPgt6BKQK860Zdd/nhR\n",
       "SVjN0ZanXd4l0BLEjlpdX99uBFsbDUl6MUmqO9DCo0M9q+nwKqL0F9EDvT+m1tuJZzll0R4LfV/b\n",
       "odb0s5JDYELg3AVO96QjoqVQMr03LLU9qRmKLLxjVR16d3W+MypedZW8NBZgPkJYtGB8i9gPu/bs\n",
       "Tt1V1+rwsfyS1FXJkZTjF9FPE1xkfsodF0gCJKD6VqksaQCJMkefBrJpubl5BdZW9fWRcpw7kfVI\n",
       "B6/KRHkg69lXMSk2R/po4+aeVlLIWZk3m05WqS3tMk05+S44OCQBO7L/VNiemcIAAAGNQZ+xRRUs\n",
       "O/8AENgAydHUAD+ju3T7jOE+scMLItC69ZBH1aN8gZu93zsvOV7c6K7ztlsZZ0IObmLX8wfNAMUD\n",
       "f21NbILce890PaMOl9QPv2vmBs5eRzqVTP09JyyPRkVHsCeXnFyFulLT73JE1x0pEFd44feFDJF/\n",
       "KQ2h5IRBaRogs4PmFJxBYIjpzNb7W42IjbxpPlXkTMIqeSRJy+8OzJ0Jg9Ri5A3xK53+hN5CAGQX\n",
       "f2Yok67NwMjk0rtf5QqogjUuP4UUHUWmXyTrMkC6fK+tkHBymg7vueS/5qhV4ipEKM1g4P2tD8S7\n",
       "1ugqw0hfh4yeqr9+Jy04VTD+tU85Cj8D31ufWr+ecGQe0eapBrg6j7GXZkMUi5A2T0Tg52ioTqu8\n",
       "P8sYsc1ITGLxi0cpgm2HlG8cbOk8EcV18Gin10i0e27MbZ3RKjwl/hN13sTg7lDoads6zNkqWzz5\n",
       "/H4i90mcKg9bzLAPMahg3IroLOQ8HDd1cvU1n5r/hibd5x0DuPVlcbaAAUXP9yzE3AAAAP0Bn9B0\n",
       "Q38ADofcgA2nXYyr2R5EyHw2oO/URWqA7K2my70j7EYs2sz9WCfP20rPHU3hDxCoXlMdshlgKGEI\n",
       "OVqaUuB7tWcRaQ+EDqCn1roqFWE0N3/Cr887Jw68cDWyqtdTwSSCufqRNTYVFjQpYGvJfdekLkmj\n",
       "O2w2agAkXn8tpNHtsL7club73jB0OoyddUvblLac/4xdWhmJDQfHh3B49SvJkRJHcx7uXnCa7dhf\n",
       "Ssk/cI1z9G1SvXKMH6BXCg0bXeL+Ay9+pnIA06UpHyYPpPrg2W2ADIzkrmhHkVatwEjnhwF2KE3D\n",
       "XvdGsrRp0unFMUCl8fH134CIpqZ9AAAA2QGf0mpDfwAN+tC5kABEHsisNHlq7337kqjvsOTY48fL\n",
       "6AQsGleZ3qTXUpTt/2J++X5LgwysozG/Yide93RX+1vfdjK0ByHvDEFHvrOVCifsUOYILxmBYKdn\n",
       "v2zpP8M3KD5MUhZyZvYze60Lxi7hAGgNyBfz5se/QWNMsZcct7Q/ehAS88gFR//q2Ydi0fHzRo+M\n",
       "EIBZOkl50i5gfHme0dLg3fryXGaCVoXrhn8SCMwuEdxhoSLHutnn8UX11mG4UmXmEA6Qa5+VxxXu\n",
       "Ss714sz3OBzgPyAAMqAAAAMlQZvXSahBbJlMCCP//rUqgAK4T9IAHFtkXQXGdYRkBdiq+gZzYnze\n",
       "WjsO7FW2KdkI3WSAvTO74vFb7KDPctPWx3Jv99pnD1vl8rkmZ9XUAV6itMNW4m87lFzA6D1kH0kW\n",
       "5ArHvJaJBoeW8Zd+kMhIki/KKSbxNf40c1ELvH9LgYooO7BENHW9HsQMLJric/lJJvU5PKqktcnl\n",
       "IlCiCCIrwmM6myeBdbZ1vEh9F1ED4RftmPDVXbyAs9Rmlj6GrBdAKAEtdB4QD+txS4Z5vaRgtton\n",
       "pO0V/O9+o2wKk0Lq7ffeHCTo5735j+YSShMdT4NzOxmo9b+LOxFBRalbsaSCF4FZkkL+6MZsnGFq\n",
       "4sqemViZgpiqpjat1TKcAMzqlsSQVqo2pC+uou3NCJrfPycY7++N5El66FtiNWkHr4IqeCArVQUr\n",
       "GfodaZ2zd21upvd5UIJJqgG9ja1p7r4+cp4/dZZlMjqTiCjZFvx6SiJ8XXZQLWM2wS1rzRA32aNo\n",
       "90Uku47qaHT7a7AgxL1KI9qqbsXeEk4cFDao5aV/Ngg/zNadnLF8hA/pQPcva0J/cNzZaccxFnpM\n",
       "Tzq4yTZx3Tm659QI5DvUPRmehwhRr6prvORGnbIU1d9LBiN4WrrVHwetpDIKKW6XoWNhRg3UMBJz\n",
       "09HCwR7u1/E+SBXZ1AqbVKQ92agyrPOaBB62+c/M+3tamGlbmwZ6Nr+oM3sFF5dYu8MJqYVIFNFq\n",
       "q1RZ2w46EJJ+k3bHBtNQnD1Mg8pegFQSo+Q5JfQ+satqUrvqI7itpaEN+It9X4KnQ1RgCXoexnCu\n",
       "N5qFqU980x2EY1RGAqg5etDBbie3e3wWA0Ak8fIedQoGppuxIwURQAq+yvlIRP8FKaqcw32zyzNF\n",
       "zH9EUNK07gPJnzSjxvv+wfprCfyLE9K+z+dl0WW/izKrDIzeJ6WoMhKw5ll/ANtCzcGgPYee8gEQ\n",
       "2nGY9Yk0GB8bQZDOlYpm9+gnNX89ByoYoi01UW/QDYTCo3KzT7H598JGQzXJyYObTJE5mezPyRFo\n",
       "ik8JZIP1NEXaeRbKVhemVzgA8eJ4ed2rUgAAASRBn/VFFSw7/wAQ2ADLifYAW22iIYY3mOoJ8+O7\n",
       "T25Rv8oLLldzlfc4elxnupdyXbFvSq0JULKAyeaRmFZ2KTMHcYV/+Psi1eQe3jAs5SXHvsJlefLk\n",
       "TWz5CydnO6RqbxjInxDkUsfiWB+YPpDSWxxorCRK2snoUD91CyhLK46dte/JUbBqFFs/cYLox49Y\n",
       "Z5aGx2k2QkCVxxkS23nJTNTQQWbaAQg395fCfg7dk6peSMjWsA7OBosHMRS7AlSEiZzzechbwdiJ\n",
       "obWSianiOQ5Irfb2+sUeQ4hnQh+/hwlc0D9wBTe9LaPTrNV6mcjFa0qkG75N4vticlDfGqT1/CC6\n",
       "RkT9TliTrmMsYx8+QWoLn095U9JVX4uQYM2OZh74lYFPyikhAAAAtwGeFHRDfwAPifYPBYAP0ayf\n",
       "g691xq2WaCg+G6Ms8fp5Mh7MnOKz/SZ2Vqo1d09JiBzC2ykBXLP6tEOE4gtSZq+D+xug9gW4cceL\n",
       "CUquX1v+7F5iW4ESkzjjeW5f9g/KRB9NSVZl4kGOPK1W4vSpmO2pQC5LMdG+0SqpW2Z0WiqrIkLu\n",
       "QtiZ7nDZhSHz6FYR3u6vnNUBDC43Db60HbrDLsg5Yc3LI7oVHNbRSTWHDFErqjk6DgAFbAAAAHUB\n",
       "nhZqQ38AD4d1S0uAEza9auJ8E1tsR1AuGf7v6lqqv57Bsdl45t9+m2bUYjOH+z1t8MhaeSZTMikK\n",
       "btCz2FQ30WoihyKJNCVApb9Wlt62O0rK+sNpy/7g62ZbNLKj8ow30DA58TY2FSviSpKB776olnAA\n",
       "9YEAAAJgQZobSahBbJlMCCP//rUqgAK4UjkAOPeP9+QGL/6/cCh5STPaLZipostdoHzReuLA9fRm\n",
       "2fUuRJHy8V9d+pGLTXAV0RX+cHU43UPOQoo6i5QU6zBWvkeVpuOMX3HCYuMadw3EgWCJde5o5MGL\n",
       "IzDZN3gw2FI7P8+1BBWVHVwCBfKvQspOz74/IgTRVsYdSoWNF5FUJU9wio+0LI+ORHK3ItrQqlXb\n",
       "UCwcJ0evyrfQZwiQDoYjhLZWCWCE8iyJLyEPU/t5Bpi3M4zH9MKQ8r1BUwiJ3l6urJNxIhM0Ln9H\n",
       "Xu9BxUuW3rn3nvqlS9WacCKQURwqrftEwp1lSH4hdEsrQFAofW8ePmaSrhKkUCD5pYRi3uCCxBrH\n",
       "xFSpRLM7OPgGvwRv/r3eKCeabwK3xpp9Jw7BY4dptwV0+2BiTN6Bn27XQaDa005BlGUPg57vmkiZ\n",
       "FeGy3uqs9FZxeprDXPsCeuVA1z3dsYQ2xVRogmfpDtOAn1zvvsLwWypgHrgqGR2qKEbO0QAURmEn\n",
       "pj8/9AxFl3YJdH2xxeffXEw0bN+hdJqwghlQgICpI8AUo9AG60DXHTbiexTWT7X47iHC60dNppJC\n",
       "b1pQ+C3At5KEMSHFNYE/89Kea8svP4GC7Uds/O/U6jbdIGU1DsXkRRJUWpTxA1F5DZwB1lfWFFTa\n",
       "cG9zRr7ktvcCV3dDglpb6bjrO5aRqhbJ1Fl9rMZWtPDmLZF2nYOYuSdkA2Bt8Yke0nYTcoo3EBs5\n",
       "87AUYWzpiMu0iMDLc1VJ3sjnNnBHtw8LdrSKmgDLKP83mvTzKZerMOQJ3XEAAACcQZ45RRUsO/8A\n",
       "ENgAy5TugBO0MnbcSanZ9WPe46S/9NuzU39nNVZ3GZsXxlFHaGQuKS3dwSMzszFV4K4L5UgL6URn\n",
       "sKExmuP97aG9txX6u3YSRw2JIv+yryRbN9J/bDqQnHcC3ZPhnqa4WVAUs6ShKM7SuUoJaS8peif7\n",
       "7EZvCBpl8c7moiNDVpqKqccMC4RYbQrEmgHMKGhKbg8IAAAANgGeWHRDfwAPifXSZzbdCy3N4yMc\n",
       "ezkTAfPG/MKxOhN6JtSuPrcrOhyWHgRuy/oAyzdegAAGVQAAACUBnlpqQ38AD4d1O72IdhzC1nY+\n",
       "HW1fQLNPcQU9FCAGt2YYAC2gAAABP0GaX0moQWyZTAgh//6qVQAFb8TeAEYo+SpX9aEcJf+c8bSX\n",
       "H6zmkEdiQV1ZAfJo9Z/hjsWwlNvzT6FActW8w++WoXmc3IdxfUFctnn8moiZvu2TcRSsPdQB2KNo\n",
       "EKbuKdZbqb3lcGb1AxC8O7QvDnkgLiZ4Yex2DYcHQqQE2153ficM4uZL0AgWr49QWQHXqGMJZi6Z\n",
       "qqs96YMPscTVeWCU4LdnFTlJYh978Wp9fbPlGtlxqOEJzYGQ2NHzZwjOCOCW5OjBJLNaI1/SmHhz\n",
       "SlaGUUd2QGKoatMF5WlSUjUVk7UYP/scc9wnYEWWx9syIqmX8bpMFC54RIIsLublT763wKn3CDGa\n",
       "/Lp5LvVuYEwfb31/mGhfQPErUAG3CScRXraBZ3Q0adtrUK7k1OtwArTr0BI4LPtQmpqKjkWRJf0A\n",
       "AAA1QZ59RRUsO/8AENgAxnlaFUSLxnGaiPmDKSNZJvxkFG66iWdYAaD7hQoei58jogAbgCliprcA\n",
       "AAAeAZ6cdEN/ABh+sEntwrDQ696kKj4Rmgc08IFvAAqYAAAAIgGenmpDfwAYguxta3ArUUVtRPvi\n",
       "Q08jIlucrsgX6vUACLgAAABxQZqDSahBbJlMCCH//qpVAAUpj4egniIyaEAABamULsF2qNrwFeFa\n",
       "PZsLVQi16bQqhVklqG+lvwNnbDMyec+4JCmwD6ViCPC/sylwHm9YX++mtpeyOsMYPQdbqJXz4NL1\n",
       "V5vCaCteH+CCRsLR45uV/5EAAAAqQZ6hRRUsO/8AEQpUci9sOktFXh8OJRM4fZX21ARvI6r1BKAA\n",
       "JCA+ov3CAAAAHQGewHRDfwAYfrBJ7a+IMktK3FNhlhcWNRvwABrRAAAAHQGewmpDfwAYgu1CQgHO\n",
       "iVByGHiJ7oTdYFmzQAGXAAAAPEGax0moQWyZTAhv//6nhAAp+3JAAnWpaeyaCTg23Gqg0t4z+iph\n",
       "ctVegOWIwvtofRDO7HVa5r3Gv4ACbwAAACpBnuVFFSw7/wARClRyIrYcsQIRYypXukUMNHRcoPdL\n",
       "LIxBZgALeBLBK7cAAAAiAZ8EdEN/ABh+sXBIXAeHTcJTGa3IHlDRo5MFFjVlAAAwIQAAAB8BnwZq\n",
       "Q38AGILtQkKV4uinqUzM9c9+4LTZC2f4AD2hAAAE121vb3YAAABsbXZoZAAAAAAAAAAAAAAAAAAA\n",
       "A+gAAA+gAAEAAAEAAAAAAAAAAAAAAAABAAAAAAAAAAAAAAAAAAAAAQAAAAAAAAAAAAAAAAAAQAAA\n",
       "AAAAAAAAAAAAAAAAAAAAAAAAAAAAAAAAAAAAAAIAAAQBdHJhawAAAFx0a2hkAAAAAwAAAAAAAAAA\n",
       "AAAAAQAAAAAAAA+gAAAAAAAAAAAAAAAAAAAAAAABAAAAAAAAAAAAAAAAAAAAAQAAAAAAAAAAAAAA\n",
       "AAAAQAAAAAH0AAABkAAAAAAAJGVkdHMAAAAcZWxzdAAAAAAAAAABAAAPoAAACAAAAQAAAAADeW1k\n",
       "aWEAAAAgbWRoZAAAAAAAAAAAAAAAAAAAKAAAAKAAVcQAAAAAAC1oZGxyAAAAAAAAAAB2aWRlAAAA\n",
       "AAAAAAAAAAAAVmlkZW9IYW5kbGVyAAAAAyRtaW5mAAAAFHZtaGQAAAABAAAAAAAAAAAAAAAkZGlu\n",
       "ZgAAABxkcmVmAAAAAAAAAAEAAAAMdXJsIAAAAAEAAALkc3RibAAAALRzdHNkAAAAAAAAAAEAAACk\n",
       "YXZjMQAAAAAAAAABAAAAAAAAAAAAAAAAAAAAAAH0AZAASAAAAEgAAAAAAAAAAQAAAAAAAAAAAAAA\n",
       "AAAAAAAAAAAAAAAAAAAAAAAAAAAAABj//wAAADJhdmNDAWQAFv/hABlnZAAWrNlAgDPn4QAAAwAB\n",
       "AAADABQPFi2WAQAGaOvjyyLAAAAAHHV1aWRraEDyXyRPxbo5pRvPAyPzAAAAAAAAABhzdHRzAAAA\n",
       "AAAAAAEAAAAoAAAEAAAAABRzdHNzAAAAAAAAAAEAAAABAAABGGN0dHMAAAAAAAAAIQAAAAgAAAgA\n",
       "AAAAAQAAFAAAAAABAAAIAAAAAAEAAAAAAAAAAQAABAAAAAABAAAUAAAAAAEAAAgAAAAAAQAAAAAA\n",
       "AAABAAAEAAAAAAEAABQAAAAAAQAACAAAAAABAAAAAAAAAAEAAAQAAAAAAQAAFAAAAAABAAAIAAAA\n",
       "AAEAAAAAAAAAAQAABAAAAAABAAAUAAAAAAEAAAgAAAAAAQAAAAAAAAABAAAEAAAAAAEAABQAAAAA\n",
       "AQAACAAAAAABAAAAAAAAAAEAAAQAAAAAAQAAFAAAAAABAAAIAAAAAAEAAAAAAAAAAQAABAAAAAAB\n",
       "AAAUAAAAAAEAAAgAAAAAAQAAAAAAAAABAAAEAAAAABxzdHNjAAAAAAAAAAEAAAABAAAAKAAAAAEA\n",
       "AAC0c3RzegAAAAAAAAAAAAAAKAAAFOYAAAI1AAAC8AAABBgAAALKAAAB/wAAAbQAAAGuAAAFgAAA\n",
       "Ab8AAACgAAABOwAAA6QAAAIbAAABtAAAAWIAAAQdAAABkQAAAQEAAADdAAADKQAAASgAAAC7AAAA\n",
       "eQAAAmQAAACgAAAAOgAAACkAAAFDAAAAOQAAACIAAAAmAAAAdQAAAC4AAAAhAAAAIQAAAEAAAAAu\n",
       "AAAAJgAAACMAAAAUc3RjbwAAAAAAAAABAAAALAAAAGJ1ZHRhAAAAWm1ldGEAAAAAAAAAIWhkbHIA\n",
       "AAAAAAAAAG1kaXJhcHBsAAAAAAAAAAAAAAAALWlsc3QAAAAlqXRvbwAAAB1kYXRhAAAAAQAAAABM\n",
       "YXZmNTYuNDAuMTAx\n",
       "\">\n",
       "  Your browser does not support the video tag.\n",
       "</video>"
      ],
      "text/plain": [
       "<matplotlib.animation.FuncAnimation at 0x7f1f0e09fef0>"
      ]
     },
     "execution_count": 12,
     "metadata": {},
     "output_type": "execute_result"
    }
   ],
   "source": [
    "fig = plt.figure(dpi=100, figsize=(5, 4))\n",
    "plt.scatter(x,y)\n",
    "line, = plt.plot(x,lin(a_guess,b_guess,x))\n",
    "plt.close()\n",
    "\n",
    "def animate(i):\n",
    "    line.set_ydata(lin(a_guess,b_guess,x))\n",
    "    for i in range(10): upd()\n",
    "    return line,\n",
    "\n",
    "ani = animation.FuncAnimation(fig, animate, np.arange(0, 40), interval=100)\n",
    "ani"
   ]
  },
  {
   "cell_type": "code",
   "execution_count": null,
   "metadata": {},
   "outputs": [],
   "source": []
  }
 ],
 "metadata": {
  "kernelspec": {
   "display_name": "Python 3",
   "language": "python",
   "name": "python3"
  },
  "language_info": {
   "codemirror_mode": {
    "name": "ipython",
    "version": 3
   },
   "file_extension": ".py",
   "mimetype": "text/x-python",
   "name": "python",
   "nbconvert_exporter": "python",
   "pygments_lexer": "ipython3",
   "version": "3.5.4"
  },
  "nav_menu": {},
  "toc": {
   "navigate_menu": true,
   "number_sections": true,
   "sideBar": true,
   "threshold": 6,
   "toc_cell": true,
   "toc_section_display": "block",
   "toc_window_display": false
  },
  "widgets": {
   "state": {},
   "version": "1.1.2"
  }
 },
 "nbformat": 4,
 "nbformat_minor": 1
}
