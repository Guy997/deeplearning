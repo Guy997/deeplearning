{
 "cells": [
  {
   "cell_type": "markdown",
   "metadata": {},
   "source": [
    "# Enter State Farm"
   ]
  },
  {
   "cell_type": "code",
   "execution_count": 1,
   "metadata": {
    "ExecuteTime": {
     "end_time": "2018-01-10T12:02:27.275759Z",
     "start_time": "2018-01-10T12:02:23.565547Z"
    }
   },
   "outputs": [
    {
     "name": "stderr",
     "output_type": "stream",
     "text": [
      "Using cuDNN version 6021 on context None\n",
      "Mapped name None to device cuda0: GeForce GTX TITAN X (0000:04:00.0)\n",
      "Using Theano backend.\n"
     ]
    }
   ],
   "source": [
    "from __future__ import division, print_function\n",
    "%matplotlib inline\n",
    "# path = \"data/state/\"\n",
    "path = \"data/state/sample/\"\n",
    "from importlib import reload  # Python 3\n",
    "import utils; reload(utils)\n",
    "from utils import *\n",
    "from IPython.display import FileLink"
   ]
  },
  {
   "cell_type": "code",
   "execution_count": 2,
   "metadata": {
    "ExecuteTime": {
     "end_time": "2018-01-10T12:02:30.303866Z",
     "start_time": "2018-01-10T12:02:30.299904Z"
    }
   },
   "outputs": [],
   "source": [
    "batch_size=64\n",
    "#batch_size=1"
   ]
  },
  {
   "cell_type": "markdown",
   "metadata": {},
   "source": [
    "## Create sample"
   ]
  },
  {
   "cell_type": "markdown",
   "metadata": {},
   "source": [
    "The following assumes you've already created your validation set - remember that the training and validation set should contain *different drivers*, as mentioned on the Kaggle competition page."
   ]
  },
  {
   "cell_type": "code",
   "execution_count": null,
   "metadata": {},
   "outputs": [],
   "source": [
    "%cd data/state"
   ]
  },
  {
   "cell_type": "code",
   "execution_count": null,
   "metadata": {},
   "outputs": [],
   "source": [
    "%cd train"
   ]
  },
  {
   "cell_type": "code",
   "execution_count": null,
   "metadata": {},
   "outputs": [],
   "source": [
    "%mkdir ../sample\n",
    "%mkdir ../sample/train\n",
    "%mkdir ../sample/valid"
   ]
  },
  {
   "cell_type": "code",
   "execution_count": null,
   "metadata": {},
   "outputs": [],
   "source": [
    "for d in glob('c?'):\n",
    "    os.mkdir('../sample/train/'+d)\n",
    "    os.mkdir('../sample/valid/'+d)"
   ]
  },
  {
   "cell_type": "code",
   "execution_count": null,
   "metadata": {},
   "outputs": [],
   "source": [
    "from shutil import copyfile"
   ]
  },
  {
   "cell_type": "code",
   "execution_count": null,
   "metadata": {},
   "outputs": [],
   "source": [
    "g = glob('c?/*.jpg')\n",
    "shuf = np.random.permutation(g)\n",
    "for i in range(1500): copyfile(shuf[i], '../sample/train/' + shuf[i])"
   ]
  },
  {
   "cell_type": "code",
   "execution_count": null,
   "metadata": {},
   "outputs": [],
   "source": [
    "%cd ../valid"
   ]
  },
  {
   "cell_type": "code",
   "execution_count": null,
   "metadata": {},
   "outputs": [],
   "source": [
    "g = glob('c?/*.jpg')\n",
    "shuf = np.random.permutation(g)\n",
    "for i in range(1000): copyfile(shuf[i], '../sample/valid/' + shuf[i])"
   ]
  },
  {
   "cell_type": "code",
   "execution_count": null,
   "metadata": {},
   "outputs": [],
   "source": [
    "%cd ../../../.."
   ]
  },
  {
   "cell_type": "code",
   "execution_count": null,
   "metadata": {},
   "outputs": [],
   "source": [
    "%mkdir data/state/results"
   ]
  },
  {
   "cell_type": "code",
   "execution_count": null,
   "metadata": {},
   "outputs": [],
   "source": [
    "%mkdir data/state/sample/test"
   ]
  },
  {
   "cell_type": "markdown",
   "metadata": {},
   "source": [
    "## Create batches"
   ]
  },
  {
   "cell_type": "code",
   "execution_count": 3,
   "metadata": {
    "ExecuteTime": {
     "end_time": "2018-01-10T12:03:03.879813Z",
     "start_time": "2018-01-10T12:03:03.664833Z"
    },
    "scrolled": true
   },
   "outputs": [
    {
     "name": "stdout",
     "output_type": "stream",
     "text": [
      "Found 1500 images belonging to 10 classes.\n",
      "Found 1000 images belonging to 10 classes.\n"
     ]
    }
   ],
   "source": [
    "batches = get_batches(path+'train', batch_size=batch_size)\n",
    "val_batches = get_batches(path+'valid', batch_size=batch_size*2, shuffle=False)"
   ]
  },
  {
   "cell_type": "code",
   "execution_count": 4,
   "metadata": {
    "ExecuteTime": {
     "end_time": "2018-01-10T12:03:05.258624Z",
     "start_time": "2018-01-10T12:03:04.946652Z"
    }
   },
   "outputs": [
    {
     "name": "stdout",
     "output_type": "stream",
     "text": [
      "Found 1500 images belonging to 10 classes.\n",
      "Found 1000 images belonging to 10 classes.\n",
      "Found 1000 images belonging to 1 classes.\n"
     ]
    }
   ],
   "source": [
    "(val_classes, trn_classes, val_labels, trn_labels, val_filenames, filenames,\n",
    "    test_filename) = get_classes(path)"
   ]
  },
  {
   "cell_type": "code",
   "execution_count": 5,
   "metadata": {
    "ExecuteTime": {
     "end_time": "2018-01-10T12:03:05.956094Z",
     "start_time": "2018-01-10T12:03:05.951084Z"
    }
   },
   "outputs": [],
   "source": [
    "steps_per_epoch = int(np.ceil(batches.samples/batch_size))\n",
    "validation_steps = int(np.ceil(val_batches.samples/(batch_size*2)))"
   ]
  },
  {
   "cell_type": "markdown",
   "metadata": {},
   "source": [
    "## Basic models"
   ]
  },
  {
   "cell_type": "markdown",
   "metadata": {},
   "source": [
    "### Linear model"
   ]
  },
  {
   "cell_type": "markdown",
   "metadata": {},
   "source": [
    "First, we try the simplest model and use default parameters. Note the trick of making the first layer a batchnorm layer - that way we don't have to worry about normalizing the input ourselves."
   ]
  },
  {
   "cell_type": "code",
   "execution_count": 6,
   "metadata": {
    "ExecuteTime": {
     "end_time": "2018-01-10T12:03:39.683075Z",
     "start_time": "2018-01-10T12:03:35.897110Z"
    }
   },
   "outputs": [],
   "source": [
    "model = Sequential([\n",
    "        BatchNormalization(axis=1, input_shape=(3,224,224)),\n",
    "        Flatten(),\n",
    "        Dense(10, activation='softmax')\n",
    "    ])"
   ]
  },
  {
   "cell_type": "markdown",
   "metadata": {},
   "source": [
    "As you can see below, this training is going nowhere..."
   ]
  },
  {
   "cell_type": "code",
   "execution_count": 7,
   "metadata": {
    "ExecuteTime": {
     "end_time": "2018-01-10T12:04:08.272497Z",
     "start_time": "2018-01-10T12:03:39.685876Z"
    }
   },
   "outputs": [
    {
     "name": "stdout",
     "output_type": "stream",
     "text": [
      "Epoch 1/2\n",
      "24/24 [==============================] - 13s 554ms/step - loss: 13.7545 - acc: 0.1150 - val_loss: 14.0601 - val_acc: 0.1250\n",
      "Epoch 2/2\n",
      "24/24 [==============================] - 7s 292ms/step - loss: 13.9919 - acc: 0.1261 - val_loss: 14.6476 - val_acc: 0.0900\n"
     ]
    },
    {
     "data": {
      "text/plain": [
       "<keras.callbacks.History at 0x7fb21413aa90>"
      ]
     },
     "execution_count": 7,
     "metadata": {},
     "output_type": "execute_result"
    }
   ],
   "source": [
    "model.compile(Adam(), loss='categorical_crossentropy', metrics=['accuracy'])\n",
    "model.fit_generator(batches, steps_per_epoch, epochs=2, validation_data=val_batches, \n",
    "                 validation_steps=validation_steps)"
   ]
  },
  {
   "cell_type": "markdown",
   "metadata": {},
   "source": [
    "Let's first check the number of parameters to see that there's enough parameters to find some useful relationships:"
   ]
  },
  {
   "cell_type": "code",
   "execution_count": 8,
   "metadata": {
    "ExecuteTime": {
     "end_time": "2018-01-10T12:04:08.479956Z",
     "start_time": "2018-01-10T12:04:08.273849Z"
    }
   },
   "outputs": [
    {
     "name": "stdout",
     "output_type": "stream",
     "text": [
      "_________________________________________________________________\n",
      "Layer (type)                 Output Shape              Param #   \n",
      "=================================================================\n",
      "batch_normalization_1 (Batch (None, 3, 224, 224)       12        \n",
      "_________________________________________________________________\n",
      "flatten_1 (Flatten)          (None, 150528)            0         \n",
      "_________________________________________________________________\n",
      "dense_1 (Dense)              (None, 10)                1505290   \n",
      "=================================================================\n",
      "Total params: 1,505,302\n",
      "Trainable params: 1,505,296\n",
      "Non-trainable params: 6\n",
      "_________________________________________________________________\n"
     ]
    }
   ],
   "source": [
    "model.summary()"
   ]
  },
  {
   "cell_type": "markdown",
   "metadata": {},
   "source": [
    "Over 1.5 million parameters - that should be enough. Incidentally, it's worth checking you understand why this is the number of parameters in this layer:"
   ]
  },
  {
   "cell_type": "code",
   "execution_count": 9,
   "metadata": {
    "ExecuteTime": {
     "end_time": "2018-01-10T12:04:08.486907Z",
     "start_time": "2018-01-10T12:04:08.482530Z"
    }
   },
   "outputs": [
    {
     "data": {
      "text/plain": [
       "1505280"
      ]
     },
     "execution_count": 9,
     "metadata": {},
     "output_type": "execute_result"
    }
   ],
   "source": [
    "10*3*224*224"
   ]
  },
  {
   "cell_type": "markdown",
   "metadata": {},
   "source": [
    "Since we have a simple model with no regularization and plenty of parameters, it seems most likely that our learning rate is too high. Perhaps it is jumping to a solution where it predicts one or two classes with high confidence, so that it can give a zero prediction to as many classes as possible - that's the best approach for a model that is no better than random, and there is likely to be where we would end up with a high learning rate. So let's check:"
   ]
  },
  {
   "cell_type": "code",
   "execution_count": 10,
   "metadata": {
    "ExecuteTime": {
     "end_time": "2018-01-10T12:04:14.441828Z",
     "start_time": "2018-01-10T12:04:08.489002Z"
    }
   },
   "outputs": [
    {
     "data": {
      "text/plain": [
       "array([[ 0.,  0.,  0.,  0.,  0.,  0.,  0.,  0.,  1.,  0.],\n",
       "       [ 0.,  0.,  0.,  0.,  0.,  0.,  0.,  0.,  1.,  0.],\n",
       "       [ 0.,  0.,  0.,  0.,  0.,  0.,  0.,  0.,  1.,  0.],\n",
       "       [ 0.,  0.,  0.,  0.,  0.,  0.,  0.,  0.,  1.,  0.],\n",
       "       [ 0.,  0.,  0.,  0.,  0.,  0.,  0.,  0.,  1.,  0.],\n",
       "       [ 0.,  0.,  0.,  0.,  0.,  0.,  0.,  0.,  1.,  0.],\n",
       "       [ 0.,  0.,  0.,  0.,  0.,  0.,  0.,  0.,  1.,  0.],\n",
       "       [ 0.,  0.,  0.,  0.,  0.,  0.,  0.,  0.,  1.,  0.],\n",
       "       [ 0.,  0.,  0.,  0.,  0.,  0.,  0.,  0.,  1.,  0.],\n",
       "       [ 0.,  0.,  0.,  0.,  0.,  0.,  0.,  0.,  1.,  0.]], dtype=float32)"
      ]
     },
     "execution_count": 10,
     "metadata": {},
     "output_type": "execute_result"
    }
   ],
   "source": [
    "np.round(model.predict_generator(batches, int(np.ceil(batches.samples/batch_size)))[:10],2)"
   ]
  },
  {
   "cell_type": "markdown",
   "metadata": {},
   "source": [
    "Our hypothesis was correct. It's nearly always predicting class 1 or 6, with very high confidence. So let's try a lower learning rate:"
   ]
  },
  {
   "cell_type": "code",
   "execution_count": 11,
   "metadata": {
    "ExecuteTime": {
     "end_time": "2018-01-10T12:04:33.099949Z",
     "start_time": "2018-01-10T12:04:14.443739Z"
    }
   },
   "outputs": [
    {
     "name": "stdout",
     "output_type": "stream",
     "text": [
      "Epoch 1/2\n",
      "24/24 [==============================] - 10s 415ms/step - loss: 2.3957 - acc: 0.1707 - val_loss: 3.9526 - val_acc: 0.1670\n",
      "Epoch 2/2\n",
      "24/24 [==============================] - 7s 305ms/step - loss: 1.7573 - acc: 0.4270 - val_loss: 2.4417 - val_acc: 0.2990\n"
     ]
    },
    {
     "data": {
      "text/plain": [
       "<keras.callbacks.History at 0x7fb1f5467be0>"
      ]
     },
     "execution_count": 11,
     "metadata": {},
     "output_type": "execute_result"
    }
   ],
   "source": [
    "model = Sequential([\n",
    "        BatchNormalization(axis=1, input_shape=(3,224,224)),\n",
    "        Flatten(),\n",
    "        Dense(10, activation='softmax')\n",
    "    ])\n",
    "model.compile(Adam(lr=1e-5), loss='categorical_crossentropy', metrics=['accuracy'])\n",
    "model.fit_generator(batches, steps_per_epoch, epochs=2, validation_data=val_batches, \n",
    "                 validation_steps=validation_steps)"
   ]
  },
  {
   "cell_type": "markdown",
   "metadata": {},
   "source": [
    "Great - we found our way out of that hole... Now we can increase the learning rate and see where we can get to."
   ]
  },
  {
   "cell_type": "code",
   "execution_count": 12,
   "metadata": {
    "ExecuteTime": {
     "end_time": "2018-01-10T12:04:33.105798Z",
     "start_time": "2018-01-10T12:04:33.102735Z"
    }
   },
   "outputs": [],
   "source": [
    "model.optimizer.lr=0.001"
   ]
  },
  {
   "cell_type": "code",
   "execution_count": 13,
   "metadata": {
    "ExecuteTime": {
     "end_time": "2018-01-10T12:05:04.708298Z",
     "start_time": "2018-01-10T12:04:33.108539Z"
    }
   },
   "outputs": [
    {
     "name": "stdout",
     "output_type": "stream",
     "text": [
      "Epoch 1/4\n",
      "24/24 [==============================] - 10s 409ms/step - loss: 1.4028 - acc: 0.5811 - val_loss: 1.7973 - val_acc: 0.3920\n",
      "Epoch 2/4\n",
      "24/24 [==============================] - 7s 304ms/step - loss: 1.1988 - acc: 0.6606 - val_loss: 1.3711 - val_acc: 0.5520\n",
      "Epoch 3/4\n",
      "24/24 [==============================] - 7s 304ms/step - loss: 0.9956 - acc: 0.7669 - val_loss: 1.0795 - val_acc: 0.6790\n",
      "Epoch 4/4\n",
      "24/24 [==============================] - 7s 296ms/step - loss: 0.8564 - acc: 0.8254 - val_loss: 1.0032 - val_acc: 0.6910\n"
     ]
    },
    {
     "data": {
      "text/plain": [
       "<keras.callbacks.History at 0x7fb1f58ca0b8>"
      ]
     },
     "execution_count": 13,
     "metadata": {},
     "output_type": "execute_result"
    }
   ],
   "source": [
    "model.fit_generator(batches, steps_per_epoch, epochs=4, validation_data=val_batches, \n",
    "                 validation_steps=validation_steps)"
   ]
  },
  {
   "cell_type": "markdown",
   "metadata": {},
   "source": [
    "We're stabilizing at validation accuracy of 0.39. Not great, but a lot better than random. Before moving on, let's check that our validation set on the sample is large enough that it gives consistent results:"
   ]
  },
  {
   "cell_type": "code",
   "execution_count": 14,
   "metadata": {
    "ExecuteTime": {
     "end_time": "2018-01-10T12:05:04.819942Z",
     "start_time": "2018-01-10T12:05:04.710788Z"
    },
    "scrolled": true
   },
   "outputs": [
    {
     "name": "stdout",
     "output_type": "stream",
     "text": [
      "Found 1000 images belonging to 10 classes.\n"
     ]
    }
   ],
   "source": [
    "rnd_batches = get_batches(path+'valid', batch_size=batch_size*2, shuffle=True)"
   ]
  },
  {
   "cell_type": "code",
   "execution_count": 15,
   "metadata": {
    "ExecuteTime": {
     "end_time": "2018-01-10T12:05:52.334547Z",
     "start_time": "2018-01-10T12:05:04.821621Z"
    }
   },
   "outputs": [
    {
     "data": {
      "text/plain": [
       "array([[ 1.  ,  0.69],\n",
       "       [ 1.  ,  0.69],\n",
       "       [ 1.  ,  0.69],\n",
       "       [ 1.  ,  0.69],\n",
       "       [ 1.  ,  0.69],\n",
       "       [ 1.  ,  0.69],\n",
       "       [ 1.  ,  0.69],\n",
       "       [ 1.  ,  0.69],\n",
       "       [ 1.  ,  0.69],\n",
       "       [ 1.  ,  0.69]])"
      ]
     },
     "execution_count": 15,
     "metadata": {},
     "output_type": "execute_result"
    }
   ],
   "source": [
    "val_res = [model.evaluate_generator(rnd_batches, int(np.ceil(rnd_batches.samples/(batch_size*2)))) for i in range(10)]\n",
    "np.round(val_res, 2)"
   ]
  },
  {
   "cell_type": "markdown",
   "metadata": {},
   "source": [
    "Yup, pretty consistent - if we see improvements of 3% or more, it's probably not random, based on the above samples."
   ]
  },
  {
   "cell_type": "markdown",
   "metadata": {},
   "source": [
    "### L2 regularization"
   ]
  },
  {
   "cell_type": "markdown",
   "metadata": {},
   "source": [
    "The previous model is over-fitting a lot, but we can't use dropout since we only have one layer. We can try to decrease overfitting in our model by adding [l2 regularization](http://www.kdnuggets.com/2015/04/preventing-overfitting-neural-networks.html/2) (i.e. add the sum of squares of the weights to our loss function):"
   ]
  },
  {
   "cell_type": "code",
   "execution_count": 16,
   "metadata": {
    "ExecuteTime": {
     "end_time": "2018-01-10T12:06:26.229968Z",
     "start_time": "2018-01-10T12:06:05.807673Z"
    }
   },
   "outputs": [
    {
     "name": "stdout",
     "output_type": "stream",
     "text": [
      "Epoch 1/2\n",
      "24/24 [==============================] - 10s 415ms/step - loss: 6.2808 - acc: 0.2777 - val_loss: 10.7599 - val_acc: 0.2000\n",
      "Epoch 2/2\n",
      "24/24 [==============================] - 7s 301ms/step - loss: 4.5643 - acc: 0.5124 - val_loss: 8.4116 - val_acc: 0.2180\n"
     ]
    },
    {
     "data": {
      "text/plain": [
       "<keras.callbacks.History at 0x7fb1f49d7940>"
      ]
     },
     "execution_count": 16,
     "metadata": {},
     "output_type": "execute_result"
    }
   ],
   "source": [
    "model = Sequential([\n",
    "        BatchNormalization(axis=1, input_shape=(3,224,224)),\n",
    "        Flatten(),\n",
    "        Dense(10, activation='softmax', kernel_regularizer=l2(0.01))\n",
    "    ])\n",
    "model.compile(Adam(lr=10e-5), loss='categorical_crossentropy', metrics=['accuracy'])\n",
    "model.fit_generator(batches, steps_per_epoch, epochs=2, validation_data=val_batches, \n",
    "                 validation_steps=validation_steps)"
   ]
  },
  {
   "cell_type": "code",
   "execution_count": 17,
   "metadata": {
    "ExecuteTime": {
     "end_time": "2018-01-10T12:06:26.236406Z",
     "start_time": "2018-01-10T12:06:26.232795Z"
    }
   },
   "outputs": [],
   "source": [
    "model.optimizer.lr=0.001"
   ]
  },
  {
   "cell_type": "code",
   "execution_count": 18,
   "metadata": {
    "ExecuteTime": {
     "end_time": "2018-01-10T12:07:01.445576Z",
     "start_time": "2018-01-10T12:06:26.238975Z"
    }
   },
   "outputs": [
    {
     "name": "stdout",
     "output_type": "stream",
     "text": [
      "Epoch 1/4\n",
      "24/24 [==============================] - 10s 411ms/step - loss: 3.5331 - acc: 0.6398 - val_loss: 4.6595 - val_acc: 0.4990\n",
      "Epoch 2/4\n",
      "24/24 [==============================] - 11s 454ms/step - loss: 3.0844 - acc: 0.7655 - val_loss: 3.7578 - val_acc: 0.6730\n",
      "Epoch 3/4\n",
      "24/24 [==============================] - 7s 302ms/step - loss: 3.0602 - acc: 0.8005 - val_loss: 3.6378 - val_acc: 0.6990\n",
      "Epoch 4/4\n",
      "24/24 [==============================] - 7s 297ms/step - loss: 2.9341 - acc: 0.8282 - val_loss: 3.6043 - val_acc: 0.7140\n"
     ]
    },
    {
     "data": {
      "text/plain": [
       "<keras.callbacks.History at 0x7fb1f49024e0>"
      ]
     },
     "execution_count": 18,
     "metadata": {},
     "output_type": "execute_result"
    }
   ],
   "source": [
    "model.fit_generator(batches, steps_per_epoch, epochs=4, validation_data=val_batches, \n",
    "                 validation_steps=validation_steps)"
   ]
  },
  {
   "cell_type": "markdown",
   "metadata": {},
   "source": [
    "Looks like we can get a bit over 50% accuracy this way. This will be a good benchmark for our future models - if we can't beat 50%, then we're not even beating a linear model trained on a sample, so we'll know that's not a good approach."
   ]
  },
  {
   "cell_type": "markdown",
   "metadata": {},
   "source": [
    "### Single hidden layer"
   ]
  },
  {
   "cell_type": "markdown",
   "metadata": {},
   "source": [
    "The next simplest model is to add a single hidden layer."
   ]
  },
  {
   "cell_type": "code",
   "execution_count": 19,
   "metadata": {
    "ExecuteTime": {
     "end_time": "2018-01-10T12:08:01.529627Z",
     "start_time": "2018-01-10T12:07:01.447025Z"
    }
   },
   "outputs": [
    {
     "name": "stdout",
     "output_type": "stream",
     "text": [
      "Epoch 1/2\n",
      "24/24 [==============================] - 10s 419ms/step - loss: 2.1258 - acc: 0.2935 - val_loss: 6.5839 - val_acc: 0.2170\n",
      "Epoch 2/2\n",
      "24/24 [==============================] - 7s 306ms/step - loss: 1.1776 - acc: 0.6712 - val_loss: 2.4076 - val_acc: 0.3600\n",
      "Epoch 1/5\n",
      "24/24 [==============================] - 10s 412ms/step - loss: 0.7388 - acc: 0.8476 - val_loss: 1.4086 - val_acc: 0.5210\n",
      "Epoch 2/5\n",
      "24/24 [==============================] - 7s 302ms/step - loss: 0.4562 - acc: 0.9350 - val_loss: 0.9815 - val_acc: 0.6730\n",
      "Epoch 3/5\n",
      "24/24 [==============================] - 7s 298ms/step - loss: 0.3088 - acc: 0.9707 - val_loss: 0.7960 - val_acc: 0.7710\n",
      "Epoch 4/5\n",
      "24/24 [==============================] - 7s 300ms/step - loss: 0.2147 - acc: 0.9883 - val_loss: 0.5896 - val_acc: 0.8690\n",
      "Epoch 5/5\n",
      "24/24 [==============================] - 7s 303ms/step - loss: 0.1586 - acc: 0.9966 - val_loss: 0.5113 - val_acc: 0.9060\n"
     ]
    },
    {
     "data": {
      "text/plain": [
       "<keras.callbacks.History at 0x7fb1cd3ad0b8>"
      ]
     },
     "execution_count": 19,
     "metadata": {},
     "output_type": "execute_result"
    }
   ],
   "source": [
    "model = Sequential([\n",
    "        BatchNormalization(axis=1, input_shape=(3,224,224)),\n",
    "        Flatten(),\n",
    "        Dense(100, activation='relu'),\n",
    "        BatchNormalization(),\n",
    "        Dense(10, activation='softmax')\n",
    "    ])\n",
    "model.compile(Adam(lr=1e-5), loss='categorical_crossentropy', metrics=['accuracy'])\n",
    "model.fit_generator(batches, steps_per_epoch, epochs=2, validation_data=val_batches, \n",
    "                 validation_steps=validation_steps)\n",
    "\n",
    "model.optimizer.lr = 0.01\n",
    "model.fit_generator(batches, steps_per_epoch, epochs=5, validation_data=val_batches, \n",
    "                 validation_steps=validation_steps)"
   ]
  },
  {
   "cell_type": "markdown",
   "metadata": {},
   "source": [
    "Not looking very encouraging... which isn't surprising since we know that CNNs are a much better choice for computer vision problems. So we'll try one."
   ]
  },
  {
   "cell_type": "markdown",
   "metadata": {},
   "source": [
    "### Single conv layer"
   ]
  },
  {
   "cell_type": "markdown",
   "metadata": {},
   "source": [
    "2 conv layers with max pooling followed by a simple dense network is a good simple CNN to start with:"
   ]
  },
  {
   "cell_type": "code",
   "execution_count": 20,
   "metadata": {
    "ExecuteTime": {
     "end_time": "2018-01-10T12:08:35.760573Z",
     "start_time": "2018-01-10T12:08:35.728661Z"
    }
   },
   "outputs": [],
   "source": [
    "def conv1(batches):\n",
    "    model = Sequential([\n",
    "            BatchNormalization(axis=1, input_shape=(3,224,224)),\n",
    "            Conv2D(32,(3,3), activation='relu'),\n",
    "            BatchNormalization(axis=1),\n",
    "            MaxPooling2D((3,3)),\n",
    "            Conv2D(64,(3,3), activation='relu'),\n",
    "            BatchNormalization(axis=1),\n",
    "            MaxPooling2D((3,3)),\n",
    "            Flatten(),\n",
    "            Dense(200, activation='relu'),\n",
    "            BatchNormalization(),\n",
    "            Dense(10, activation='softmax')\n",
    "        ])\n",
    "\n",
    "    model.compile(Adam(lr=1e-4), loss='categorical_crossentropy', metrics=['accuracy'])\n",
    "    model.fit_generator(batches, steps_per_epoch, epochs=2, validation_data=val_batches, \n",
    "                     validation_steps=validation_steps)\n",
    "    model.optimizer.lr = 0.001\n",
    "    model.fit_generator(batches, steps_per_epoch, epochs=4, validation_data=val_batches, \n",
    "                     validation_steps=validation_steps)\n",
    "    return model"
   ]
  },
  {
   "cell_type": "code",
   "execution_count": 21,
   "metadata": {
    "ExecuteTime": {
     "end_time": "2018-01-10T12:09:58.636185Z",
     "start_time": "2018-01-10T12:08:36.320369Z"
    }
   },
   "outputs": [
    {
     "name": "stdout",
     "output_type": "stream",
     "text": [
      "Epoch 1/2\n",
      "24/24 [==============================] - 14s 579ms/step - loss: 1.6482 - acc: 0.5001 - val_loss: 2.0257 - val_acc: 0.3220\n",
      "Epoch 2/2\n",
      "24/24 [==============================] - 13s 528ms/step - loss: 0.3435 - acc: 0.9365 - val_loss: 1.7710 - val_acc: 0.4580\n",
      "Epoch 1/4\n",
      "24/24 [==============================] - 14s 593ms/step - loss: 0.1012 - acc: 0.9935 - val_loss: 1.9505 - val_acc: 0.3610\n",
      "Epoch 2/4\n",
      "24/24 [==============================] - 9s 378ms/step - loss: 0.0423 - acc: 1.0000 - val_loss: 2.1335 - val_acc: 0.3540\n",
      "Epoch 3/4\n",
      "24/24 [==============================] - 9s 370ms/step - loss: 0.0218 - acc: 1.0000 - val_loss: 2.2278 - val_acc: 0.3530\n",
      "Epoch 4/4\n",
      "24/24 [==============================] - 9s 370ms/step - loss: 0.0155 - acc: 1.0000 - val_loss: 2.2392 - val_acc: 0.3510\n"
     ]
    },
    {
     "data": {
      "text/plain": [
       "<keras.models.Sequential at 0x7fb1cd3b76a0>"
      ]
     },
     "execution_count": 21,
     "metadata": {},
     "output_type": "execute_result"
    }
   ],
   "source": [
    "conv1(batches)"
   ]
  },
  {
   "cell_type": "markdown",
   "metadata": {},
   "source": [
    "The training set here is very rapidly reaching a very high accuracy. So if we could regularize this, perhaps we could get a reasonable result.\n",
    "\n",
    "So, what kind of regularization should we try first? As we discussed in lesson 3, we should start with data augmentation."
   ]
  },
  {
   "cell_type": "markdown",
   "metadata": {},
   "source": [
    "## Data augmentation"
   ]
  },
  {
   "cell_type": "markdown",
   "metadata": {},
   "source": [
    "To find the best data augmentation parameters, we can try each type of data augmentation, one at a time. For each type, we can try four very different levels of augmentation, and see which is the best. In the steps below we've only kept the single best result we found. We're using the CNN we defined above, since we have already observed it can model the data quickly and accurately."
   ]
  },
  {
   "cell_type": "markdown",
   "metadata": {},
   "source": [
    "Width shift: move the image left and right -"
   ]
  },
  {
   "cell_type": "code",
   "execution_count": 22,
   "metadata": {
    "ExecuteTime": {
     "end_time": "2018-01-10T12:10:43.788707Z",
     "start_time": "2018-01-10T12:10:43.679972Z"
    }
   },
   "outputs": [
    {
     "name": "stdout",
     "output_type": "stream",
     "text": [
      "Found 1500 images belonging to 10 classes.\n"
     ]
    }
   ],
   "source": [
    "gen_t = image.ImageDataGenerator(width_shift_range=0.1)\n",
    "batches = get_batches(path+'train', gen_t, batch_size=batch_size)"
   ]
  },
  {
   "cell_type": "code",
   "execution_count": 23,
   "metadata": {
    "ExecuteTime": {
     "end_time": "2018-01-10T12:12:27.263484Z",
     "start_time": "2018-01-10T12:10:44.127232Z"
    },
    "scrolled": true
   },
   "outputs": [
    {
     "name": "stdout",
     "output_type": "stream",
     "text": [
      "Epoch 1/2\n",
      "24/24 [==============================] - 23s 942ms/step - loss: 2.1960 - acc: 0.3186 - val_loss: 2.3333 - val_acc: 0.1860\n",
      "Epoch 2/2\n",
      "24/24 [==============================] - 12s 493ms/step - loss: 1.2196 - acc: 0.6140 - val_loss: 1.8536 - val_acc: 0.3150\n",
      "Epoch 1/4\n",
      "24/24 [==============================] - 18s 750ms/step - loss: 0.8203 - acc: 0.7581 - val_loss: 2.1126 - val_acc: 0.2210\n",
      "Epoch 2/4\n",
      "24/24 [==============================] - 14s 579ms/step - loss: 0.6040 - acc: 0.8186 - val_loss: 2.1821 - val_acc: 0.2440\n",
      "Epoch 3/4\n",
      "24/24 [==============================] - 14s 580ms/step - loss: 0.4531 - acc: 0.8806 - val_loss: 2.1092 - val_acc: 0.3410\n",
      "Epoch 4/4\n",
      "24/24 [==============================] - 14s 579ms/step - loss: 0.3807 - acc: 0.8951 - val_loss: 2.0756 - val_acc: 0.4050\n"
     ]
    }
   ],
   "source": [
    "model = conv1(batches)"
   ]
  },
  {
   "cell_type": "markdown",
   "metadata": {},
   "source": [
    "Height shift: move the image up and down -"
   ]
  },
  {
   "cell_type": "code",
   "execution_count": 24,
   "metadata": {
    "ExecuteTime": {
     "end_time": "2018-01-10T12:12:27.375549Z",
     "start_time": "2018-01-10T12:12:27.266036Z"
    }
   },
   "outputs": [
    {
     "name": "stdout",
     "output_type": "stream",
     "text": [
      "Found 1500 images belonging to 10 classes.\n"
     ]
    }
   ],
   "source": [
    "gen_t = image.ImageDataGenerator(height_shift_range=0.05)\n",
    "batches = get_batches(path+'train', gen_t, batch_size=batch_size)"
   ]
  },
  {
   "cell_type": "code",
   "execution_count": 25,
   "metadata": {
    "ExecuteTime": {
     "end_time": "2018-01-10T12:14:11.468121Z",
     "start_time": "2018-01-10T12:12:27.378201Z"
    },
    "scrolled": true
   },
   "outputs": [
    {
     "name": "stdout",
     "output_type": "stream",
     "text": [
      "Epoch 1/2\n",
      "24/24 [==============================] - 22s 908ms/step - loss: 1.9735 - acc: 0.3839 - val_loss: 2.4732 - val_acc: 0.3150\n",
      "Epoch 2/2\n",
      "24/24 [==============================] - 12s 481ms/step - loss: 0.8101 - acc: 0.7655 - val_loss: 1.8873 - val_acc: 0.3630\n",
      "Epoch 1/4\n",
      "24/24 [==============================] - 18s 753ms/step - loss: 0.4499 - acc: 0.8867 - val_loss: 1.7647 - val_acc: 0.4560\n",
      "Epoch 2/4\n",
      "24/24 [==============================] - 14s 581ms/step - loss: 0.3107 - acc: 0.9228 - val_loss: 1.9022 - val_acc: 0.4630\n",
      "Epoch 3/4\n",
      "24/24 [==============================] - 18s 742ms/step - loss: 0.2011 - acc: 0.9550 - val_loss: 1.8878 - val_acc: 0.5090\n",
      "Epoch 4/4\n",
      "24/24 [==============================] - 12s 489ms/step - loss: 0.1264 - acc: 0.9811 - val_loss: 1.8655 - val_acc: 0.4660\n"
     ]
    }
   ],
   "source": [
    "model = conv1(batches)"
   ]
  },
  {
   "cell_type": "markdown",
   "metadata": {},
   "source": [
    "Random shear angles (max in radians) -"
   ]
  },
  {
   "cell_type": "code",
   "execution_count": 26,
   "metadata": {
    "ExecuteTime": {
     "end_time": "2018-01-10T12:14:11.579012Z",
     "start_time": "2018-01-10T12:14:11.470869Z"
    }
   },
   "outputs": [
    {
     "name": "stdout",
     "output_type": "stream",
     "text": [
      "Found 1500 images belonging to 10 classes.\n"
     ]
    }
   ],
   "source": [
    "gen_t = image.ImageDataGenerator(shear_range=0.1)\n",
    "batches = get_batches(path+'train', gen_t, batch_size=batch_size)"
   ]
  },
  {
   "cell_type": "code",
   "execution_count": 27,
   "metadata": {
    "ExecuteTime": {
     "end_time": "2018-01-10T12:15:54.331531Z",
     "start_time": "2018-01-10T12:14:11.580944Z"
    },
    "scrolled": true
   },
   "outputs": [
    {
     "name": "stdout",
     "output_type": "stream",
     "text": [
      "Epoch 1/2\n",
      "24/24 [==============================] - 22s 905ms/step - loss: 1.7841 - acc: 0.4568 - val_loss: 2.6987 - val_acc: 0.2940\n",
      "Epoch 2/2\n",
      "24/24 [==============================] - 11s 476ms/step - loss: 0.5644 - acc: 0.8706 - val_loss: 1.5810 - val_acc: 0.4380\n",
      "Epoch 1/4\n",
      "24/24 [==============================] - 18s 754ms/step - loss: 0.2567 - acc: 0.9564 - val_loss: 1.6566 - val_acc: 0.4320\n",
      "Epoch 2/4\n",
      "24/24 [==============================] - 14s 590ms/step - loss: 0.1374 - acc: 0.9803 - val_loss: 1.7822 - val_acc: 0.3530\n",
      "Epoch 3/4\n",
      "24/24 [==============================] - 14s 584ms/step - loss: 0.0785 - acc: 0.9954 - val_loss: 1.9308 - val_acc: 0.2880\n",
      "Epoch 4/4\n",
      "24/24 [==============================] - 14s 590ms/step - loss: 0.0533 - acc: 0.9974 - val_loss: 1.9411 - val_acc: 0.3320\n"
     ]
    }
   ],
   "source": [
    "model = conv1(batches)"
   ]
  },
  {
   "cell_type": "markdown",
   "metadata": {},
   "source": [
    "Rotation: max in degrees -"
   ]
  },
  {
   "cell_type": "code",
   "execution_count": 28,
   "metadata": {
    "ExecuteTime": {
     "end_time": "2018-01-10T12:15:54.442245Z",
     "start_time": "2018-01-10T12:15:54.334180Z"
    }
   },
   "outputs": [
    {
     "name": "stdout",
     "output_type": "stream",
     "text": [
      "Found 1500 images belonging to 10 classes.\n"
     ]
    }
   ],
   "source": [
    "gen_t = image.ImageDataGenerator(rotation_range=15)\n",
    "batches = get_batches(path+'train', gen_t, batch_size=batch_size)"
   ]
  },
  {
   "cell_type": "code",
   "execution_count": 29,
   "metadata": {
    "ExecuteTime": {
     "end_time": "2018-01-10T12:17:38.522279Z",
     "start_time": "2018-01-10T12:15:54.444870Z"
    },
    "scrolled": true
   },
   "outputs": [
    {
     "name": "stdout",
     "output_type": "stream",
     "text": [
      "Epoch 1/2\n",
      "24/24 [==============================] - 18s 760ms/step - loss: 2.1598 - acc: 0.3401 - val_loss: 2.1741 - val_acc: 0.2620\n",
      "Epoch 2/2\n",
      "24/24 [==============================] - 14s 584ms/step - loss: 1.0411 - acc: 0.6836 - val_loss: 1.9610 - val_acc: 0.3160\n",
      "Epoch 1/4\n",
      "24/24 [==============================] - 22s 917ms/step - loss: 0.6806 - acc: 0.8063 - val_loss: 2.0874 - val_acc: 0.3160\n",
      "Epoch 2/4\n",
      "24/24 [==============================] - 12s 480ms/step - loss: 0.4594 - acc: 0.8808 - val_loss: 2.3098 - val_acc: 0.2480\n",
      "Epoch 3/4\n",
      "24/24 [==============================] - 14s 598ms/step - loss: 0.3546 - acc: 0.9056 - val_loss: 2.2914 - val_acc: 0.2670\n",
      "Epoch 4/4\n",
      "24/24 [==============================] - 14s 588ms/step - loss: 0.2598 - acc: 0.9400 - val_loss: 2.3044 - val_acc: 0.3030\n"
     ]
    }
   ],
   "source": [
    "model = conv1(batches)"
   ]
  },
  {
   "cell_type": "markdown",
   "metadata": {},
   "source": [
    "Channel shift: randomly changing the R,G,B colors - "
   ]
  },
  {
   "cell_type": "code",
   "execution_count": 30,
   "metadata": {
    "ExecuteTime": {
     "end_time": "2018-01-10T12:17:38.636583Z",
     "start_time": "2018-01-10T12:17:38.525084Z"
    }
   },
   "outputs": [
    {
     "name": "stdout",
     "output_type": "stream",
     "text": [
      "Found 1500 images belonging to 10 classes.\n"
     ]
    }
   ],
   "source": [
    "gen_t = image.ImageDataGenerator(channel_shift_range=20)\n",
    "batches = get_batches(path+'train', gen_t, batch_size=batch_size)"
   ]
  },
  {
   "cell_type": "code",
   "execution_count": 31,
   "metadata": {
    "ExecuteTime": {
     "end_time": "2018-01-10T12:18:43.599389Z",
     "start_time": "2018-01-10T12:17:38.638283Z"
    },
    "scrolled": true
   },
   "outputs": [
    {
     "name": "stdout",
     "output_type": "stream",
     "text": [
      "Epoch 1/2\n",
      "24/24 [==============================] - 10s 437ms/step - loss: 1.7513 - acc: 0.4785 - val_loss: 1.9210 - val_acc: 0.3480\n",
      "Epoch 2/2\n",
      "24/24 [==============================] - 9s 371ms/step - loss: 0.4443 - acc: 0.9005 - val_loss: 1.6773 - val_acc: 0.4710\n",
      "Epoch 1/4\n",
      "24/24 [==============================] - 11s 440ms/step - loss: 0.1581 - acc: 0.9759 - val_loss: 1.7266 - val_acc: 0.4550\n",
      "Epoch 2/4\n",
      "24/24 [==============================] - 13s 530ms/step - loss: 0.0651 - acc: 0.9972 - val_loss: 1.8107 - val_acc: 0.4330\n",
      "Epoch 3/4\n",
      "24/24 [==============================] - 9s 384ms/step - loss: 0.0307 - acc: 1.0000 - val_loss: 1.8463 - val_acc: 0.4370\n",
      "Epoch 4/4\n",
      "24/24 [==============================] - 9s 380ms/step - loss: 0.0177 - acc: 1.0000 - val_loss: 1.8323 - val_acc: 0.4170\n"
     ]
    }
   ],
   "source": [
    "model = conv1(batches)"
   ]
  },
  {
   "cell_type": "markdown",
   "metadata": {},
   "source": [
    "And finally, putting it all together!"
   ]
  },
  {
   "cell_type": "code",
   "execution_count": 32,
   "metadata": {
    "ExecuteTime": {
     "end_time": "2018-01-10T12:18:43.710730Z",
     "start_time": "2018-01-10T12:18:43.601767Z"
    }
   },
   "outputs": [
    {
     "name": "stdout",
     "output_type": "stream",
     "text": [
      "Found 1500 images belonging to 10 classes.\n"
     ]
    }
   ],
   "source": [
    "gen_t = image.ImageDataGenerator(rotation_range=15, height_shift_range=0.05, \n",
    "                shear_range=0.1, channel_shift_range=20, width_shift_range=0.1)\n",
    "batches = get_batches(path+'train', gen_t, batch_size=batch_size)"
   ]
  },
  {
   "cell_type": "code",
   "execution_count": 33,
   "metadata": {
    "ExecuteTime": {
     "end_time": "2018-01-10T12:20:31.500603Z",
     "start_time": "2018-01-10T12:18:43.712361Z"
    },
    "scrolled": true
   },
   "outputs": [
    {
     "name": "stdout",
     "output_type": "stream",
     "text": [
      "Epoch 1/2\n",
      "24/24 [==============================] - 19s 779ms/step - loss: 2.4391 - acc: 0.2263 - val_loss: 2.4587 - val_acc: 0.2390\n",
      "Epoch 2/2\n",
      "24/24 [==============================] - 19s 774ms/step - loss: 1.8407 - acc: 0.3868 - val_loss: 1.9039 - val_acc: 0.3680\n",
      "Epoch 1/4\n",
      "24/24 [==============================] - 22s 933ms/step - loss: 1.5542 - acc: 0.4849 - val_loss: 1.9373 - val_acc: 0.3300\n",
      "Epoch 2/4\n",
      "24/24 [==============================] - 12s 493ms/step - loss: 1.3974 - acc: 0.5381 - val_loss: 2.0541 - val_acc: 0.2020\n",
      "Epoch 3/4\n",
      "24/24 [==============================] - 15s 606ms/step - loss: 1.2788 - acc: 0.5787 - val_loss: 2.2025 - val_acc: 0.1740\n",
      "Epoch 4/4\n",
      "24/24 [==============================] - 15s 607ms/step - loss: 1.1586 - acc: 0.6207 - val_loss: 2.3139 - val_acc: 0.1390\n"
     ]
    }
   ],
   "source": [
    "model = conv1(batches)"
   ]
  },
  {
   "cell_type": "markdown",
   "metadata": {},
   "source": [
    "At first glance, this isn't looking encouraging, since the validation set is poor and getting worse. But the training set is getting better, and still has a long way to go in accuracy - so we should try annealing our learning rate and running more epochs, before we make a decisions."
   ]
  },
  {
   "cell_type": "code",
   "execution_count": 34,
   "metadata": {
    "ExecuteTime": {
     "end_time": "2018-01-10T12:21:54.966228Z",
     "start_time": "2018-01-10T12:20:31.503441Z"
    },
    "scrolled": true
   },
   "outputs": [
    {
     "name": "stdout",
     "output_type": "stream",
     "text": [
      "Epoch 1/5\n",
      "24/24 [==============================] - 19s 792ms/step - loss: 1.1171 - acc: 0.6365 - val_loss: 2.3372 - val_acc: 0.1660\n",
      "Epoch 2/5\n",
      "24/24 [==============================] - 18s 764ms/step - loss: 1.0486 - acc: 0.6621 - val_loss: 2.3370 - val_acc: 0.2090\n",
      "Epoch 3/5\n",
      "24/24 [==============================] - 12s 498ms/step - loss: 0.9903 - acc: 0.6737 - val_loss: 2.1373 - val_acc: 0.2760\n",
      "Epoch 4/5\n",
      "24/24 [==============================] - 18s 764ms/step - loss: 0.9099 - acc: 0.7065 - val_loss: 2.2080 - val_acc: 0.2590\n",
      "Epoch 5/5\n",
      "24/24 [==============================] - 16s 656ms/step - loss: 0.8636 - acc: 0.7277 - val_loss: 2.0751 - val_acc: 0.2880\n"
     ]
    },
    {
     "data": {
      "text/plain": [
       "<keras.callbacks.History at 0x7fb1c33ede48>"
      ]
     },
     "execution_count": 34,
     "metadata": {},
     "output_type": "execute_result"
    }
   ],
   "source": [
    "model.optimizer.lr = 0.0001\n",
    "model.fit_generator(batches, steps_per_epoch, epochs=5, validation_data=val_batches, \n",
    "                 validation_steps=validation_steps)"
   ]
  },
  {
   "cell_type": "markdown",
   "metadata": {},
   "source": [
    "Lucky we tried that - we starting to make progress! Let's keep going."
   ]
  },
  {
   "cell_type": "code",
   "execution_count": 35,
   "metadata": {
    "ExecuteTime": {
     "end_time": "2018-01-10T12:28:15.974789Z",
     "start_time": "2018-01-10T12:21:54.968823Z"
    },
    "scrolled": false
   },
   "outputs": [
    {
     "name": "stdout",
     "output_type": "stream",
     "text": [
      "Epoch 1/25\n",
      "24/24 [==============================] - 19s 776ms/step - loss: 0.7937 - acc: 0.7508 - val_loss: 1.8848 - val_acc: 0.3470\n",
      "Epoch 2/25\n",
      "24/24 [==============================] - 15s 615ms/step - loss: 0.7514 - acc: 0.7615 - val_loss: 1.6572 - val_acc: 0.3910\n",
      "Epoch 3/25\n",
      "24/24 [==============================] - 15s 615ms/step - loss: 0.7045 - acc: 0.7862 - val_loss: 1.4946 - val_acc: 0.4350\n",
      "Epoch 4/25\n",
      "24/24 [==============================] - 15s 610ms/step - loss: 0.6865 - acc: 0.7863 - val_loss: 1.4053 - val_acc: 0.4590\n",
      "Epoch 5/25\n",
      "24/24 [==============================] - 15s 615ms/step - loss: 0.6509 - acc: 0.7954 - val_loss: 0.9458 - val_acc: 0.6660\n",
      "Epoch 6/25\n",
      "24/24 [==============================] - 15s 607ms/step - loss: 0.6694 - acc: 0.7916 - val_loss: 1.0536 - val_acc: 0.6260\n",
      "Epoch 7/25\n",
      "24/24 [==============================] - 19s 773ms/step - loss: 0.6400 - acc: 0.8002 - val_loss: 0.9714 - val_acc: 0.6350\n",
      "Epoch 8/25\n",
      "24/24 [==============================] - 12s 497ms/step - loss: 0.5977 - acc: 0.8127 - val_loss: 0.6185 - val_acc: 0.8120\n",
      "Epoch 9/25\n",
      "24/24 [==============================] - 19s 778ms/step - loss: 0.5806 - acc: 0.8259 - val_loss: 0.6233 - val_acc: 0.7940\n",
      "Epoch 10/25\n",
      "24/24 [==============================] - 16s 670ms/step - loss: 0.5331 - acc: 0.8384 - val_loss: 0.5689 - val_acc: 0.8160\n",
      "Epoch 11/25\n",
      "24/24 [==============================] - 12s 499ms/step - loss: 0.5569 - acc: 0.8318 - val_loss: 0.5353 - val_acc: 0.8310\n",
      "Epoch 12/25\n",
      "24/24 [==============================] - 15s 605ms/step - loss: 0.5150 - acc: 0.8601 - val_loss: 0.5292 - val_acc: 0.8350\n",
      "Epoch 13/25\n",
      "24/24 [==============================] - 15s 608ms/step - loss: 0.4631 - acc: 0.8601 - val_loss: 0.4252 - val_acc: 0.8690\n",
      "Epoch 14/25\n",
      "24/24 [==============================] - 15s 614ms/step - loss: 0.4922 - acc: 0.8468 - val_loss: 0.4257 - val_acc: 0.8660\n",
      "Epoch 15/25\n",
      "24/24 [==============================] - 18s 769ms/step - loss: 0.4629 - acc: 0.8718 - val_loss: 0.4758 - val_acc: 0.8490\n",
      "Epoch 16/25\n",
      "24/24 [==============================] - 16s 647ms/step - loss: 0.4203 - acc: 0.8786 - val_loss: 0.3506 - val_acc: 0.8950\n",
      "Epoch 17/25\n",
      "24/24 [==============================] - 16s 659ms/step - loss: 0.3982 - acc: 0.8845 - val_loss: 0.3110 - val_acc: 0.9200\n",
      "Epoch 18/25\n",
      "24/24 [==============================] - 12s 511ms/step - loss: 0.4190 - acc: 0.8813 - val_loss: 0.2709 - val_acc: 0.9210\n",
      "Epoch 19/25\n",
      "24/24 [==============================] - 15s 626ms/step - loss: 0.3767 - acc: 0.8880 - val_loss: 0.2918 - val_acc: 0.9220\n",
      "Epoch 20/25\n",
      "24/24 [==============================] - 15s 609ms/step - loss: 0.3950 - acc: 0.8884 - val_loss: 0.3416 - val_acc: 0.9050\n",
      "Epoch 21/25\n",
      "24/24 [==============================] - 15s 609ms/step - loss: 0.3817 - acc: 0.8912 - val_loss: 0.2400 - val_acc: 0.9250\n",
      "Epoch 22/25\n",
      "24/24 [==============================] - 15s 606ms/step - loss: 0.3677 - acc: 0.8894 - val_loss: 0.2519 - val_acc: 0.9280\n",
      "Epoch 23/25\n",
      "24/24 [==============================] - 15s 616ms/step - loss: 0.3653 - acc: 0.8921 - val_loss: 0.2456 - val_acc: 0.9270\n",
      "Epoch 24/25\n",
      "24/24 [==============================] - 15s 616ms/step - loss: 0.3615 - acc: 0.8923 - val_loss: 0.2843 - val_acc: 0.9020\n",
      "Epoch 25/25\n",
      "24/24 [==============================] - 15s 615ms/step - loss: 0.3168 - acc: 0.9091 - val_loss: 0.2496 - val_acc: 0.9230\n"
     ]
    },
    {
     "data": {
      "text/plain": [
       "<keras.callbacks.History at 0x7fb1c3177710>"
      ]
     },
     "execution_count": 35,
     "metadata": {},
     "output_type": "execute_result"
    }
   ],
   "source": [
    "model.fit_generator(batches, steps_per_epoch, epochs=25, validation_data=val_batches, \n",
    "                 validation_steps=validation_steps)"
   ]
  },
  {
   "cell_type": "markdown",
   "metadata": {
    "collapsed": true
   },
   "source": [
    "Amazingly, using nothing but a small sample, a simple (not pre-trained) model with no dropout, and data augmentation, we're getting results that would get us into the top 50% of the competition! This looks like a great foundation for our futher experiments.\n",
    "\n",
    "To go further, we'll need to use the whole dataset, since dropout and data volumes are very related, so we can't tweak dropout without using all the data."
   ]
  },
  {
   "cell_type": "code",
   "execution_count": null,
   "metadata": {},
   "outputs": [],
   "source": []
  }
 ],
 "metadata": {
  "anaconda-cloud": {},
  "kernelspec": {
   "display_name": "Python 3",
   "language": "python",
   "name": "python3"
  },
  "language_info": {
   "codemirror_mode": {
    "name": "ipython",
    "version": 3
   },
   "file_extension": ".py",
   "mimetype": "text/x-python",
   "name": "python",
   "nbconvert_exporter": "python",
   "pygments_lexer": "ipython3",
   "version": "3.5.4"
  },
  "nav_menu": {},
  "nbpresent": {
   "slides": {
    "28b43202-5690-4169-9aca-6b9dabfeb3ec": {
     "id": "28b43202-5690-4169-9aca-6b9dabfeb3ec",
     "prev": null,
     "regions": {
      "3bba644a-cf4d-4a49-9fbd-e2554428cf9f": {
       "attrs": {
        "height": 0.8,
        "width": 0.8,
        "x": 0.1,
        "y": 0.1
       },
       "content": {
        "cell": "f3d3a388-7e2a-4151-9b50-c20498fceacc",
        "part": "whole"
       },
       "id": "3bba644a-cf4d-4a49-9fbd-e2554428cf9f"
      }
     }
    },
    "8104def2-4b68-44a0-8f1b-b03bf3b2a079": {
     "id": "8104def2-4b68-44a0-8f1b-b03bf3b2a079",
     "prev": "28b43202-5690-4169-9aca-6b9dabfeb3ec",
     "regions": {
      "7dded777-1ddf-4100-99ae-25cf1c15b575": {
       "attrs": {
        "height": 0.8,
        "width": 0.8,
        "x": 0.1,
        "y": 0.1
       },
       "content": {
        "cell": "fe47bd48-3414-4657-92e7-8b8d6cb0df00",
        "part": "whole"
       },
       "id": "7dded777-1ddf-4100-99ae-25cf1c15b575"
      }
     }
    }
   },
   "themes": {}
  },
  "toc": {
   "nav_menu": {
    "height": "148px",
    "width": "254px"
   },
   "navigate_menu": true,
   "number_sections": true,
   "sideBar": true,
   "threshold": 6,
   "toc_cell": false,
   "toc_section_display": "block",
   "toc_window_display": false
  },
  "widgets": {
   "state": {},
   "version": "1.1.2"
  }
 },
 "nbformat": 4,
 "nbformat_minor": 1
}
